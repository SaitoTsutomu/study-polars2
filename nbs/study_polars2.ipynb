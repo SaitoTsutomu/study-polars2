{
 "cells": [
  {
   "cell_type": "markdown",
   "id": "f2b46765-46d2-401b-b76c-32e0c2cf0f1f",
   "metadata": {
    "deletable": false,
    "editable": false,
    "frozen": true
   },
   "source": [
    "**Polars 100+ノック（2025年版）**\n",
    "\n",
    "# はじめに: Polarsによる高性能データ処理の世界へ\n",
    "\n",
    "このドキュメントは、最新のデータフレームライブラリであるPolarsの全機能を網羅的に学習するための実践的な演習集、「Polars 100+ノック」です。Polarsは、現代のマルチコアCPUの能力を最大限に引き出し、強力なクエリ最適化エンジンを搭載することで、驚異的な速度のデータ処理を実現するために開発されました 1。この100+ノックを通じて、Polarsの基本的な操作から高度な機能までを体系的に習得し、日々のデータ分析・処理業務を劇的に効率化することを目指します。\n",
    "\n",
    "## Polarsの核心をなす3つの柱\n",
    "\n",
    "Polarsを理解する上で中心となるのは、以下の3つの概念です。\n",
    "\n",
    "1. データ構造 (DataFrame / Series): Polarsの基本データ構造は、2次元のDataFrameと1次元のSeriesです。これらはApache Arrowのメモリモデルに基づいており、キャッシュ効率の高いカラムナ（列指向）データ構造を提供します。\n",
    "2. 式 (Expression) API: Polarsの最も強力な特徴の一つが「式 (Expression)」です。これは、Seriesを入力としSeriesを出力する一連の操作を定義するものです (Fn(Series) -> Series) 3。これにより、複雑なデータ変換を宣言的かつモジュール式に記述でき、Polarsのクエリオプティマイザが最適な実行計画を立てることが可能になります。\n",
    "3. 実行モード (Eager / Lazy): Polarsには2つの実行モードがあります。Eager（即時実行）モードは、コードが書かれた順に即座に処理が実行されます。一方、Lazy（遅延実行）モードでは、一連の操作はすぐには実行されず、計算グラフとして構築されます。最終的に実行が指示された時点で、クエリオプティマイザが全体の処理を最適化（例：不要な計算の省略、処理順序の変更）してから実行します。これにより、特に大規模なデータセットにおいて、メモリ使用量の削減と処理速度の大幅な向上が実現されます。\n"
   ]
  },
  {
   "cell_type": "markdown",
   "id": "d1c458b1-ee9f-4352-8904-5a14eb8254cf",
   "metadata": {
    "deletable": false,
    "editable": false,
    "frozen": true
   },
   "source": [
    "## 学習手順\n",
    "\n",
    "* 青いセルの説明を読む\n",
    "* 白いセルに問題の解答を書く\n",
    "* 黄色いセルを実行して確認する\n",
    "\n",
    "セル内でしか使わない変数は、`_`で始まります。\n",
    "\n",
    "## データについて\n",
    "\n",
    "データは下記からダウンロードしたものを用意しています。\n",
    "\n",
    "* https://www.kaggle.com/datasets/danbraswell/new-york-city-weather-18692022\n",
    "* https://www.kaggle.com/datasets/pankajvermacool/titanic-traincsv\n",
    "* https://www.kaggle.com/datasets/ahmadsamsulmuarif/online-retailcsv\n",
    "\n",
    "## 準備\n",
    "\n",
    "演習に必要なモジュールや演習のために用意したcolオブジェクトをインポートします。\n",
    "colオブジェクトを使って、列名のExprを取得できます。たとえば、`col.Name`は`pl.col(\"Name\")`と同じように使えます。\n",
    "\n",
    "**このノートブックを開いたときは、最初に下記のセルを実行するようにしてください**。"
   ]
  },
  {
   "cell_type": "code",
   "execution_count": null,
   "id": "ec942694-d44c-4cff-96de-0b4c83feebff",
   "metadata": {
    "deletable": true,
    "editable": true,
    "frozen": false
   },
   "outputs": [],
   "source": [
    "from datetime import date\n",
    "from textwrap import dedent\n",
    "import polars as pl\n",
    "import polars.selectors as cs\n",
    "from study_polars2.col import col"
   ]
  },
  {
   "cell_type": "markdown",
   "id": "0c234609-fc84-4f16-8b86-ab00b1cfd841",
   "metadata": {
    "deletable": true,
    "editable": true,
    "frozen": false
   },
   "source": [
    "---"
   ]
  },
  {
   "cell_type": "markdown",
   "id": "1b16e4c1-dcbe-43f7-a53b-305e91e531ed",
   "metadata": {
    "deletable": false,
    "editable": false,
    "frozen": true
   },
   "source": [
    "# Part 1: 基本編 - Polarsへの第一歩 (Knocks 1-20)\n",
    "\n",
    "このパートでは、Polarsを扱う上での基礎を固めます。DataFrameの作成、ファイルの読み込み、そして基本的なデータ検査と操作方法を学びます。\n",
    "\n",
    "## Section 1.1: DataFrameの作成とI/O (Knocks 1-10)\n"
   ]
  },
  {
   "cell_type": "markdown",
   "id": "0bec2b2d-fa74-44e4-afc5-f9ac6a40289e",
   "metadata": {
    "deletable": true,
    "editable": true,
    "frozen": false
   },
   "source": [
    "---"
   ]
  },
  {
   "cell_type": "markdown",
   "id": "af291519-160e-4899-bf68-6091523cc97d",
   "metadata": {
    "deletable": false,
    "editable": false,
    "frozen": true
   },
   "source": [
    "### `問題 1.1.1` Polarsのバージョン確認\n",
    "\n",
    "Polarsのバージョンを、変数`ans`に代入してください。\n",
    "\n",
    "**解答欄**"
   ]
  },
  {
   "cell_type": "code",
   "execution_count": null,
   "id": "3e7aece9-1046-425c-8a07-c5408ac341f5",
   "metadata": {
    "deletable": true,
    "editable": true,
    "frozen": false
   },
   "outputs": [],
   "source": [
    "# ここから解答を作成してください\n"
   ]
  },
  {
   "cell_type": "markdown",
   "id": "0e7ea687-ffa0-4abd-a971-bae1a5b16732",
   "metadata": {
    "deletable": false,
    "editable": false,
    "frozen": true
   },
   "source": [
    "<details><summary>解答例</summary>\n",
    "<br>\n",
    "\n",
    "```python\n",
    "ans = pl.__version__\n",
    "```\n",
    "</details>\n",
    "<br>\n",
    "\n",
    "**確認**"
   ]
  },
  {
   "cell_type": "code",
   "execution_count": null,
   "id": "177e4366-7932-4eb8-80cd-5161f11fc7dc",
   "metadata": {
    "deletable": false,
    "editable": false,
    "frozen": false,
    "jupyter": {
     "source_hidden": true
    }
   },
   "outputs": [],
   "source": [
    "# このセルを実行してください\n",
    "try:\n",
    "    _ans = pl.__version__\n",
    "    assert _ans == ans\n",
    "except NameError:\n",
    "    print(\"\\x1b[31mNG\\x1b[39m\")\n",
    "    print(\"上の準備のセルを最初に実行してください\")\n",
    "else:\n",
    "    print(\"\\x1b[32mOK\\x1b[39m\")"
   ]
  },
  {
   "cell_type": "markdown",
   "id": "abcb1e2b-35d5-4bdc-b166-4d94ea650d95",
   "metadata": {
    "deletable": true,
    "editable": true,
    "frozen": false
   },
   "source": [
    "---"
   ]
  },
  {
   "cell_type": "markdown",
   "id": "f6b5fdc4-8e14-44d8-a45b-34bc70c7b886",
   "metadata": {
    "deletable": false,
    "editable": false,
    "frozen": true
   },
   "source": [
    "### `問題 1.1.2` 辞書からDataFrame\n",
    "\n",
    "辞書からDataFrameを作成し、`df`に代入してください。\n",
    "\n",
    "**解答欄**"
   ]
  },
  {
   "cell_type": "code",
   "execution_count": null,
   "id": "de79cd47-fa28-49d9-a44b-f15ce95eee1b",
   "metadata": {
    "deletable": true,
    "editable": true,
    "frozen": false
   },
   "outputs": [],
   "source": [
    "_data = {\n",
    "    'id': [0, 1, 2],\n",
    "    'name': [\"Alice\", \"Bob\", \"Carol\"],\n",
    "    'age': [20, 18, 32],\n",
    "}\n",
    "# ここから解答を作成してください\n"
   ]
  },
  {
   "cell_type": "markdown",
   "id": "1cec480e-2bfb-438d-95d6-06a1519abf93",
   "metadata": {
    "deletable": false,
    "editable": false,
    "frozen": true
   },
   "source": [
    "<details><summary>解答例</summary>\n",
    "<br>\n",
    "\n",
    "```python\n",
    "df = pl.DataFrame(_data)\n",
    "df\n",
    "```\n",
    "</details>\n",
    "<br>\n",
    "\n",
    "**確認**"
   ]
  },
  {
   "cell_type": "code",
   "execution_count": null,
   "id": "3d6c9a3a-65b5-4788-a5ef-01af2369b0a4",
   "metadata": {
    "deletable": false,
    "editable": false,
    "frozen": false,
    "jupyter": {
     "source_hidden": true
    }
   },
   "outputs": [],
   "source": [
    "# このセルを実行してください\n",
    "try:\n",
    "    _ans = pl.DataFrame(_data)\n",
    "    assert _ans.equals(df)\n",
    "except (AssertionError, NameError):\n",
    "    print(\"\\x1b[31mNG\\x1b[39m\")\n",
    "    print(\"解答例を確認してください\")\n",
    "else:\n",
    "    print(\"\\x1b[32mOK\\x1b[39m\")\n",
    "    print(dedent(\"\"\"\\\n",
    "        解説: pl.DataFrame() コンストラクタは、Pythonの辞書やリストのリストなど、さまざまなデータソースからDataFrameを作成できます。\n",
    "        PolarsのDataFrameを表示すると、行数と列数（shape）、各列のデータ型（dtype）がヘッダーの下に表示されるのが特徴です。\n",
    "        これにより、データの構造を一目で把握できます。\n",
    "    \"\"\"))"
   ]
  },
  {
   "cell_type": "markdown",
   "id": "4abd19ac-66f6-4180-b825-50ef09c53cc7",
   "metadata": {
    "deletable": true,
    "editable": true,
    "frozen": false
   },
   "source": [
    "---"
   ]
  },
  {
   "cell_type": "markdown",
   "id": "5d8c21f7-ba81-4525-becc-2600f59a31ac",
   "metadata": {
    "deletable": false,
    "editable": false,
    "frozen": true
   },
   "source": [
    "### `問題 1.1.3` CSV読込\n",
    "\n",
    "CSVファイルを読み込んでDataFrameを作成し、`df_titanic`に代入してください。\n",
    "\n",
    "**解答欄**"
   ]
  },
  {
   "cell_type": "code",
   "execution_count": null,
   "id": "a1f2dd10-3ea9-4aca-9c71-dccd5b2a213d",
   "metadata": {
    "deletable": true,
    "editable": true,
    "frozen": false
   },
   "outputs": [],
   "source": [
    "_file = \"../data/titanic_train.csv\"\n",
    "# ここから解答を作成してください\n"
   ]
  },
  {
   "cell_type": "markdown",
   "id": "aafcc8d2-97d2-4209-bb25-9a9f64585c51",
   "metadata": {
    "deletable": false,
    "editable": false,
    "frozen": true
   },
   "source": [
    "<details><summary>解答例</summary>\n",
    "<br>\n",
    "\n",
    "```python\n",
    "df_titanic = pl.read_csv(_file)\n",
    "df_titanic[:3]\n",
    "```\n",
    "</details>\n",
    "<br>\n",
    "\n",
    "**確認**"
   ]
  },
  {
   "cell_type": "code",
   "execution_count": null,
   "id": "ac0da91c-13ad-4678-8112-29ed7cb4da91",
   "metadata": {
    "deletable": false,
    "editable": false,
    "frozen": false,
    "jupyter": {
     "source_hidden": true
    }
   },
   "outputs": [],
   "source": [
    "# このセルを実行してください\n",
    "try:\n",
    "    _ans = pl.read_csv(_file)\n",
    "    assert _ans.equals(df_titanic)\n",
    "except (AssertionError, NameError):\n",
    "    print(\"\\x1b[31mNG\\x1b[39m\")\n",
    "    print(\"解答例を確認してください\")\n",
    "else:\n",
    "    print(\"\\x1b[32mOK\\x1b[39m\")\n",
    "    print(dedent(\"\"\"\\\n",
    "        解説: pl.read_csv()は、CSVファイルを効率的に読み込むための関数です。\n",
    "        Polarsはスキーマ（各列のデータ型）を自動的に推論しますが、大規模なファイルを扱う場合や特定の型を強制したい場合は、infer_schema_lengthやschema_overrides引数を使用すると良いでしょう。\n",
    "\n",
    "        pl.read_csv()以外にも、Polarsは多様なデータソースの読み込みに対応しています。\n",
    "\n",
    "        * read_json / read_ndjson: JSONおよび改行区切りのJSONファイルを読み込むための関数です。Web APIやログデータなど、JSON形式のデータを扱う際に必要です。\n",
    "        * read_excel: Excelファイルを直接DataFrameに読み込むための関数です。ビジネスの現場ではExcelでデータを扱うことが多いため、重要な機能です。\n",
    "        * データベース接続: read_database(またはコネクタ経由での読み込み)など、SQLデータベースから直接データを読み込む機能もPolarsの重要な側面です。\n",
    "    \"\"\"))"
   ]
  },
  {
   "cell_type": "markdown",
   "id": "94cf943f-11b4-4e97-a27e-5be131fc7b5b",
   "metadata": {
    "deletable": true,
    "editable": true,
    "frozen": false
   },
   "source": [
    "---"
   ]
  },
  {
   "cell_type": "markdown",
   "id": "136c8ab7-f1a8-4f47-9653-795c575ddc56",
   "metadata": {
    "deletable": false,
    "editable": false,
    "frozen": true
   },
   "source": [
    "### `問題 1.1.4` 基本情報の確認\n",
    "\n",
    "1.1.3の`df_titanic`の形状、要素ごとの型、全列名を、それぞれ変数`ans1`、`ans2`、`ans3`に代入してください。\n",
    "\n",
    "**解答欄**"
   ]
  },
  {
   "cell_type": "code",
   "execution_count": null,
   "id": "7e713831-30f9-4b66-85b6-ecf91a1bcd87",
   "metadata": {
    "deletable": true,
    "editable": true,
    "frozen": false
   },
   "outputs": [],
   "source": [
    "# ここから解答を作成してください\n"
   ]
  },
  {
   "cell_type": "markdown",
   "id": "94e6415d-22bf-47cc-b87c-8b936fe02d38",
   "metadata": {
    "deletable": false,
    "editable": false,
    "frozen": true
   },
   "source": [
    "<details><summary>解答例</summary>\n",
    "<br>\n",
    "\n",
    "```python\n",
    "ans1 = df_titanic.shape\n",
    "ans2 = df_titanic.dtypes\n",
    "ans3 = df_titanic.columns\n",
    "\n",
    "print(ans1, ans2, ans3, sep=\"\\n\")\n",
    "```\n",
    "</details>\n",
    "<br>\n",
    "\n",
    "**確認**"
   ]
  },
  {
   "cell_type": "code",
   "execution_count": null,
   "id": "efbfcf09-5b9a-4fdf-8efc-39edec67bbdb",
   "metadata": {
    "deletable": false,
    "editable": false,
    "frozen": false,
    "jupyter": {
     "source_hidden": true
    }
   },
   "outputs": [],
   "source": [
    "# このセルを実行してください\n",
    "try:\n",
    "    _ans1 = df_titanic.shape\n",
    "    _ans2 = df_titanic.dtypes\n",
    "    _ans3 = df_titanic.columns\n",
    "    assert _ans1 == ans1 and _ans2 == ans2 and _ans3 == ans3\n",
    "except (AssertionError, NameError):\n",
    "    print(\"\\x1b[31mNG\\x1b[39m\")\n",
    "    print(\"解答例を確認してください\")\n",
    "else:\n",
    "    print(\"\\x1b[32mOK\\x1b[39m\")\n",
    "    print(dedent(\"\"\"\\\n",
    "        解説: .shapeは(行数, 列数)のタプルを、.dtypesは各列のデータ型をリストで、.columnsは列名のリストを返します。\n",
    "        これらはデータフレームの全体像を把握するための基本的な属性です。\n",
    "    \"\"\"))"
   ]
  },
  {
   "cell_type": "markdown",
   "id": "f4e8bb82-c6dc-4655-9dc9-7ebd7d81b885",
   "metadata": {
    "deletable": true,
    "editable": true,
    "frozen": false
   },
   "source": [
    "---"
   ]
  },
  {
   "cell_type": "markdown",
   "id": "7e049dcd-d84b-47e6-af99-fc648eb6d629",
   "metadata": {
    "deletable": false,
    "editable": false,
    "frozen": true
   },
   "source": [
    "### `問題 1.1.5` 要約統計量\n",
    "\n",
    "1.1.3の`df_titanic`の要約統計量を変数`df`に代入してください。\n",
    "\n",
    "**解答欄**"
   ]
  },
  {
   "cell_type": "code",
   "execution_count": null,
   "id": "d560d2cb-c1de-4300-9e4c-719b0905ee2c",
   "metadata": {
    "deletable": true,
    "editable": true,
    "frozen": false
   },
   "outputs": [],
   "source": [
    "# ここから解答を作成してください\n"
   ]
  },
  {
   "cell_type": "markdown",
   "id": "8a2f31e4-7b63-4593-a019-7f86785e6d2d",
   "metadata": {
    "deletable": false,
    "editable": false,
    "frozen": true
   },
   "source": [
    "<details><summary>解答例</summary>\n",
    "<br>\n",
    "\n",
    "```python\n",
    "df = df_titanic.describe()\n",
    "df\n",
    "```\n",
    "</details>\n",
    "<br>\n",
    "\n",
    "**確認**"
   ]
  },
  {
   "cell_type": "code",
   "execution_count": null,
   "id": "ab03601f-41b0-48c7-a069-f05486197d5e",
   "metadata": {
    "deletable": false,
    "editable": false,
    "frozen": false,
    "jupyter": {
     "source_hidden": true
    }
   },
   "outputs": [],
   "source": [
    "# このセルを実行してください\n",
    "try:\n",
    "    _ans = df_titanic.describe()\n",
    "    assert _ans.equals(df)\n",
    "except (AssertionError, NameError):\n",
    "    print(\"\\x1b[31mNG\\x1b[39m\")\n",
    "    print(\"解答例を確認してください\")\n",
    "else:\n",
    "    print(\"\\x1b[32mOK\\x1b[39m\")\n",
    "    print(dedent(\"\"\"\\\n",
    "        解説: .describe()メソッドは、数値列の要約統計量（個数、nullの数、平均、標準偏差、最小値、パーセンタイル、最大値）を計算します。\n",
    "        データの大まかな分布や外れ値の存在を確認するのに役立ちます。\n",
    "    \"\"\"))"
   ]
  },
  {
   "cell_type": "markdown",
   "id": "6d1e17bf-d67f-4f5a-aef2-a2bd641cff62",
   "metadata": {
    "deletable": true,
    "editable": true,
    "frozen": false
   },
   "source": [
    "---"
   ]
  },
  {
   "cell_type": "markdown",
   "id": "c5b6309e-6758-4906-a7ea-1eb7c827b930",
   "metadata": {
    "deletable": false,
    "editable": false,
    "frozen": true
   },
   "source": [
    "### `問題 1.1.6` Parquet形式で出力\n",
    "\n",
    "1.1.3の`df_titanic`を`file`にParquet形式で出力してください。\n",
    "\n",
    "**解答欄**"
   ]
  },
  {
   "cell_type": "code",
   "execution_count": null,
   "id": "8c381fb8-e5cb-44c7-ab97-d3ee169dd939",
   "metadata": {
    "deletable": true,
    "editable": true,
    "frozen": false
   },
   "outputs": [],
   "source": [
    "file = \"titanic.parquet\"\n",
    "# ここから解答を作成してください\n"
   ]
  },
  {
   "cell_type": "markdown",
   "id": "ae9b26b2-832f-46aa-8f53-2dcb18ba9d10",
   "metadata": {
    "deletable": false,
    "editable": false,
    "frozen": true
   },
   "source": [
    "<details><summary>解答例</summary>\n",
    "<br>\n",
    "\n",
    "```python\n",
    "df_titanic.write_parquet(file)\n",
    "```\n",
    "</details>\n",
    "<br>\n",
    "\n",
    "**確認**"
   ]
  },
  {
   "cell_type": "code",
   "execution_count": null,
   "id": "e3e952b8-72c5-4a17-8bc1-73392cc25940",
   "metadata": {
    "deletable": false,
    "editable": false,
    "frozen": false,
    "jupyter": {
     "source_hidden": true
    }
   },
   "outputs": [],
   "source": [
    "# このセルを実行してください\n",
    "try:\n",
    "    _ans = pl.read_parquet(file)\n",
    "    assert _ans.equals(df_titanic)\n",
    "except (AssertionError, NameError, FileNotFoundError):\n",
    "    print(\"\\x1b[31mNG\\x1b[39m\")\n",
    "    print(\"解答例を確認してください\")\n",
    "else:\n",
    "    print(\"\\x1b[32mOK\\x1b[39m\")\n",
    "    print(dedent(\"\"\"\\\n",
    "        解説: Parquetは、効率的な圧縮とエンコーディングを備えた列指向のストレージフォーマットです。\n",
    "        CSVと比較して、読み書きが高速でファイルサイズも小さくなる傾向があるため、大規模なデータセットの保存に適しています。\n",
    "    \"\"\"))"
   ]
  },
  {
   "cell_type": "markdown",
   "id": "3a6d2858-4bea-4709-bbec-8d138c41f519",
   "metadata": {
    "deletable": true,
    "editable": true,
    "frozen": false
   },
   "source": [
    "---"
   ]
  },
  {
   "cell_type": "markdown",
   "id": "7f824d55-b510-4270-8351-f1de09946766",
   "metadata": {
    "deletable": false,
    "editable": false,
    "frozen": true
   },
   "source": [
    "### `問題 1.1.7` Parquet形式で入力\n",
    "\n",
    "1.1.6で出力したファイル（`file`）を読み込み、変数`df`に代入してください。\n",
    "\n",
    "**解答欄**"
   ]
  },
  {
   "cell_type": "code",
   "execution_count": null,
   "id": "a977870c-3078-4849-8257-23028cfad185",
   "metadata": {
    "deletable": true,
    "editable": true,
    "frozen": false
   },
   "outputs": [],
   "source": [
    "# ここから解答を作成してください\n"
   ]
  },
  {
   "cell_type": "markdown",
   "id": "d9a5b0d4-f65a-4a27-b73f-45f25fe3c2b7",
   "metadata": {
    "deletable": false,
    "editable": false,
    "frozen": true
   },
   "source": [
    "<details><summary>解答例</summary>\n",
    "<br>\n",
    "\n",
    "```python\n",
    "df = pl.read_parquet(file)\n",
    "df[:3]\n",
    "```\n",
    "</details>\n",
    "<br>\n",
    "\n",
    "**確認**"
   ]
  },
  {
   "cell_type": "code",
   "execution_count": null,
   "id": "fbe34688-324f-4f1b-ac35-f367f9121107",
   "metadata": {
    "deletable": false,
    "editable": false,
    "frozen": false,
    "jupyter": {
     "source_hidden": true
    }
   },
   "outputs": [],
   "source": [
    "# このセルを実行してください\n",
    "try:\n",
    "    _ans = pl.read_parquet(file)\n",
    "    assert _ans.equals(df)\n",
    "except (AssertionError, NameError):\n",
    "    print(\"\\x1b[31mNG\\x1b[39m\")\n",
    "    print(\"解答例を確認してください\")\n",
    "else:\n",
    "    print(\"\\x1b[32mOK\\x1b[39m\")"
   ]
  },
  {
   "cell_type": "markdown",
   "id": "44cbcae6-b8f0-45e6-afae-d4a7ae34ae56",
   "metadata": {
    "deletable": true,
    "editable": true,
    "frozen": false
   },
   "source": [
    "---"
   ]
  },
  {
   "cell_type": "markdown",
   "id": "1d5802a8-e150-4e78-9a66-c73670d446a5",
   "metadata": {
    "deletable": false,
    "editable": false,
    "frozen": true
   },
   "source": [
    "### `問題 1.1.8` 最初の5行\n",
    "\n",
    "1.1.3の`df_titanic`の最初の5行を変数`ans`に代入してください。\n",
    "\n",
    "**解答欄**"
   ]
  },
  {
   "cell_type": "code",
   "execution_count": null,
   "id": "ec076f5c-8f4f-43b3-8955-278c482085df",
   "metadata": {
    "deletable": true,
    "editable": true,
    "frozen": false
   },
   "outputs": [],
   "source": [
    "# ここから解答を作成してください\n"
   ]
  },
  {
   "cell_type": "markdown",
   "id": "ab4d365a-d0c1-49d8-996b-c23704aa4074",
   "metadata": {
    "deletable": false,
    "editable": false,
    "frozen": true
   },
   "source": [
    "<details><summary>解答例</summary>\n",
    "<br>\n",
    "\n",
    "```python\n",
    "ans = df_titanic.head()\n",
    "ans\n",
    "```\n",
    "</details>\n",
    "<br>\n",
    "\n",
    "**確認**"
   ]
  },
  {
   "cell_type": "code",
   "execution_count": null,
   "id": "e022a514-441d-41a5-8856-2551aa3421f6",
   "metadata": {
    "deletable": false,
    "editable": false,
    "frozen": false,
    "jupyter": {
     "source_hidden": true
    }
   },
   "outputs": [],
   "source": [
    "# このセルを実行してください\n",
    "try:\n",
    "    _ans = df_titanic.head()\n",
    "    assert _ans.equals(ans)\n",
    "except (AssertionError, NameError):\n",
    "    print(\"\\x1b[31mNG\\x1b[39m\")\n",
    "    print(\"解答例を確認してください\")\n",
    "else:\n",
    "    print(\"\\x1b[32mOK\\x1b[39m\")\n",
    "    print(dedent(\"\"\"\\\n",
    "        解説: .head()はデータフレームの先頭から指定した行数を取得します。引数を省略するとデフォルトで5行取得します。\n",
    "        また、[:5]というインデックス参照でも同じ結果になります。インデックス参照については下記を参考にしてください。\n",
    "        https://qiita.com/SaitoTsutomu/items/a9bfeaa1951e9a0fc50d\n",
    "    \"\"\"))"
   ]
  },
  {
   "cell_type": "markdown",
   "id": "64b1a5cc-6339-4095-8350-a58efc47c111",
   "metadata": {
    "deletable": true,
    "editable": true,
    "frozen": false
   },
   "source": [
    "---"
   ]
  },
  {
   "cell_type": "markdown",
   "id": "0d02e1c0-060c-4980-b71c-74b5585cb6d6",
   "metadata": {
    "deletable": false,
    "editable": false,
    "frozen": true
   },
   "source": [
    "### `問題 1.1.9` 最後の3行\n",
    "\n",
    "1.1.3の`df_titanic`の最後の3行を変数`ans`に代入してください。\n",
    "\n",
    "**解答欄**"
   ]
  },
  {
   "cell_type": "code",
   "execution_count": null,
   "id": "8b2ffd6e-9a19-4387-bbe3-b9d533ab8939",
   "metadata": {
    "deletable": true,
    "editable": true,
    "frozen": false
   },
   "outputs": [],
   "source": [
    "# ここから解答を作成してください\n"
   ]
  },
  {
   "cell_type": "markdown",
   "id": "e3676f36-ea2a-48e9-8a23-36fc4ef11ac0",
   "metadata": {
    "deletable": false,
    "editable": false,
    "frozen": true
   },
   "source": [
    "<details><summary>解答例</summary>\n",
    "<br>\n",
    "\n",
    "```python\n",
    "ans = df_titanic.tail(3)\n",
    "ans\n",
    "```\n",
    "</details>\n",
    "<br>\n",
    "\n",
    "**確認**"
   ]
  },
  {
   "cell_type": "code",
   "execution_count": null,
   "id": "426a9186-51d9-4f6f-84ff-ade37ad299ea",
   "metadata": {
    "deletable": false,
    "editable": false,
    "frozen": false,
    "jupyter": {
     "source_hidden": true
    }
   },
   "outputs": [],
   "source": [
    "# このセルを実行してください\n",
    "try:\n",
    "    _ans = df_titanic.tail(3)\n",
    "    assert _ans.equals(ans)\n",
    "except (AssertionError, NameError):\n",
    "    print(\"\\x1b[31mNG\\x1b[39m\")\n",
    "    print(\"解答例を確認してください\")\n",
    "else:\n",
    "    print(\"\\x1b[32mOK\\x1b[39m\")\n",
    "    print(dedent(\"\"\"\\\n",
    "        解説: .tail(3)はデータフレームの末尾から3行を取得します。[-3:]でも同じ結果になります。\n",
    "    \"\"\"))"
   ]
  },
  {
   "cell_type": "markdown",
   "id": "8f8bf725-e279-4ded-88ec-eaf326a4ba6b",
   "metadata": {
    "deletable": true,
    "editable": true,
    "frozen": false
   },
   "source": [
    "---"
   ]
  },
  {
   "cell_type": "markdown",
   "id": "42440696-1cc9-48ee-90bf-af2e2948c0b6",
   "metadata": {
    "deletable": false,
    "editable": false,
    "frozen": true
   },
   "source": [
    "### `問題 1.1.10` ランダムに5行をサンプリング\n",
    "\n",
    "1.1.3の`df_titanic`からランダムに5行をサンプリングし、変数`ans`に代入してください。\n",
    "\n",
    "**解答欄**"
   ]
  },
  {
   "cell_type": "code",
   "execution_count": null,
   "id": "42c7d73c-4b97-4f02-a300-d5916a3cd7f8",
   "metadata": {
    "deletable": true,
    "editable": true,
    "frozen": false
   },
   "outputs": [],
   "source": [
    "# ここから解答を作成してください\n"
   ]
  },
  {
   "cell_type": "markdown",
   "id": "ed5e4b85-dbb7-4448-962c-391c3c928a49",
   "metadata": {
    "deletable": false,
    "editable": false,
    "frozen": true
   },
   "source": [
    "<details><summary>解答例</summary>\n",
    "<br>\n",
    "\n",
    "```python\n",
    "ans = df_titanic.sample(n=5)\n",
    "ans\n",
    "```\n",
    "</details>\n",
    "<br>\n",
    "\n",
    "**確認**"
   ]
  },
  {
   "cell_type": "code",
   "execution_count": null,
   "id": "bc863cee-760f-45b0-b594-1b719d38ea99",
   "metadata": {
    "deletable": false,
    "editable": false,
    "frozen": false,
    "jupyter": {
     "source_hidden": true
    }
   },
   "outputs": [],
   "source": [
    "# このセルを実行してください\n",
    "try:\n",
    "    assert ans.height == 5\n",
    "except (AssertionError, NameError):\n",
    "    print(\"\\x1b[31mNG\\x1b[39m\")\n",
    "    print(\"解答例を確認してください\")\n",
    "else:\n",
    "    print(\"\\x1b[32mOK\\x1b[39m\")\n",
    "    print(dedent(\"\"\"\\\n",
    "        解説: .sample()はデータをランダムに抽出します。引数nで抽出する行数を、引数fracで割合を指定できます。\n",
    "    \"\"\"))"
   ]
  },
  {
   "cell_type": "markdown",
   "id": "cc1863bc-2137-4738-9f96-04f895c31d50",
   "metadata": {
    "deletable": true,
    "editable": true,
    "frozen": false
   },
   "source": [
    "---"
   ]
  },
  {
   "cell_type": "markdown",
   "id": "c2a15705-7d51-4de4-bc9d-734e11abf15f",
   "metadata": {
    "deletable": true,
    "editable": true,
    "frozen": false
   },
   "source": [
    "## Section 1.2: 基本操作: 選択、フィルタリング、ソート (Knocks 11-20)\n"
   ]
  },
  {
   "cell_type": "markdown",
   "id": "09e7fee4-fbe8-4641-be42-de82458ff89b",
   "metadata": {
    "deletable": false,
    "editable": false,
    "frozen": true
   },
   "source": [
    "### `問題 1.2.1` 特定の列の選択\n",
    "\n",
    "1.1.3の`df_titanic`の`Name`、`Age`、`Sex`列を選択し、変数`ans`に代入してください。\n",
    "\n",
    "**解答欄**"
   ]
  },
  {
   "cell_type": "code",
   "execution_count": null,
   "id": "db16c132-df63-4eca-bb2e-6346c45b15c1",
   "metadata": {
    "deletable": true,
    "editable": true,
    "frozen": false
   },
   "outputs": [],
   "source": [
    "# ここから解答を作成してください\n"
   ]
  },
  {
   "cell_type": "markdown",
   "id": "343552b7-7459-48d0-a067-05e332c92c85",
   "metadata": {
    "deletable": false,
    "editable": false,
    "frozen": true
   },
   "source": [
    "<details><summary>解答例</summary>\n",
    "<br>\n",
    "\n",
    "```python\n",
    "ans = df_titanic.select([\"Name\", \"Age\", \"Sex\"])\n",
    "ans[:3]\n",
    "```\n",
    "\n",
    "**別解**\n",
    "\n",
    "```python\n",
    "ans = df_titanic.select(\"Name\", \"Age\", \"Sex\")\n",
    "```\n",
    "</details>\n",
    "<br>\n",
    "\n",
    "**確認**"
   ]
  },
  {
   "cell_type": "code",
   "execution_count": null,
   "id": "39736e63-78cb-43e2-8a54-e9fd3413a67e",
   "metadata": {
    "deletable": false,
    "editable": false,
    "frozen": false,
    "jupyter": {
     "source_hidden": true
    }
   },
   "outputs": [],
   "source": [
    "# このセルを実行してください\n",
    "try:\n",
    "    _ans = df_titanic.select([\"Name\", \"Age\", \"Sex\"])\n",
    "    assert _ans.equals(ans)\n",
    "except (AssertionError, NameError):\n",
    "    print(\"\\x1b[31mNG\\x1b[39m\")\n",
    "    print(\"解答例を確認してください\")\n",
    "else:\n",
    "    print(\"\\x1b[32mOK\\x1b[39m\")\n",
    "    print(dedent(\"\"\"\\\n",
    "        解説: .select()はPolarsにおける列選択の基本です。列名のリストを渡すことで、指定した列のみを含む新しいDataFrameが返されます。\n",
    "        .select(\"Name\", \"Age\", \"Sex\")のように個別に渡すこともできます。\n",
    "    \"\"\"))"
   ]
  },
  {
   "cell_type": "markdown",
   "id": "5633890a-477d-423c-82b6-9158255dcec1",
   "metadata": {
    "deletable": true,
    "editable": true,
    "frozen": false
   },
   "source": [
    "---"
   ]
  },
  {
   "cell_type": "markdown",
   "id": "e422b22c-9e68-4dc3-a0fd-a9a3e7def31b",
   "metadata": {
    "deletable": false,
    "editable": false,
    "frozen": true
   },
   "source": [
    "### `問題 1.2.2` 式 (Expression) \n",
    "\n",
    "1.1.3の`df_titanic`の`Name`、`Age`、`Sex`列を式 (Expression) を使って選択し、変数`ans`に代入してください。\n",
    "\n",
    "**解答欄**"
   ]
  },
  {
   "cell_type": "code",
   "execution_count": null,
   "id": "e97044ba-ef62-48e6-bb8d-2ae0781dcfc6",
   "metadata": {
    "deletable": true,
    "editable": true,
    "frozen": false
   },
   "outputs": [],
   "source": [
    "# ここから解答を作成してください\n"
   ]
  },
  {
   "cell_type": "markdown",
   "id": "ade11a3b-c839-4c40-b3dc-4ab313c0c74a",
   "metadata": {
    "deletable": false,
    "editable": false,
    "frozen": true
   },
   "source": [
    "<details><summary>解答例</summary>\n",
    "<br>\n",
    "\n",
    "```python\n",
    "ans = df_titanic.select(pl.col(\"Name\"), pl.col(\"Age\"), pl.col(\"Sex\"))\n",
    "ans[:3]\n",
    "```\n",
    "<br>\n",
    "\n",
    "**別解**\n",
    "本演習のみ、以下のように書けます。\n",
    "なお、以降の解答例では、この別解のように記述します。\n",
    "\n",
    "```python\n",
    "ans = df_titanic.select(col.Name, col.Age, col.Sex)\n",
    "```\n",
    "</details>\n",
    "<br>\n",
    "\n",
    "**確認**"
   ]
  },
  {
   "cell_type": "code",
   "execution_count": null,
   "id": "542f2f9c-c17d-4029-94bb-7a145a0aa05d",
   "metadata": {
    "deletable": false,
    "editable": false,
    "frozen": false,
    "jupyter": {
     "source_hidden": true
    }
   },
   "outputs": [],
   "source": [
    "# このセルを実行してください\n",
    "try:\n",
    "    _ans = df_titanic.select(pl.col(\"Name\"), pl.col(\"Age\"), pl.col(\"Sex\"))\n",
    "    assert _ans.equals(ans)\n",
    "except (AssertionError, NameError):\n",
    "    print(\"\\x1b[31mNG\\x1b[39m\")\n",
    "    print(\"解答例を確認してください\")\n",
    "else:\n",
    "    print(\"\\x1b[32mOK\\x1b[39m\")\n",
    "    print(dedent(\"\"\"\\\n",
    "        解説: pl.col()は特定の列を参照する式を作成します。\n",
    "        単純な列選択では文字列のリストを使う方が簡潔ですが、この式ベースのアプローチがPolarsのデータ操作の基本であり、後述する複雑な変換や計算の基礎となります。\n",
    "        なお、本演習ではpl.col(\"Name\")をcol.Nameのように記述します。\n",
    "    \"\"\"))"
   ]
  },
  {
   "cell_type": "markdown",
   "id": "c98e8f93-5fd7-4eb5-b729-a3988a81b941",
   "metadata": {
    "deletable": true,
    "editable": true,
    "frozen": false
   },
   "source": [
    "---"
   ]
  },
  {
   "cell_type": "markdown",
   "id": "64a657df-4267-4fdf-b5fc-45ddd53003b0",
   "metadata": {
    "deletable": false,
    "editable": false,
    "frozen": true
   },
   "source": [
    "### `問題 1.2.3` データ型で選択\n",
    "\n",
    "1.1.3の`df_titanic`のすべての数値型（整数と浮動小数点数）の列を選択し、変数`ans`に代入してください。\n",
    "\n",
    "**解答欄**"
   ]
  },
  {
   "cell_type": "code",
   "execution_count": null,
   "id": "3feb1077-acfd-40e4-b489-cd4873b9d26d",
   "metadata": {
    "deletable": true,
    "editable": true,
    "frozen": false
   },
   "outputs": [],
   "source": [
    "# ここから解答を作成してください\n"
   ]
  },
  {
   "cell_type": "markdown",
   "id": "36303fe6-6010-470a-a51e-b98c95fce75d",
   "metadata": {
    "deletable": false,
    "editable": false,
    "frozen": true
   },
   "source": [
    "<details><summary>解答例</summary>\n",
    "<br>\n",
    "\n",
    "```python\n",
    "ans = df_titanic.select(cs.numeric())\n",
    "ans[:3]\n",
    "```\n",
    "</details>\n",
    "<br>\n",
    "\n",
    "**確認**"
   ]
  },
  {
   "cell_type": "code",
   "execution_count": null,
   "id": "89156b35-9721-481c-953b-aca41179f21f",
   "metadata": {
    "deletable": false,
    "editable": false,
    "frozen": false,
    "jupyter": {
     "source_hidden": true
    }
   },
   "outputs": [],
   "source": [
    "# このセルを実行してください\n",
    "try:\n",
    "    _ans = df_titanic.select(cs.numeric())\n",
    "    assert _ans.equals(ans)\n",
    "except (AssertionError, NameError):\n",
    "    print(\"\\x1b[31mNG\\x1b[39m\")\n",
    "    print(\"解答例を確認してください\")\n",
    "else:\n",
    "    print(\"\\x1b[32mOK\\x1b[39m\")\n",
    "    print(dedent(\"\"\"\\\n",
    "        解説: Polarsでは、pl.Int64やpl.Float64のような具体的なデータ型だけでなく、polars.selectors.numeric()のように型のグループを指定して列を選択できます。\n",
    "        これにより、データの種類に応じた一括操作が容易になります。\n",
    "    \"\"\"))"
   ]
  },
  {
   "cell_type": "markdown",
   "id": "e5dcf39f-7785-4eec-a22f-c02683cb36e2",
   "metadata": {
    "deletable": true,
    "editable": true,
    "frozen": false
   },
   "source": [
    "---"
   ]
  },
  {
   "cell_type": "markdown",
   "id": "2e2447a7-73c0-4e4c-ba9e-005be17bdf9f",
   "metadata": {
    "deletable": false,
    "editable": false,
    "frozen": true
   },
   "source": [
    "### `問題 1.2.4` 正規表現で列を選択\n",
    "\n",
    "1.1.3の`df_titanic`の`P`で始まる列名を持つすべての列を選択し、変数`ans`に代入してください。\n",
    "\n",
    "**解答欄**"
   ]
  },
  {
   "cell_type": "code",
   "execution_count": null,
   "id": "c4ea9a38-9ec5-4531-b8bf-bf656e1eda36",
   "metadata": {
    "deletable": true,
    "editable": true,
    "frozen": false
   },
   "outputs": [],
   "source": [
    "# ここから解答を作成してください\n"
   ]
  },
  {
   "cell_type": "markdown",
   "id": "d0c73515-5f72-4c6a-bfdd-64125eb28899",
   "metadata": {
    "deletable": false,
    "editable": false,
    "frozen": true
   },
   "source": [
    "<details><summary>解答例</summary>\n",
    "<br>\n",
    "\n",
    "```python\n",
    "ans = df_titanic.select(pl.col(\"^P.*$\"))\n",
    "ans[:3]\n",
    "```\n",
    "</details>\n",
    "<br>\n",
    "\n",
    "**確認**"
   ]
  },
  {
   "cell_type": "code",
   "execution_count": null,
   "id": "45da67e3-8d7c-4e51-bc2f-d75746a3356f",
   "metadata": {
    "deletable": false,
    "editable": false,
    "frozen": false,
    "jupyter": {
     "source_hidden": true
    }
   },
   "outputs": [],
   "source": [
    "# このセルを実行してください\n",
    "try:\n",
    "    _ans = df_titanic.select(pl.col(\"^P.*$\"))\n",
    "    assert _ans.equals(ans)\n",
    "except (AssertionError, NameError):\n",
    "    print(\"\\x1b[31mNG\\x1b[39m\")\n",
    "    print(\"解答例を確認してください\")\n",
    "else:\n",
    "    print(\"\\x1b[32mOK\\x1b[39m\")\n",
    "    print(dedent(\"\"\"\\\n",
    "        解説: pl.col()に正規表現を渡すことで、列名をパターンマッチングして選択できます。\n",
    "    \"\"\"))"
   ]
  },
  {
   "cell_type": "markdown",
   "id": "dbf79acd-7653-4b42-bf37-7b5000c85e4e",
   "metadata": {
    "deletable": true,
    "editable": true,
    "frozen": false
   },
   "source": [
    "---"
   ]
  },
  {
   "cell_type": "markdown",
   "id": "72216c97-52a9-47d1-aaf8-39b5158a15c9",
   "metadata": {
    "deletable": false,
    "editable": false,
    "frozen": true
   },
   "source": [
    "### `問題 1.2.5` フィルタリング\n",
    "\n",
    "1.1.3の`df_titanic`の30歳より年上の乗客を抽出し、変数`ans`に代入してください。\n",
    "\n",
    "**注意**\n",
    "\n",
    "本演習では、`pl.col(\"Age\")`の代わりに`col.Age`が使えます。解答例では`col.Age`を使います。\n",
    "\n",
    "**解答欄**"
   ]
  },
  {
   "cell_type": "code",
   "execution_count": null,
   "id": "2a32ae82-ddc4-4330-b11c-ab84614e27c9",
   "metadata": {
    "deletable": true,
    "editable": true,
    "frozen": false
   },
   "outputs": [],
   "source": [
    "# ここから解答を作成してください\n"
   ]
  },
  {
   "cell_type": "markdown",
   "id": "67f96029-1bb1-4dd7-961d-684d1a08f535",
   "metadata": {
    "deletable": false,
    "editable": false,
    "frozen": true
   },
   "source": [
    "<details><summary>解答例</summary>\n",
    "<br>\n",
    "\n",
    "```python\n",
    "ans = df_titanic.filter(col.Age > 30)\n",
    "ans[:3]\n",
    "```\n",
    "</details>\n",
    "<br>\n",
    "\n",
    "**確認**"
   ]
  },
  {
   "cell_type": "code",
   "execution_count": null,
   "id": "ff792741-046b-41b2-b182-765cf8d2b01e",
   "metadata": {
    "deletable": false,
    "editable": false,
    "frozen": false,
    "jupyter": {
     "source_hidden": true
    }
   },
   "outputs": [],
   "source": [
    "# このセルを実行してください\n",
    "try:\n",
    "    _ans = df_titanic.filter(col.Age > 30)\n",
    "    assert _ans.equals(ans)\n",
    "except (AssertionError, NameError):\n",
    "    print(\"\\x1b[31mNG\\x1b[39m\")\n",
    "    print(\"解答例を確認してください\")\n",
    "else:\n",
    "    print(\"\\x1b[32mOK\\x1b[39m\")\n",
    "    print(dedent(\"\"\"\\\n",
    "        解説: .filter()は行をフィルタリングするための主要なメソッドです。\n",
    "        引数には、ブール値のSeriesを返す式を渡します。\n",
    "        pl.col(\"Age\") > 30という式が各行に対して評価され、Trueとなる行のみが結果に含まれます。\n",
    "    \"\"\"))"
   ]
  },
  {
   "cell_type": "markdown",
   "id": "b79132bc-fe3d-4f95-ac8f-12490c70c2cc",
   "metadata": {
    "deletable": true,
    "editable": true,
    "frozen": false
   },
   "source": [
    "---"
   ]
  },
  {
   "cell_type": "markdown",
   "id": "f89e4164-e66d-4e5a-b011-65bfc1dfe46a",
   "metadata": {
    "deletable": false,
    "editable": false,
    "frozen": true
   },
   "source": [
    "### `問題 1.2.6` ANDでフィルタリング\n",
    "\n",
    "1.1.3の`df_titanic`の30歳より年上で、かつ女性の乗客を抽出し、変数`ans`に代入してください。\n",
    "\n",
    "**解答欄**"
   ]
  },
  {
   "cell_type": "code",
   "execution_count": null,
   "id": "e16e1d88-7323-4fbf-92f7-8785f90f3b1a",
   "metadata": {
    "deletable": true,
    "editable": true,
    "frozen": false
   },
   "outputs": [],
   "source": [
    "# ここから解答を作成してください\n"
   ]
  },
  {
   "cell_type": "markdown",
   "id": "7721160e-0fd6-47a8-ad69-11e85d5b24a5",
   "metadata": {
    "deletable": false,
    "editable": false,
    "frozen": true
   },
   "source": [
    "<details><summary>解答例</summary>\n",
    "<br>\n",
    "\n",
    "```python\n",
    "ans = df_titanic.filter(\n",
    "    (col.Age > 30) & (col.Sex == \"female\")\n",
    ")\n",
    "ans[:3]\n",
    "```\n",
    "</details>\n",
    "<br>\n",
    "\n",
    "**確認**"
   ]
  },
  {
   "cell_type": "code",
   "execution_count": null,
   "id": "7dbc30e1-9768-4e07-9c1d-c83a871e223d",
   "metadata": {
    "deletable": false,
    "editable": false,
    "frozen": false,
    "jupyter": {
     "source_hidden": true
    }
   },
   "outputs": [],
   "source": [
    "# このセルを実行してください\n",
    "try:\n",
    "    _ans = df_titanic.filter(\n",
    "        (col.Age > 30) & (col.Sex == \"female\")\n",
    "    )\n",
    "    assert _ans.equals(ans)\n",
    "except (AssertionError, NameError):\n",
    "    print(\"\\x1b[31mNG\\x1b[39m\")\n",
    "    print(\"解答例を確認してください\")\n",
    "else:\n",
    "    print(\"\\x1b[32mOK\\x1b[39m\")\n",
    "    print(dedent(\"\"\"\\\n",
    "        解説: 複数の条件を組み合わせるには、& (AND) や | (OR) 演算子を使用します。\n",
    "        各条件式を括弧 () で囲むことが重要です。これは演算子の優先順位によるもので、Pandasでも同様の注意が必要です。\n",
    "    \"\"\"))"
   ]
  },
  {
   "cell_type": "markdown",
   "id": "3c019498-1879-4c05-beee-0a96a3056ce8",
   "metadata": {
    "deletable": true,
    "editable": true,
    "frozen": false
   },
   "source": [
    "---"
   ]
  },
  {
   "cell_type": "markdown",
   "id": "f1e2ac44-262a-4e6f-a446-eb470c38a00e",
   "metadata": {
    "deletable": false,
    "editable": false,
    "frozen": true
   },
   "source": [
    "### `問題 1.2.7` ORでフィルタリング\n",
    "\n",
    "1.1.3の`df_titanic`の10歳未満の子供、または60歳以上の高齢者を抽出し、変数`ans`に代入してください。\n",
    "\n",
    "**解答欄**"
   ]
  },
  {
   "cell_type": "code",
   "execution_count": null,
   "id": "22e4a060-bc37-4bdd-b281-e072d5c8bad6",
   "metadata": {
    "deletable": true,
    "editable": true,
    "frozen": false
   },
   "outputs": [],
   "source": [
    "# ここから解答を作成してください\n"
   ]
  },
  {
   "cell_type": "markdown",
   "id": "f530211c-4e78-4553-bde7-d7cd0d8d67ed",
   "metadata": {
    "deletable": false,
    "editable": false,
    "frozen": true
   },
   "source": [
    "<details><summary>解答例</summary>\n",
    "<br>\n",
    "\n",
    "```python\n",
    "ans = df_titanic.filter(\n",
    "    (col.Age < 10) | (col.Age >= 60)\n",
    ")\n",
    "ans[:3]\n",
    "```\n",
    "</details>\n",
    "<br>\n",
    "\n",
    "**確認**"
   ]
  },
  {
   "cell_type": "code",
   "execution_count": null,
   "id": "e3da4a3b-e72c-4d56-93cc-2e1fcc4cd13d",
   "metadata": {
    "deletable": false,
    "editable": false,
    "frozen": false,
    "jupyter": {
     "source_hidden": true
    }
   },
   "outputs": [],
   "source": [
    "# このセルを実行してください\n",
    "try:\n",
    "    _ans = df_titanic.filter(\n",
    "        (col.Age < 10) | (col.Age >= 60)\n",
    "    )\n",
    "    assert _ans.equals(ans)\n",
    "except (AssertionError, NameError):\n",
    "    print(\"\\x1b[31mNG\\x1b[39m\")\n",
    "    print(\"解答例を確認してください\")\n",
    "else:\n",
    "    print(\"\\x1b[32mOK\\x1b[39m\")"
   ]
  },
  {
   "cell_type": "markdown",
   "id": "eee9ef94-0933-43a4-9f58-8bfa398c6c18",
   "metadata": {
    "deletable": true,
    "editable": true,
    "frozen": false
   },
   "source": [
    "---"
   ]
  },
  {
   "cell_type": "markdown",
   "id": "1e51becd-7c23-4cd0-980c-cb690000fdf1",
   "metadata": {
    "deletable": false,
    "editable": false,
    "frozen": true
   },
   "source": [
    "### `問題 1.2.8` is_inでフィルタリング\n",
    "\n",
    "1.1.3の`df_titanic`の出港地(`Embarked`)が`C`(Cherbourg)または`Q`(Queenstown)の乗客を抽出し、変数`ans`に代入してください。\n",
    "\n",
    "**解答欄**"
   ]
  },
  {
   "cell_type": "code",
   "execution_count": null,
   "id": "63ce4c57-9626-4a10-89a8-37f3b7389397",
   "metadata": {
    "deletable": true,
    "editable": true,
    "frozen": false
   },
   "outputs": [],
   "source": [
    "# ここから解答を作成してください\n"
   ]
  },
  {
   "cell_type": "markdown",
   "id": "583c3026-6f03-4031-a3f4-d80a25315ce6",
   "metadata": {
    "deletable": false,
    "editable": false,
    "frozen": true
   },
   "source": [
    "<details><summary>解答例</summary>\n",
    "<br>\n",
    "\n",
    "```python\n",
    "ans = df_titanic.filter(col.Embarked.is_in({\"C\", \"Q\"}))\n",
    "ans[:3]\n",
    "```\n",
    "</details>\n",
    "<br>\n",
    "\n",
    "**確認**"
   ]
  },
  {
   "cell_type": "code",
   "execution_count": null,
   "id": "bc89e0b3-dd9c-4538-80a6-e4f0f434ded9",
   "metadata": {
    "deletable": false,
    "editable": false,
    "frozen": false,
    "jupyter": {
     "source_hidden": true
    }
   },
   "outputs": [],
   "source": [
    "# このセルを実行してください\n",
    "try:\n",
    "    _ans = df_titanic.filter(col.Embarked.is_in({\"C\", \"Q\"}))\n",
    "    assert _ans.equals(ans)\n",
    "except (AssertionError, NameError):\n",
    "    print(\"\\x1b[31mNG\\x1b[39m\")\n",
    "    print(\"解答例を確認してください\")\n",
    "else:\n",
    "    print(\"\\x1b[32mOK\\x1b[39m\")\n",
    "    print(dedent(\"\"\"\\\n",
    "        解説: .is_in()メソッドは、列の値が指定したコレクションに含まれているかどうかを判定するのに便利です。\n",
    "        複数のOR条件を簡潔に記述できます。\n",
    "    \"\"\"))"
   ]
  },
  {
   "cell_type": "markdown",
   "id": "48673df1-6420-4e42-8a63-7c153fddf688",
   "metadata": {
    "deletable": true,
    "editable": true,
    "frozen": false
   },
   "source": [
    "---"
   ]
  },
  {
   "cell_type": "markdown",
   "id": "2033955c-a599-42a4-8c87-debecddf383a",
   "metadata": {
    "deletable": false,
    "editable": false,
    "frozen": true
   },
   "source": [
    "### `問題 1.2.9` 1つの列でソート\n",
    "\n",
    "1.1.3の`df_titanic`を年齢(`Age`)の昇順でソートし、変数`ans`に代入してください。\n",
    "\n",
    "* 引数`maintain_order=True`をつけること\n",
    "\n",
    "**解答欄**"
   ]
  },
  {
   "cell_type": "code",
   "execution_count": null,
   "id": "1fd27c1d-5826-4a79-9f34-5573b6d0fef4",
   "metadata": {
    "deletable": true,
    "editable": true,
    "frozen": false
   },
   "outputs": [],
   "source": [
    "# ここから解答を作成してください\n"
   ]
  },
  {
   "cell_type": "markdown",
   "id": "6cd3d087-e668-41bd-9382-9b0eba39744c",
   "metadata": {
    "deletable": false,
    "editable": false,
    "frozen": true
   },
   "source": [
    "<details><summary>解答例</summary>\n",
    "<br>\n",
    "\n",
    "```python\n",
    "ans = df_titanic.sort(\"Age\", maintain_order=True)\n",
    "ans[:3]\n",
    "```\n",
    "</details>\n",
    "<br>\n",
    "\n",
    "**確認**"
   ]
  },
  {
   "cell_type": "code",
   "execution_count": null,
   "id": "7bb79174-621b-48c2-b9fd-2833f05b9f27",
   "metadata": {
    "deletable": false,
    "editable": false,
    "frozen": false,
    "jupyter": {
     "source_hidden": true
    }
   },
   "outputs": [],
   "source": [
    "# このセルを実行してください\n",
    "try:\n",
    "    _ans = df_titanic.sort(\"Age\", maintain_order=True)\n",
    "    assert _ans.equals(ans)\n",
    "except (AssertionError, NameError):\n",
    "    print(\"\\x1b[31mNG\\x1b[39m\")\n",
    "    print(\"解答例を確認してください\")\n",
    "else:\n",
    "    print(\"\\x1b[32mOK\\x1b[39m\")\n",
    "    print(dedent(\"\"\"\\\n",
    "        解説: .sort()メソッドでソートします。デフォルトでは昇順です。\n",
    "        降順にするにはdescending=Trueを指定します。\n",
    "        キーが同じときに入力順にするにはmaintain_order=Trueを指定します。\n",
    "    \"\"\"))"
   ]
  },
  {
   "cell_type": "markdown",
   "id": "66371804-2dc6-46d9-a9f2-936aaf45b7e8",
   "metadata": {
    "deletable": true,
    "editable": true,
    "frozen": false
   },
   "source": [
    "---"
   ]
  },
  {
   "cell_type": "markdown",
   "id": "c7fc3965-ce4f-4880-9b6f-98a67c425191",
   "metadata": {
    "deletable": false,
    "editable": false,
    "frozen": true
   },
   "source": [
    "### `問題 1.2.10` 複数列でソート\n",
    "\n",
    "1.1.3の`df_titanic`を客室クラス(`Pclass`)の昇順、次に年齢(`Age`)の降順でソートし、変数`ans`に代入してください。\n",
    "\n",
    "* 引数`maintain_order=True`をつけること\n",
    "\n",
    "**解答欄**"
   ]
  },
  {
   "cell_type": "code",
   "execution_count": null,
   "id": "ebfb6156-1552-4f99-bbab-c14f287bd166",
   "metadata": {
    "deletable": true,
    "editable": true,
    "frozen": false
   },
   "outputs": [],
   "source": [
    "# ここから解答を作成してください\n"
   ]
  },
  {
   "cell_type": "markdown",
   "id": "ff0dc487-b8a4-403f-aaeb-2c4c1ecbd53e",
   "metadata": {
    "deletable": false,
    "editable": false,
    "frozen": true
   },
   "source": [
    "<details><summary>解答例</summary>\n",
    "<br>\n",
    "\n",
    "```python\n",
    "ans = df_titanic.sort(\n",
    "    [\"Pclass\", \"Age\"],\n",
    "    descending=[False, True],\n",
    "    maintain_order=True,\n",
    ")\n",
    "ans[:3]\n",
    "```\n",
    "</details>\n",
    "<br>\n",
    "\n",
    "**確認**"
   ]
  },
  {
   "cell_type": "code",
   "execution_count": null,
   "id": "013fdded-448f-4dfd-bb4c-c94888fb8f07",
   "metadata": {
    "deletable": false,
    "editable": false,
    "frozen": false,
    "jupyter": {
     "source_hidden": true
    }
   },
   "outputs": [],
   "source": [
    "# このセルを実行してください\n",
    "try:\n",
    "    _ans = df_titanic.sort(\n",
    "        [\"Pclass\", \"Age\"],\n",
    "        descending=[False, True],\n",
    "        maintain_order=True,\n",
    "    )\n",
    "    assert _ans.equals(ans)\n",
    "except (AssertionError, NameError):\n",
    "    print(\"\\x1b[31mNG\\x1b[39m\")\n",
    "    print(\"解答例を確認してください\")\n",
    "else:\n",
    "    print(\"\\x1b[32mOK\\x1b[39m\")\n",
    "    print(dedent(\"\"\"\\\n",
    "        解説: 複数の列でソートする場合、列名のリストと、それに対応するソート順序をdescending引数にリストで渡します。\n",
    "        この一貫性のあるAPI設計は、Polarsの学習しやすさの一因です。\n",
    "        Pandasでは複数の方法が存在し混乱を招くことがありますが、Polarsは.select()や.filter()と同様に、.sort()という明確なメソッドを提供することで、コードの可読性と一貫性を高めています。\n",
    "        この連鎖可能な（chainable）構文は、単なる見た目の問題ではなく、後の遅延実行APIの論理計画を構築する上で中核的な役割を果たします。\n",
    "    \"\"\"))"
   ]
  },
  {
   "cell_type": "markdown",
   "id": "8a079110-fd20-40eb-b8e5-6ca6aee46180",
   "metadata": {
    "deletable": true,
    "editable": true,
    "frozen": false
   },
   "source": [
    "---"
   ]
  },
  {
   "cell_type": "markdown",
   "id": "00871199-9bd7-47f7-af7a-b71d10791613",
   "metadata": {
    "deletable": false,
    "editable": false,
    "frozen": true
   },
   "source": [
    "# Part 2: 式 (Expression) の習得 - Polarsの心臓部 (Knocks 21-45)\n",
    "\n",
    "このパートでは、Polarsの最も重要かつ強力な概念である「式 (Expression) API」に焦点を当てます。式の習得は、Polarsの性能と表現力を最大限に引き出すための鍵となります。\n",
    "\n",
    "## Section 2.1: 列の作成と変換 (with_columns) (Knocks 21-30)\n"
   ]
  },
  {
   "cell_type": "markdown",
   "id": "afcd42e5-7ead-40a4-9faa-82847eaf3e54",
   "metadata": {
    "deletable": false,
    "editable": false,
    "frozen": true
   },
   "source": [
    "### `問題 2.1.1` 列の追加\n",
    "\n",
    "1.1.3の`df_titanic`の列`Age`を2倍にした列`Age2`を追加し、変数`ans`に代入してください。\n",
    "\n",
    "**解答欄**"
   ]
  },
  {
   "cell_type": "code",
   "execution_count": null,
   "id": "9ce6cfa9-c1fd-4a93-bc44-93a4e3e101fc",
   "metadata": {
    "deletable": true,
    "editable": true,
    "frozen": false
   },
   "outputs": [],
   "source": [
    "# ここから解答を作成してください\n"
   ]
  },
  {
   "cell_type": "markdown",
   "id": "974e025a-d419-4eba-9364-306da77d9edd",
   "metadata": {
    "deletable": false,
    "editable": false,
    "frozen": true
   },
   "source": [
    "<details><summary>解答例</summary>\n",
    "<br>\n",
    "\n",
    "```python\n",
    "ans = df_titanic.with_columns(\n",
    "    (col.Age * 2).alias(\"Age2\")\n",
    ")\n",
    "ans[:3]\n",
    "```\n",
    "\n",
    "**別解**\n",
    "```python\n",
    "ans = df.with_columns(Age2=col.Age * 2)\n",
    "```\n",
    "</details>\n",
    "<br>\n",
    "\n",
    "**確認**"
   ]
  },
  {
   "cell_type": "code",
   "execution_count": null,
   "id": "fb0671fc-b3da-4ece-877d-95bd7ad39053",
   "metadata": {
    "deletable": false,
    "editable": false,
    "frozen": false,
    "jupyter": {
     "source_hidden": true
    }
   },
   "outputs": [],
   "source": [
    "# このセルを実行してください\n",
    "try:\n",
    "    _ans = df_titanic.with_columns(Age2=col.Age * 2)\n",
    "    assert _ans.equals(ans)\n",
    "except (AssertionError, NameError):\n",
    "    print(\"\\x1b[31mNG\\x1b[39m\")\n",
    "    print(\"解答例を確認してください\")\n",
    "else:\n",
    "    print(\"\\x1b[32mOK\\x1b[39m\")\n",
    "    print(dedent(\"\"\"\\\n",
    "        解説: .with_columns()は、新しい列を追加したり既存の列を上書きしたりするための主要なメソッドです。\n",
    "        引数には式のリストを渡します。\n",
    "        pl.col(\"Age\") * 2は年齢を2倍にする式で、.alias()を使って新しい列名を指定するのがPolarsの標準的な方法です。\n",
    "    \"\"\"))"
   ]
  },
  {
   "cell_type": "markdown",
   "id": "871414eb-d876-444f-b5eb-f5dfaccc04b9",
   "metadata": {
    "deletable": true,
    "editable": true,
    "frozen": false
   },
   "source": [
    "---"
   ]
  },
  {
   "cell_type": "markdown",
   "id": "11690843-3b14-4619-9557-4066fae93e29",
   "metadata": {
    "deletable": false,
    "editable": false,
    "frozen": true
   },
   "source": [
    "### `問題 2.1.2` 定数値の列を追加\n",
    "\n",
    "1.1.3の`df_titanic`にすべての値が`Titanic`という文字列である列`Ship`を追加し、変数`ans`に代入してください。\n",
    "\n",
    "**解答欄**"
   ]
  },
  {
   "cell_type": "code",
   "execution_count": null,
   "id": "fe0d4715-658d-4650-bf62-5409e41098e3",
   "metadata": {
    "deletable": true,
    "editable": true,
    "frozen": false
   },
   "outputs": [],
   "source": [
    "# ここから解答を作成してください\n"
   ]
  },
  {
   "cell_type": "markdown",
   "id": "4c56bcd7-92f1-40ab-8eca-0744e2784479",
   "metadata": {
    "deletable": false,
    "editable": false,
    "frozen": true
   },
   "source": [
    "<details><summary>解答例</summary>\n",
    "<br>\n",
    "\n",
    "```python\n",
    "ans = df_titanic.with_columns(\n",
    "    Ship=pl.lit(\"Titanic\")\n",
    ")\n",
    "ans[:3]\n",
    "```\n",
    "</details>\n",
    "<br>\n",
    "\n",
    "**確認**"
   ]
  },
  {
   "cell_type": "code",
   "execution_count": null,
   "id": "ced04ca9-b465-4a57-ad78-8e410dc594f7",
   "metadata": {
    "deletable": false,
    "editable": false,
    "frozen": false,
    "jupyter": {
     "source_hidden": true
    }
   },
   "outputs": [],
   "source": [
    "# このセルを実行してください\n",
    "try:\n",
    "    _ans = df_titanic.with_columns(Ship=pl.lit(\"Titanic\"))\n",
    "    assert _ans.equals(ans)\n",
    "except (AssertionError, NameError):\n",
    "    print(\"\\x1b[31mNG\\x1b[39m\")\n",
    "    print(\"解答例を確認してください\")\n",
    "else:\n",
    "    print(\"\\x1b[32mOK\\x1b[39m\")\n",
    "    print(dedent(\"\"\"\\\n",
    "        解説: pl.lit()はリテラル値（定数）を式に変換します。\n",
    "        これにより、すべての行に対して同じ値を効率的にブロードキャストできます。\n",
    "    \"\"\"))"
   ]
  },
  {
   "cell_type": "markdown",
   "id": "a1bb5142-b333-4b3a-a7c8-93b13bc6f416",
   "metadata": {
    "deletable": true,
    "editable": true,
    "frozen": false
   },
   "source": [
    "---"
   ]
  },
  {
   "cell_type": "markdown",
   "id": "d52fbcd0-8a23-4d26-b606-adcf3ddc7461",
   "metadata": {
    "deletable": false,
    "editable": false,
    "frozen": true
   },
   "source": [
    "### `問題 2.1.3` 複数列の追加\n",
    "\n",
    "1.1.3の`df_titanic`に下記の2列を追加し、変数`ans`に代入してください。\n",
    "\n",
    "* `FamilySize`: `SibSp + Parch + 1`\n",
    "* `IsAlone`: `FamilySize == 1`\n",
    "\n",
    "**解答欄**"
   ]
  },
  {
   "cell_type": "code",
   "execution_count": null,
   "id": "e39acce1-c10d-4036-85c9-18c2b84deefc",
   "metadata": {
    "deletable": true,
    "editable": true,
    "frozen": false
   },
   "outputs": [],
   "source": [
    "# ここから解答を作成してください\n"
   ]
  },
  {
   "cell_type": "markdown",
   "id": "feb3b40b-55ec-4e24-935d-0cea0749e61e",
   "metadata": {
    "deletable": false,
    "editable": false,
    "frozen": true
   },
   "source": [
    "<details><summary>解答例</summary>\n",
    "<br>\n",
    "\n",
    "```python\n",
    "ans = df_titanic.with_columns(\n",
    "    FamilySize=col.SibSp + col.Parch + 1\n",
    ").with_columns(\n",
    "    IsAlone=col.FamilySize == 1\n",
    ")\n",
    "ans[:3]\n",
    "```\n",
    "</details>\n",
    "<br>\n",
    "\n",
    "**確認**"
   ]
  },
  {
   "cell_type": "code",
   "execution_count": null,
   "id": "511fafa4-d59c-4f73-8646-c4769456d380",
   "metadata": {
    "deletable": false,
    "editable": false,
    "frozen": false,
    "jupyter": {
     "source_hidden": true
    }
   },
   "outputs": [],
   "source": [
    "# このセルを実行してください\n",
    "try:\n",
    "    _ans = df_titanic.with_columns(\n",
    "        FamilySize=col.SibSp + col.Parch + 1\n",
    "    ).with_columns(\n",
    "        IsAlone=col.FamilySize == 1\n",
    "    )\n",
    "    assert _ans.equals(ans)\n",
    "except (AssertionError, NameError):\n",
    "    print(\"\\x1b[31mNG\\x1b[39m\")\n",
    "    print(\"解答例を確認してください\")\n",
    "else:\n",
    "    print(\"\\x1b[32mOK\\x1b[39m\")\n",
    "    print(dedent(\"\"\"\\\n",
    "        解説: 複数の新しい列は、一つの.with_columns()内にカンマ区切りで式を並べるか、.with_columns()を連鎖させることで追加できます。\n",
    "        後者の方法では、先に追加した列を次の.with_columns()ですぐに利用できます。\n",
    "    \"\"\"))"
   ]
  },
  {
   "cell_type": "markdown",
   "id": "4c9a1fbd-6bfb-4089-ad33-707bc59dde77",
   "metadata": {
    "deletable": true,
    "editable": true,
    "frozen": false
   },
   "source": [
    "---"
   ]
  },
  {
   "cell_type": "markdown",
   "id": "68dfe15b-93ad-4c57-9d4e-29791fe284b8",
   "metadata": {
    "deletable": false,
    "editable": false,
    "frozen": true
   },
   "source": [
    "### `問題 2.1.4` 列の変更\n",
    "\n",
    "1.1.3の`df_titanic`を下記のように修正し、変数`ans`に代入してください。\n",
    "\n",
    "* 列`Fare`の値をポンドから円に換算し、列名を`FareJPY`に変更する（1ポンド=150円と仮定）。\n",
    "\n",
    "**解答欄**"
   ]
  },
  {
   "cell_type": "code",
   "execution_count": null,
   "id": "ceeb9a24-3b46-4194-be5c-3565172fcb0d",
   "metadata": {
    "deletable": true,
    "editable": true,
    "frozen": false
   },
   "outputs": [],
   "source": [
    "# ここから解答を作成してください\n"
   ]
  },
  {
   "cell_type": "markdown",
   "id": "1adce130-55c4-4f80-9178-4f8fbb2aafbb",
   "metadata": {
    "deletable": false,
    "editable": false,
    "frozen": true
   },
   "source": [
    "<details><summary>解答例</summary>\n",
    "<br>\n",
    "\n",
    "```python\n",
    "ans = df_titanic.with_columns(\n",
    "    FareJPY=col.Fare * 150\n",
    ").drop(\"Fare\")\n",
    "ans[:3]\n",
    "```\n",
    "</details>\n",
    "<br>\n",
    "\n",
    "**確認**"
   ]
  },
  {
   "cell_type": "code",
   "execution_count": null,
   "id": "394171ba-ba5a-403b-a591-9a6fe0b9f392",
   "metadata": {
    "deletable": false,
    "editable": false,
    "frozen": false,
    "jupyter": {
     "source_hidden": true
    }
   },
   "outputs": [],
   "source": [
    "# このセルを実行してください\n",
    "try:\n",
    "    _ans1 = df_titanic.with_columns(FareJPY=col.Fare * 150).drop(\"Fare\")\n",
    "    _ans2 = df_titanic.with_columns(col.Fare * 150).rename({\"Fare\": \"FareJPY\"})\n",
    "    assert _ans1.equals(ans) or _ans2.equals(ans)\n",
    "except (AssertionError, NameError):\n",
    "    print(\"\\x1b[31mNG\\x1b[39m\")\n",
    "    print(\"解答例を確認してください\")\n",
    "else:\n",
    "    print(\"\\x1b[32mOK\\x1b[39m\")"
   ]
  },
  {
   "cell_type": "markdown",
   "id": "27ed4c00-3aa0-4b33-bece-aac13c330795",
   "metadata": {
    "deletable": true,
    "editable": true,
    "frozen": false
   },
   "source": [
    "---"
   ]
  },
  {
   "cell_type": "markdown",
   "id": "13d1958b-cb8e-4c1f-bdaa-03e76e091404",
   "metadata": {
    "deletable": false,
    "editable": false,
    "frozen": true
   },
   "source": [
    "### `問題 2.1.5` 型の変換\n",
    "\n",
    "1.1.3の`df_titanic`の列`Pclass`を整数型から文字列型に変換し、変数`ans`に代入してください。\n",
    "\n",
    "**解答欄**"
   ]
  },
  {
   "cell_type": "code",
   "execution_count": null,
   "id": "89d717c6-c657-4f29-a96a-dd912fe24a02",
   "metadata": {
    "deletable": true,
    "editable": true,
    "frozen": false
   },
   "outputs": [],
   "source": [
    "# ここから解答を作成してください\n"
   ]
  },
  {
   "cell_type": "markdown",
   "id": "8c8db9ab-90b9-4b78-b41f-87235b0addc9",
   "metadata": {
    "deletable": false,
    "editable": false,
    "frozen": true
   },
   "source": [
    "<details><summary>解答例</summary>\n",
    "<br>\n",
    "\n",
    "```python\n",
    "ans = df.with_columns(\n",
    "    col.Pclass.cast(pl.Utf8)\n",
    ")\n",
    "ans[:3]\n",
    "```\n",
    "</details>\n",
    "<br>\n",
    "\n",
    "**確認**"
   ]
  },
  {
   "cell_type": "code",
   "execution_count": null,
   "id": "248f2e9f-b65c-4df5-b81c-103219f56d89",
   "metadata": {
    "deletable": false,
    "editable": false,
    "frozen": false,
    "jupyter": {
     "source_hidden": true
    }
   },
   "outputs": [],
   "source": [
    "# このセルを実行してください\n",
    "try:\n",
    "    _ans = df_titanic.with_columns(\n",
    "        col.Pclass.cast(pl.Utf8)\n",
    "    )\n",
    "    assert _ans.equals(ans)\n",
    "except (AssertionError, NameError):\n",
    "    print(\"\\x1b[31mNG\\x1b[39m\")\n",
    "    print(\"解答例を確認してください\")\n",
    "else:\n",
    "    print(\"\\x1b[32mOK\\x1b[39m\")\n",
    "    print(dedent(\"\"\"\\\n",
    "        解説: .cast()メソッドは、列のデータ型を変換します。\n",
    "        Polarsは厳密な型システムを持っており、意図しない型変換が起こりにくいため、明示的なキャストが重要です。\n",
    "    \"\"\"))"
   ]
  },
  {
   "cell_type": "markdown",
   "id": "e66e4670-3406-4c8b-a033-bfc47bd40a70",
   "metadata": {
    "deletable": true,
    "editable": true,
    "frozen": false
   },
   "source": [
    "---"
   ]
  },
  {
   "cell_type": "markdown",
   "id": "dfeed910-3ac2-449e-90d2-ce1400ddd200",
   "metadata": {
    "deletable": false,
    "editable": false,
    "frozen": true
   },
   "source": [
    "### `問題 2.1.6` 欠損値\n",
    "\n",
    "1.1.3の`df_titanic`の列Ageの欠損値を全体の平均年齢で埋めて、変数`ans`に代入してください。\n",
    "\n",
    "**解答欄**"
   ]
  },
  {
   "cell_type": "code",
   "execution_count": null,
   "id": "5c73f55b-c336-4595-8a8e-52354b513bc6",
   "metadata": {
    "deletable": true,
    "editable": true,
    "frozen": false
   },
   "outputs": [],
   "source": [
    "# ここから解答を作成してください\n"
   ]
  },
  {
   "cell_type": "markdown",
   "id": "500c06e0-ff79-44d2-8600-814a5da91ccd",
   "metadata": {
    "deletable": false,
    "editable": false,
    "frozen": true
   },
   "source": [
    "<details><summary>解答例</summary>\n",
    "<br>\n",
    "\n",
    "```python\n",
    "ans = df_titanic.with_columns(\n",
    "    col.Age.fill_null(col.Age.mean())\n",
    ")\n",
    "ans[:3]\n",
    "```\n",
    "</details>\n",
    "<br>\n",
    "\n",
    "**確認**"
   ]
  },
  {
   "cell_type": "code",
   "execution_count": null,
   "id": "211b2c2d-5c34-4ab4-a780-961ad254cbc3",
   "metadata": {
    "deletable": false,
    "editable": false,
    "frozen": false,
    "jupyter": {
     "source_hidden": true
    }
   },
   "outputs": [],
   "source": [
    "# このセルを実行してください\n",
    "try:\n",
    "    _ans = df_titanic.with_columns(\n",
    "        col.Age.fill_null(col.Age.mean())\n",
    "    )\n",
    "    assert _ans.equals(ans)\n",
    "except (AssertionError, NameError):\n",
    "    print(\"\\x1b[31mNG\\x1b[39m\")\n",
    "    print(\"解答例を確認してください\")\n",
    "else:\n",
    "    print(\"\\x1b[32mOK\\x1b[39m\")\n",
    "    print(dedent(\"\"\"\\\n",
    "        解説: .fill_null()は欠損値を埋めるためのメソッドです。\n",
    "        引数にはリテラル値だけでなく、pl.col(\"Age\").mean()のような式も渡すことができます。\n",
    "        これにより、動的な値で欠損値を補完できます。\n",
    "    \"\"\"))"
   ]
  },
  {
   "cell_type": "markdown",
   "id": "c0565d5d-69ff-413a-b4f3-7ebfaff96724",
   "metadata": {
    "deletable": true,
    "editable": true,
    "frozen": false
   },
   "source": [
    "---"
   ]
  },
  {
   "cell_type": "markdown",
   "id": "1a17b6fc-3cb3-46fe-87de-c285ab6a1432",
   "metadata": {
    "deletable": false,
    "editable": false,
    "frozen": true
   },
   "source": [
    "### `問題 2.1.7` 行方向の計算\n",
    "\n",
    "1.1.3の`df_titanic`を次の条件で修正し、変数`ans`に代入してください。\n",
    "\n",
    "* 列名を`MaxFamilyMember`とし、行ごとに「列`SibSp`と列`Parch`の最大値」の列を追加\n",
    "\n",
    "**解答欄**"
   ]
  },
  {
   "cell_type": "code",
   "execution_count": null,
   "id": "6c6c9c83-82ff-4097-b8da-d915db4a4de6",
   "metadata": {
    "deletable": true,
    "editable": true,
    "frozen": false
   },
   "outputs": [],
   "source": [
    "# ここから解答を作成してください\n"
   ]
  },
  {
   "cell_type": "markdown",
   "id": "b59c5ea0-58b8-4a33-bb8f-892b5feabfd7",
   "metadata": {
    "deletable": false,
    "editable": false,
    "frozen": true
   },
   "source": [
    "<details><summary>解答例</summary>\n",
    "<br>\n",
    "\n",
    "```python\n",
    "ans = df_titanic.with_columns(\n",
    "    MaxFamilyMember=pl.max_horizontal(col.SibSp, col.Parch)\n",
    ")\n",
    "ans[:3]\n",
    "```\n",
    "</details>\n",
    "<br>\n",
    "\n",
    "**確認**"
   ]
  },
  {
   "cell_type": "code",
   "execution_count": null,
   "id": "bbdab603-d584-4191-b194-ff318787b9b2",
   "metadata": {
    "deletable": false,
    "editable": false,
    "frozen": false,
    "jupyter": {
     "source_hidden": true
    }
   },
   "outputs": [],
   "source": [
    "# このセルを実行してください\n",
    "try:\n",
    "    _ans = df_titanic.with_columns(\n",
    "        MaxFamilyMember=pl.max_horizontal(col.SibSp, col.Parch)\n",
    "    )\n",
    "    assert _ans.equals(ans)\n",
    "except (AssertionError, NameError):\n",
    "    print(\"\\x1b[31mNG\\x1b[39m\")\n",
    "    print(\"解答例を確認してください\")\n",
    "else:\n",
    "    print(\"\\x1b[32mOK\\x1b[39m\")\n",
    "    print(dedent(\"\"\"\\\n",
    "        解説: pl.max_horizontal（またはpl.min_horizontal, pl.sum_horizontal）は、複数の列を横断して行ごとの計算を行うための関数です。\n",
    "    \"\"\"))"
   ]
  },
  {
   "cell_type": "markdown",
   "id": "48c0732e-82fd-4a52-9977-2be8f9cf71d3",
   "metadata": {
    "deletable": true,
    "editable": true,
    "frozen": false
   },
   "source": [
    "---"
   ]
  },
  {
   "cell_type": "markdown",
   "id": "9e0c4b90-422c-44cd-ab7e-2e51c059c408",
   "metadata": {
    "deletable": false,
    "editable": false,
    "frozen": true
   },
   "source": [
    "### `問題 2.1.8` 列名の変更\n",
    "\n",
    "1.1.3の`df_titanic`を次の条件で修正し、変数`ans`に代入してください。\n",
    "\n",
    "* 列`PassengerId`の名前を`ID`に変更する\n",
    "* 列`Pclass`の名前を`Class`に変更する\n",
    "\n",
    "**解答欄**"
   ]
  },
  {
   "cell_type": "code",
   "execution_count": null,
   "id": "8106ade1-8457-4ed5-8427-d14a7cf5803e",
   "metadata": {
    "deletable": true,
    "editable": true,
    "frozen": false
   },
   "outputs": [],
   "source": [
    "# ここから解答を作成してください\n"
   ]
  },
  {
   "cell_type": "markdown",
   "id": "afa6a010-2c93-4946-8e06-612261446995",
   "metadata": {
    "deletable": false,
    "editable": false,
    "frozen": true
   },
   "source": [
    "<details><summary>解答例</summary>\n",
    "<br>\n",
    "\n",
    "```python\n",
    "ans = df_titanic.rename({\"PassengerId\": \"ID\", \"Pclass\": \"Class\"})\n",
    "ans[:3]\n",
    "```\n",
    "</details>\n",
    "<br>\n",
    "\n",
    "**確認**"
   ]
  },
  {
   "cell_type": "code",
   "execution_count": null,
   "id": "0a1fb28b-19b0-4856-99a9-b58512fad176",
   "metadata": {
    "deletable": false,
    "editable": false,
    "frozen": false,
    "jupyter": {
     "source_hidden": true
    }
   },
   "outputs": [],
   "source": [
    "# このセルを実行してください\n",
    "try:\n",
    "    _ans = df_titanic.rename({\"PassengerId\": \"ID\", \"Pclass\": \"Class\"})\n",
    "    assert _ans.equals(ans)\n",
    "except (AssertionError, NameError):\n",
    "    print(\"\\x1b[31mNG\\x1b[39m\")\n",
    "    print(\"解答例を確認してください\")\n",
    "else:\n",
    "    print(\"\\x1b[32mOK\\x1b[39m\")"
   ]
  },
  {
   "cell_type": "markdown",
   "id": "c59867ab-8a14-417a-9b18-ef23f2fda689",
   "metadata": {
    "deletable": true,
    "editable": true,
    "frozen": false
   },
   "source": [
    "---"
   ]
  },
  {
   "cell_type": "markdown",
   "id": "c67b6810-8ef1-433f-8f75-fc651ff672fe",
   "metadata": {
    "deletable": false,
    "editable": false,
    "frozen": true
   },
   "source": [
    "### `問題 2.1.9` 全数値列の変更\n",
    "\n",
    "1.1.3の`df_titanic`を次の条件で修正し、変数`ans`に代入してください。\n",
    "\n",
    "* すべての浮動小数点数型の列の値を小数点以下第一位で丸める\n",
    "\n",
    "**解答欄**"
   ]
  },
  {
   "cell_type": "code",
   "execution_count": null,
   "id": "7e7412ed-0717-404f-846e-773329b0a14b",
   "metadata": {
    "deletable": true,
    "editable": true,
    "frozen": false
   },
   "outputs": [],
   "source": [
    "# ここから解答を作成してください\n"
   ]
  },
  {
   "cell_type": "markdown",
   "id": "acede969-308b-485a-8108-3950c98ec287",
   "metadata": {
    "deletable": false,
    "editable": false,
    "frozen": true
   },
   "source": [
    "<details><summary>解答例</summary>\n",
    "<br>\n",
    "\n",
    "```python\n",
    "ans = df_titanic.with_columns(\n",
    "    cs.float().round(1)\n",
    ")\n",
    "ans[:3]\n",
    "```\n",
    "</details>\n",
    "<br>\n",
    "\n",
    "**確認**"
   ]
  },
  {
   "cell_type": "code",
   "execution_count": null,
   "id": "e3cc211a-d352-43fd-8341-d1f66d19d6b3",
   "metadata": {
    "deletable": false,
    "editable": false,
    "frozen": false,
    "jupyter": {
     "source_hidden": true
    }
   },
   "outputs": [],
   "source": [
    "# このセルを実行してください\n",
    "try:\n",
    "    _ans = df_titanic.with_columns(\n",
    "    cs.float().round(1)\n",
    ")\n",
    "    assert _ans.equals(ans)\n",
    "except (AssertionError, NameError):\n",
    "    print(\"\\x1b[31mNG\\x1b[39m\")\n",
    "    print(\"解答例を確認してください\")\n",
    "else:\n",
    "    print(\"\\x1b[32mOK\\x1b[39m\")\n",
    "    print(dedent(\"\"\"\\\n",
    "        解説: cs.float()のようにデータ型で列を選択し、それらすべてに同じ操作（この場合は.round(1)）を適用できます。\n",
    "        これにより、コードの冗長性を減らし、保守性を高めることができます。\n",
    "    \"\"\"))"
   ]
  },
  {
   "cell_type": "markdown",
   "id": "c6e811ca-4763-468a-be76-94f3a5044b00",
   "metadata": {
    "deletable": true,
    "editable": true,
    "frozen": false
   },
   "source": [
    "---"
   ]
  },
  {
   "cell_type": "markdown",
   "id": "6660a2e3-91de-4e64-a84f-52368b2ab8e5",
   "metadata": {
    "deletable": false,
    "editable": false,
    "frozen": true
   },
   "source": [
    "### `問題 2.1.10` 列の並べ替え\n",
    "\n",
    "1.1.3の`df_titanic`を次の条件で修正し、変数`ans`に代入してください。\n",
    "\n",
    "* 列`Survived`、列`Pclass`、列`Name`、列`Sex`、列`Age`の順に列を並べ替え、残りの列をその後ろに配置する\n",
    "\n",
    "**解答欄**"
   ]
  },
  {
   "cell_type": "code",
   "execution_count": null,
   "id": "7b4d00f5-b7a6-46a7-9ee1-c7a01acb1f3e",
   "metadata": {
    "deletable": true,
    "editable": true,
    "frozen": false
   },
   "outputs": [],
   "source": [
    "_cols = \"Survived\", \"Pclass\", \"Name\", \"Sex\", \"Age\"\n",
    "# ここから解答を作成してください\n"
   ]
  },
  {
   "cell_type": "markdown",
   "id": "c6e85ce2-12d0-468a-91de-b106637c329c",
   "metadata": {
    "deletable": false,
    "editable": false,
    "frozen": true
   },
   "source": [
    "<details><summary>解答例</summary>\n",
    "<br>\n",
    "\n",
    "```python\n",
    "ans = df_titanic.select(*_cols, pl.exclude(_cols))\n",
    "ans[:3]\n",
    "```\n",
    "</details>\n",
    "<br>\n",
    "\n",
    "**確認**"
   ]
  },
  {
   "cell_type": "code",
   "execution_count": null,
   "id": "e3e2980b-a858-4b05-b363-ffecc091ea54",
   "metadata": {
    "deletable": false,
    "editable": false,
    "frozen": false,
    "jupyter": {
     "source_hidden": true
    }
   },
   "outputs": [],
   "source": [
    "# このセルを実行してください\n",
    "try:\n",
    "    _ans = df_titanic.select(*_cols, pl.exclude(_cols))\n",
    "    assert _ans.equals(ans)\n",
    "except (AssertionError, NameError):\n",
    "    print(\"\\x1b[31mNG\\x1b[39m\")\n",
    "    print(\"解答例を確認してください\")\n",
    "else:\n",
    "    print(\"\\x1b[32mOK\\x1b[39m\")\n",
    "    print(dedent(\"\"\"\\\n",
    "        解説: .select()は列の選択だけでなく、順序の指定にも使用されます。\n",
    "        pl.exclude(...)は、「指定した列を除くすべての列」を意味し、特定の列を先頭に配置しつつ、残りの列を維持したい場合に非常に便利です。\n",
    "    \"\"\"))"
   ]
  },
  {
   "cell_type": "markdown",
   "id": "d6aea8ee-cc0c-44f2-9a42-7705d87826fc",
   "metadata": {
    "deletable": true,
    "editable": true,
    "frozen": false
   },
   "source": [
    "---"
   ]
  },
  {
   "cell_type": "markdown",
   "id": "327bf7d7-88c2-4ef9-9c7d-ed8407b46f50",
   "metadata": {
    "deletable": false,
    "editable": false,
    "frozen": true
   },
   "source": [
    "## Section 2.2: 条件分岐 (when/then/otherwise) (Knocks 31-35)\n"
   ]
  },
  {
   "cell_type": "markdown",
   "id": "476597f4-0164-4289-abf8-be7718e730c7",
   "metadata": {
    "deletable": false,
    "editable": false,
    "frozen": true
   },
   "source": [
    "### `問題 2.2.1` 条件で列の追加\n",
    "\n",
    "1.1.3の`df_titanic`を次の条件で修正し、変数`ans`に代入してください。\n",
    "\n",
    "* 列`Age`に基づいて、18歳未満なら`Child`、18歳以上なら`Adult`とする\n",
    "  * 列名を`AgeGroup`とする\n",
    "\n",
    "**解答欄**"
   ]
  },
  {
   "cell_type": "code",
   "execution_count": null,
   "id": "0b7cadb2-9b37-4b80-9718-f3cff90c23e6",
   "metadata": {
    "deletable": true,
    "editable": true,
    "frozen": false
   },
   "outputs": [],
   "source": [
    "# ここから解答を作成してください\n"
   ]
  },
  {
   "cell_type": "markdown",
   "id": "8e773130-53ba-49a3-b326-1d53447f861e",
   "metadata": {
    "deletable": false,
    "editable": false,
    "frozen": true
   },
   "source": [
    "<details><summary>解答例</summary>\n",
    "<br>\n",
    "\n",
    "```python\n",
    "ans = df_titanic.with_columns(\n",
    "    AgeGroup=pl.when(col.Age < 18)\n",
    "    .then(pl.lit(\"Child\"))\n",
    "    .otherwise(pl.lit(\"Adult\"))\n",
    ")\n",
    "ans[:3]\n",
    "```\n",
    "</details>\n",
    "<br>\n",
    "\n",
    "**確認**"
   ]
  },
  {
   "cell_type": "code",
   "execution_count": null,
   "id": "dfb7092d-9ede-4462-bf99-d81c020f9314",
   "metadata": {
    "deletable": false,
    "editable": false,
    "frozen": false,
    "jupyter": {
     "source_hidden": true
    }
   },
   "outputs": [],
   "source": [
    "# このセルを実行してください\n",
    "try:\n",
    "    _ans = df_titanic.with_columns(\n",
    "        AgeGroup=pl.when(col.Age < 18)\n",
    "        .then(pl.lit(\"Child\"))\n",
    "        .otherwise(pl.lit(\"Adult\"))\n",
    "    )\n",
    "    assert _ans.equals(ans)\n",
    "except (AssertionError, NameError):\n",
    "    print(\"\\x1b[31mNG\\x1b[39m\")\n",
    "    print(\"解答例を確認してください\")\n",
    "else:\n",
    "    print(\"\\x1b[32mOK\\x1b[39m\")\n",
    "    print(dedent(\"\"\"\\\n",
    "        解説: pl.when(condition).then(value_if_true).otherwise(value_if_false)は、SQLのCASE WHEN文やプログラミング言語のif-else文に相当する強力な構文です。\n",
    "    \"\"\"))"
   ]
  },
  {
   "cell_type": "markdown",
   "id": "4c613338-07c1-4f99-b48f-3b39f5a32fa6",
   "metadata": {
    "deletable": true,
    "editable": true,
    "frozen": false
   },
   "source": [
    "---"
   ]
  },
  {
   "cell_type": "markdown",
   "id": "5a8fe745-3dc7-43f2-b1c6-1925ebdff9ff",
   "metadata": {
    "deletable": false,
    "editable": false,
    "frozen": true
   },
   "source": [
    "### `問題 2.2.2` 複数条件の連鎖\n",
    "\n",
    "1.1.3の`df_titanic`を次の条件で修正し、変数`ans`に代入してください。\n",
    "\n",
    "* 列`Age`に基づいて、12歳未満なら`Child`、12歳以上60歳未満は`Adult`、60歳以上は`Senior`とする\n",
    "  * 列名を`AgeCategory`とする\n",
    "\n",
    "**解答欄**"
   ]
  },
  {
   "cell_type": "code",
   "execution_count": null,
   "id": "ecfac0f3-4671-4974-9037-43b23ff121f5",
   "metadata": {
    "deletable": true,
    "editable": true,
    "frozen": false
   },
   "outputs": [],
   "source": [
    "# ここから解答を作成してください\n"
   ]
  },
  {
   "cell_type": "markdown",
   "id": "c3d75e92-2368-42df-bb38-c0c54e06cfc3",
   "metadata": {
    "deletable": false,
    "editable": false,
    "frozen": true
   },
   "source": [
    "<details><summary>解答例</summary>\n",
    "<br>\n",
    "\n",
    "```python\n",
    "ans = df_titanic.with_columns(\n",
    "    AgeCategory=pl.when(col.Age < 12)\n",
    "    .then(pl.lit(\"Child\"))\n",
    "    .when(col.Age < 60)\n",
    "    .then(pl.lit(\"Adult\"))\n",
    "    .otherwise(pl.lit(\"Senior\"))\n",
    ")\n",
    "ans[:3]\n",
    "```\n",
    "</details>\n",
    "<br>\n",
    "\n",
    "**確認**"
   ]
  },
  {
   "cell_type": "code",
   "execution_count": null,
   "id": "ad1f6ad6-e780-4ac3-80df-7b286a7f149f",
   "metadata": {
    "deletable": false,
    "editable": false,
    "frozen": false,
    "jupyter": {
     "source_hidden": true
    }
   },
   "outputs": [],
   "source": [
    "# このセルを実行してください\n",
    "try:\n",
    "    _ans = df_titanic.with_columns(\n",
    "        AgeCategory=pl.when(col.Age < 12)\n",
    "        .then(pl.lit(\"Child\"))\n",
    "        .when(col.Age < 60)\n",
    "        .then(pl.lit(\"Adult\"))\n",
    "        .otherwise(pl.lit(\"Senior\"))\n",
    "    )\n",
    "    assert _ans.equals(ans)\n",
    "except (AssertionError, NameError):\n",
    "    print(\"\\x1b[31mNG\\x1b[39m\")\n",
    "    print(\"解答例を確認してください\")\n",
    "else:\n",
    "    print(\"\\x1b[32mOK\\x1b[39m\")\n",
    "    print(dedent(\"\"\"\\\n",
    "        解説: .when().then()を複数連結することで、複雑な条件分岐を表現できます。\n",
    "        条件は上から順に評価され、最初にTrueとなった.then()の値が採用されます。\n",
    "        どの条件にも一致しない場合は.otherwise()の値が使われます。\n",
    "    \"\"\"))"
   ]
  },
  {
   "cell_type": "markdown",
   "id": "774eac50-a01a-446b-a54d-9333d8edcfdf",
   "metadata": {
    "deletable": true,
    "editable": true,
    "frozen": false
   },
   "source": [
    "---"
   ]
  },
  {
   "cell_type": "markdown",
   "id": "d961099b-0f45-4b87-b8b8-f2116433c30e",
   "metadata": {
    "deletable": false,
    "editable": false,
    "frozen": true
   },
   "source": [
    "### `問題 2.2.3` then/otherwiseに式\n",
    "\n",
    "1.1.3の`df_titanic`を次の条件で修正し、変数`ans`に代入してください。\n",
    "\n",
    "* 列`Sex`が\"female\"なら列`Fare`そのままの値、\"male\"なら列`Fare`の10%増しの値とする\n",
    "  * 列名を`AdjustedFare`とする\n",
    "\n",
    "**解答欄**"
   ]
  },
  {
   "cell_type": "code",
   "execution_count": null,
   "id": "27f9ccf7-a8f5-4598-a1c5-55977416daca",
   "metadata": {
    "deletable": true,
    "editable": true,
    "frozen": false
   },
   "outputs": [],
   "source": [
    "# ここから解答を作成してください\n"
   ]
  },
  {
   "cell_type": "markdown",
   "id": "6ea332b6-c254-4645-90bb-c115ebd961d9",
   "metadata": {
    "deletable": false,
    "editable": false,
    "frozen": true
   },
   "source": [
    "<details><summary>解答例</summary>\n",
    "<br>\n",
    "\n",
    "```python\n",
    "ans = df_titanic.with_columns(\n",
    "    AdjustedFare=pl.when(col.Sex == \"female\")\n",
    "    .then(col.Fare)\n",
    "    .otherwise(col.Fare * 1.1)\n",
    ")\n",
    "ans[:3]\n",
    "```\n",
    "</details>\n",
    "<br>\n",
    "\n",
    "**確認**"
   ]
  },
  {
   "cell_type": "code",
   "execution_count": null,
   "id": "607ae7be-2334-4f74-a998-90ada56cb99b",
   "metadata": {
    "deletable": false,
    "editable": false,
    "frozen": false,
    "jupyter": {
     "source_hidden": true
    }
   },
   "outputs": [],
   "source": [
    "# このセルを実行してください\n",
    "try:\n",
    "    _ans = df_titanic.with_columns(\n",
    "        AdjustedFare=pl.when(col.Sex == \"female\")\n",
    "        .then(col.Fare)\n",
    "        .otherwise(col.Fare * 1.1)\n",
    "    )\n",
    "    assert _ans.equals(ans)\n",
    "except (AssertionError, NameError):\n",
    "    print(\"\\x1b[31mNG\\x1b[39m\")\n",
    "    print(\"解答例を確認してください\")\n",
    "else:\n",
    "    print(\"\\x1b[32mOK\\x1b[39m\")\n",
    "    print(dedent(\"\"\"\\\n",
    "        解説: .then()や.otherwise()には、リテラル値だけでなく、pl.col()を使った式も指定できます。\n",
    "        これにより、条件に応じて動的な計算を実行できます。\n",
    "    \"\"\"))"
   ]
  },
  {
   "cell_type": "markdown",
   "id": "92b8b9a0-0ecb-4115-a2b0-f4bb33c7e6f8",
   "metadata": {
    "deletable": true,
    "editable": true,
    "frozen": false
   },
   "source": [
    "---"
   ]
  },
  {
   "cell_type": "markdown",
   "id": "33ba8e24-d72e-4ad8-9b27-f39b379b7599",
   "metadata": {
    "deletable": false,
    "editable": false,
    "frozen": true
   },
   "source": [
    "### `問題 2.2.4` 条件に合わない値をnull\n",
    "\n",
    "1.1.3の`df_titanic`を次の条件で修正し、変数`ans`に代入してください。\n",
    "\n",
    "* 列`Fare`が50以上の乗客の年齢を値とする（それ以外をnull）\n",
    "  * 列名を`HighFareAge`とする\n",
    "\n",
    "**解答欄**"
   ]
  },
  {
   "cell_type": "code",
   "execution_count": null,
   "id": "ad457b5d-f091-4f40-bff9-16e4f0388463",
   "metadata": {
    "deletable": true,
    "editable": true,
    "frozen": false
   },
   "outputs": [],
   "source": [
    "# ここから解答を作成してください\n"
   ]
  },
  {
   "cell_type": "markdown",
   "id": "5793689d-8cc5-4ae3-9b89-c62dd7264d37",
   "metadata": {
    "deletable": false,
    "editable": false,
    "frozen": true
   },
   "source": [
    "<details><summary>解答例</summary>\n",
    "<br>\n",
    "\n",
    "```python\n",
    "ans = df_titanic.with_columns(\n",
    "    HighFareAge=pl.when(col.Fare >= 50).then(\"Age\")\n",
    ")\n",
    "ans[:3]\n",
    "```\n",
    "</details>\n",
    "<br>\n",
    "\n",
    "**確認**"
   ]
  },
  {
   "cell_type": "code",
   "execution_count": null,
   "id": "9945dc28-b0d3-498a-9a7f-4efa999e3bc1",
   "metadata": {
    "deletable": false,
    "editable": false,
    "frozen": false,
    "jupyter": {
     "source_hidden": true
    }
   },
   "outputs": [],
   "source": [
    "# このセルを実行してください\n",
    "try:\n",
    "    _ans = df_titanic.with_columns(\n",
    "        HighFareAge=pl.when(col.Fare >= 50).then(\"Age\")\n",
    "    )\n",
    "    assert _ans.equals(ans)\n",
    "except (AssertionError, NameError):\n",
    "    print(\"\\x1b[31mNG\\x1b[39m\")\n",
    "    print(\"解答例を確認してください\")\n",
    "else:\n",
    "    print(\"\\x1b[32mOK\\x1b[39m\")"
   ]
  },
  {
   "cell_type": "markdown",
   "id": "586c6204-54c1-4dbd-9b50-2ed56f1ef7d7",
   "metadata": {
    "deletable": true,
    "editable": true,
    "frozen": false
   },
   "source": [
    "---"
   ]
  },
  {
   "cell_type": "markdown",
   "id": "6a3fd9ba-fb80-4afc-a44f-2a1438f241b3",
   "metadata": {
    "deletable": false,
    "editable": false,
    "frozen": true
   },
   "source": [
    "### `問題 2.2.5` 複数列の条件の組み合わせ\n",
    "\n",
    "1.1.3の`df_titanic`を次の条件で修正し、変数`ans`に代入してください。\n",
    "\n",
    "* 列`Pclass`が1で、かつ列`Embarked`が\"S\"の乗客に\"Elite\"という称号を与え、それ以外を\"Common\"とする\n",
    "  * 列名を`Status`とする\n",
    "\n",
    "**解答欄**"
   ]
  },
  {
   "cell_type": "code",
   "execution_count": null,
   "id": "94fe85f6-f06c-4ea5-bdc5-bfa47c366160",
   "metadata": {
    "deletable": true,
    "editable": true,
    "frozen": false
   },
   "outputs": [],
   "source": [
    "# ここから解答を作成してください\n"
   ]
  },
  {
   "cell_type": "markdown",
   "id": "2c0b108b-a59f-4853-9ad5-b1ae9355ccbe",
   "metadata": {
    "deletable": false,
    "editable": false,
    "frozen": true
   },
   "source": [
    "<details><summary>解答例</summary>\n",
    "<br>\n",
    "\n",
    "```python\n",
    "ans = df_titanic.with_columns(\n",
    "    Status=pl.when((col.Pclass == 1) & (col.Embarked == \"S\"))\n",
    "    .then(pl.lit(\"Elite\"))\n",
    "    .otherwise(pl.lit(\"Common\"))\n",
    ")\n",
    "ans[:3]\n",
    "```\n",
    "</details>\n",
    "<br>\n",
    "\n",
    "**確認**"
   ]
  },
  {
   "cell_type": "code",
   "execution_count": null,
   "id": "d1f4bf3f-f066-4798-8a42-658a91775ad1",
   "metadata": {
    "deletable": false,
    "editable": false,
    "frozen": false,
    "jupyter": {
     "source_hidden": true
    }
   },
   "outputs": [],
   "source": [
    "# このセルを実行してください\n",
    "try:\n",
    "    _ans = df_titanic.with_columns(\n",
    "        Status=pl.when((col.Pclass == 1) & (col.Embarked == \"S\"))\n",
    "        .then(pl.lit(\"Elite\"))\n",
    "        .otherwise(pl.lit(\"Common\"))\n",
    "    )\n",
    "    assert _ans.equals(ans)\n",
    "except (AssertionError, NameError):\n",
    "    print(\"\\x1b[31mNG\\x1b[39m\")\n",
    "    print(\"解答例を確認してください\")\n",
    "else:\n",
    "    print(\"\\x1b[32mOK\\x1b[39m\")"
   ]
  },
  {
   "cell_type": "markdown",
   "id": "0ea9cca3-f52f-405a-a1f6-535e7b65b40c",
   "metadata": {
    "deletable": true,
    "editable": true,
    "frozen": false
   },
   "source": [
    "---"
   ]
  },
  {
   "cell_type": "markdown",
   "id": "17a55f50-a06a-414d-9622-d7d945d95277",
   "metadata": {
    "deletable": false,
    "editable": false,
    "frozen": true
   },
   "source": [
    "## Section 2.3: 強力な名前空間 (.str, .dt, .cat) (Knocks 36-45)\n",
    "\n",
    "Polarsでは、特定のデータ型に対して豊富な機能を提供する「名前空間 (namespace)」が用意されています。これにより、直感的かつ効率的に専門的な操作を行うことができます。\n",
    "\n",
    "| Polarsデータ型                   | Python対応型       | 概要                                         |\n",
    "| -------------------------------- | ------------------ | -------------------------------------------- |\n",
    "| pl.Boolean                       | bool               | ブール値。効率的にビットパックされる。       |\n",
    "| pl.Int8, Int16, Int32, Int64     | int (範囲制限あり) | 符号付き整数。ビット数で精度が変わる。       |\n",
    "| pl.UInt8, UInt16, UInt32, UInt64 | int (範囲制限あり) | 符号なし整数。正の数のみを表現。             |\n",
    "| pl.Float32, Float64              | float              | 浮動小数点数。                               |\n",
    "| pl.Decimal                       | decimal.Decimal    | 固定小数点数。高精度な計算に用いる。         |\n",
    "| pl.String                        | str                | UTF-8エンコードされた文字列。                |\n",
    "| pl.Binary                        | bytes              | バイナリデータ。                             |\n",
    "| pl.Date                          | datetime.date      | 日付。                                       |\n",
    "| pl.Time                          | datetime.time      | 時刻。                                       |\n",
    "| pl.Datetime                      | datetime.datetime  | 日付と時刻。                                 |\n",
    "| pl.Duration                      | datetime.timedelta | 時間間隔。                                   |\n",
    "| pl.Categorical                   | enum.StrEnum       | カテゴリカルデータ。実行時にカテゴリを推論。 |\n",
    "| pl.Enum                          | enum.StrEnum       | 列挙型。事前に定義されたカテゴリを持つ。     |\n",
    "| pl.List                          | list               | 可変長のリスト。要素はすべて同じ型。         |\n",
    "| pl.Array                         | numpy.array        | 固定長の配列。形状がすべての要素で同じ。     |\n",
    "| pl.Struct                        | typing.TypedDict   | 複数のフィールドを持つ構造体。辞書に似る。   |\n",
    "| pl.Object                        | object             | 任意のPythonオブジェクトをラップする。       |\n",
    "| pl.Null                          | None               | 欠損値を表す。                               |\n",
    " \n",
    "\n"
   ]
  },
  {
   "cell_type": "markdown",
   "id": "66de664e-41c3-4693-a323-a14406cbcb8c",
   "metadata": {
    "deletable": false,
    "editable": false,
    "frozen": true
   },
   "source": [
    "### `問題 2.3.1` 文字列の長さ(.str)\n",
    "\n",
    "1.1.3の`df_titanic`を次の条件で修正し、変数`ans`に代入してください。\n",
    "\n",
    "* 列`Name`の乗客の名前の長さ\n",
    "  * 列名を`NameLength`とする\n",
    "\n",
    "**解答欄**"
   ]
  },
  {
   "cell_type": "code",
   "execution_count": null,
   "id": "9c40df95-8453-4780-bd24-f5c793ced436",
   "metadata": {
    "deletable": true,
    "editable": true,
    "frozen": false
   },
   "outputs": [],
   "source": [
    "# ここから解答を作成してください\n"
   ]
  },
  {
   "cell_type": "markdown",
   "id": "c26d767a-d591-49d4-a57e-ea32bf91f5f3",
   "metadata": {
    "deletable": false,
    "editable": false,
    "frozen": true
   },
   "source": [
    "<details><summary>解答例</summary>\n",
    "<br>\n",
    "\n",
    "```python\n",
    "ans = df_titanic.with_columns(\n",
    "    NameLength=col.Name.str.len_chars()\n",
    ")\n",
    "ans[:3]\n",
    "```\n",
    "</details>\n",
    "<br>\n",
    "\n",
    "**確認**"
   ]
  },
  {
   "cell_type": "code",
   "execution_count": null,
   "id": "77c35b75-01e4-4a8c-972d-6943f31a1637",
   "metadata": {
    "deletable": false,
    "editable": false,
    "frozen": false,
    "jupyter": {
     "source_hidden": true
    }
   },
   "outputs": [],
   "source": [
    "# このセルを実行してください\n",
    "try:\n",
    "    _ans = df_titanic.with_columns(\n",
    "        NameLength=col.Name.str.len_chars()\n",
    "    )\n",
    "    assert _ans.equals(ans)\n",
    "except (AssertionError, NameError):\n",
    "    print(\"\\x1b[31mNG\\x1b[39m\")\n",
    "    print(\"解答例を確認してください\")\n",
    "else:\n",
    "    print(\"\\x1b[32mOK\\x1b[39m\")\n",
    "    print(dedent(\"\"\"\\\n",
    "        解説: .str名前空間には、文字列操作のための便利なメソッドが多数含まれています。\n",
    "        .str.len_chars()は文字数を返します。\n",
    "    \"\"\"))"
   ]
  },
  {
   "cell_type": "markdown",
   "id": "a2da7eaf-db1d-4d0d-819d-eeb6c19296f6",
   "metadata": {
    "deletable": true,
    "editable": true,
    "frozen": false
   },
   "source": [
    "---"
   ]
  },
  {
   "cell_type": "markdown",
   "id": "6633378b-8c5c-495f-8395-97fd71904faf",
   "metadata": {
    "deletable": false,
    "editable": false,
    "frozen": true
   },
   "source": [
    "### `問題 2.3.2` 文字列の分割\n",
    "\n",
    "1.1.3の`df_titanic`を次の条件で修正し、変数`ans`に代入してください。\n",
    "\n",
    "* 列`Name`をカンマで分割し、最初の要素（姓）を取得\n",
    "  * 列名を`LastName`とする\n",
    "\n",
    "**解答欄**"
   ]
  },
  {
   "cell_type": "code",
   "execution_count": null,
   "id": "c567d9ec-3e3f-4b1b-93a2-e3f81fd6b020",
   "metadata": {
    "deletable": true,
    "editable": true,
    "frozen": false
   },
   "outputs": [],
   "source": [
    "# ここから解答を作成してください\n"
   ]
  },
  {
   "cell_type": "markdown",
   "id": "154dba5d-5abb-4a07-9c3f-6de64f516a67",
   "metadata": {
    "deletable": false,
    "editable": false,
    "frozen": true
   },
   "source": [
    "<details><summary>解答例</summary>\n",
    "<br>\n",
    "\n",
    "```python\n",
    "ans = df_titanic.with_columns(\n",
    "    LastName=col.Name.str.split(\",\").list.first()\n",
    ")\n",
    "ans[:3]\n",
    "```\n",
    "</details>\n",
    "<br>\n",
    "\n",
    "**確認**"
   ]
  },
  {
   "cell_type": "code",
   "execution_count": null,
   "id": "e40dce8c-67ba-4c2b-bf3c-c23f874625f7",
   "metadata": {
    "deletable": false,
    "editable": false,
    "frozen": false,
    "jupyter": {
     "source_hidden": true
    }
   },
   "outputs": [],
   "source": [
    "# このセルを実行してください\n",
    "try:\n",
    "    _ans = df_titanic.with_columns(\n",
    "        LastName=col.Name.str.split(\",\").list.first()\n",
    "    )\n",
    "    assert _ans.equals(ans)\n",
    "except (AssertionError, NameError):\n",
    "    print(\"\\x1b[31mNG\\x1b[39m\")\n",
    "    print(\"解答例を確認してください\")\n",
    "else:\n",
    "    print(\"\\x1b[32mOK\\x1b[39m\")\n",
    "    print(dedent(\"\"\"\\\n",
    "        解説: .str.split()は文字列を分割し、結果としてList型の列を返します。\n",
    "        そのリストの最初の要素を取得するために、.list.first()を続けて使用します。\n",
    "        このように、異なる名前空間の操作を連鎖させることができます。\n",
    "    \"\"\"))"
   ]
  },
  {
   "cell_type": "markdown",
   "id": "31e54f18-b84b-417c-84a4-3663dbbf72d0",
   "metadata": {
    "deletable": true,
    "editable": true,
    "frozen": false
   },
   "source": [
    "---"
   ]
  },
  {
   "cell_type": "markdown",
   "id": "4ec3aedd-285b-4082-97cf-6bba01c794a1",
   "metadata": {
    "deletable": false,
    "editable": false,
    "frozen": true
   },
   "source": [
    "### `問題 2.3.3` 文字列を含むか判定\n",
    "\n",
    "1.1.3の`df_titanic`を次の条件で修正し、変数`ans`に代入してください。\n",
    "\n",
    "* 列`Name`に`Mr.`が含まれているかどうかを取得する\n",
    "  * 列名を`IsMr`とする\n",
    "\n",
    "**解答欄**"
   ]
  },
  {
   "cell_type": "code",
   "execution_count": null,
   "id": "881ecfc8-d852-4da7-8b75-8f8461c2a01f",
   "metadata": {
    "deletable": true,
    "editable": true,
    "frozen": false
   },
   "outputs": [],
   "source": [
    "# ここから解答を作成してください\n"
   ]
  },
  {
   "cell_type": "markdown",
   "id": "7cd9490e-5cd4-4358-9974-b59af42d6292",
   "metadata": {
    "deletable": false,
    "editable": false,
    "frozen": true
   },
   "source": [
    "<details><summary>解答例</summary>\n",
    "<br>\n",
    "\n",
    "```python\n",
    "ans = df_titanic.with_columns(\n",
    "    IsMr=col.Name.str.contains(\"Mr.\")\n",
    ")\n",
    "ans[:3]\n",
    "```\n",
    "</details>\n",
    "<br>\n",
    "\n",
    "**確認**"
   ]
  },
  {
   "cell_type": "code",
   "execution_count": null,
   "id": "e3e2abeb-0d1f-4b3c-a815-39806506f48e",
   "metadata": {
    "deletable": false,
    "editable": false,
    "frozen": false,
    "jupyter": {
     "source_hidden": true
    }
   },
   "outputs": [],
   "source": [
    "# このセルを実行してください\n",
    "try:\n",
    "    _ans = df_titanic.with_columns(\n",
    "        IsMr=col.Name.str.contains(\"Mr.\")\n",
    "    )\n",
    "    assert _ans.equals(ans)\n",
    "except (AssertionError, NameError):\n",
    "    print(\"\\x1b[31mNG\\x1b[39m\")\n",
    "    print(\"解答例を確認してください\")\n",
    "else:\n",
    "    print(\"\\x1b[32mOK\\x1b[39m\")"
   ]
  },
  {
   "cell_type": "markdown",
   "id": "50825557-1e26-4a4f-be69-ed6fbd36a0d8",
   "metadata": {
    "deletable": true,
    "editable": true,
    "frozen": false
   },
   "source": [
    "---"
   ]
  },
  {
   "cell_type": "markdown",
   "id": "a185afca-1f08-4997-b106-c544f12f37cc",
   "metadata": {
    "deletable": false,
    "editable": false,
    "frozen": true
   },
   "source": [
    "### `問題 2.3.4` 正規表現で抽出\n",
    "\n",
    "1.1.3の`df_titanic`を次の条件で修正し、変数`ans`に代入してください。\n",
    "\n",
    "* 列`Name`から敬称（例: Mr., Mrs., Miss.）を正規表現で抽出する（ピリオドを除く）\n",
    "  * 列名を`Title`とする\n",
    "\n",
    "**解答欄**"
   ]
  },
  {
   "cell_type": "code",
   "execution_count": null,
   "id": "3e8b1a64-06b3-4842-afd4-14229693ff9a",
   "metadata": {
    "deletable": true,
    "editable": true,
    "frozen": false
   },
   "outputs": [],
   "source": [
    "# ここから解答を作成してください\n"
   ]
  },
  {
   "cell_type": "markdown",
   "id": "e4c1bf38-1451-402c-9932-496dfa05ad78",
   "metadata": {
    "deletable": false,
    "editable": false,
    "frozen": true
   },
   "source": [
    "<details><summary>解答例</summary>\n",
    "<br>\n",
    "\n",
    "```python\n",
    "ans = df_titanic.with_columns(\n",
    "    Title=col.Name.str.extract(r\"(Mr|Mrs|Miss)\\.\"),\n",
    ")\n",
    "ans[:3]\n",
    "```\n",
    "</details>\n",
    "<br>\n",
    "\n",
    "**確認**"
   ]
  },
  {
   "cell_type": "code",
   "execution_count": null,
   "id": "0d40e12a-a5a9-4355-819d-8d40c3b41212",
   "metadata": {
    "deletable": false,
    "editable": false,
    "frozen": false,
    "jupyter": {
     "source_hidden": true
    }
   },
   "outputs": [],
   "source": [
    "# このセルを実行してください\n",
    "try:\n",
    "    _ans = df_titanic.with_columns(\n",
    "        Title=col.Name.str.extract(r\"(Mr|Mrs|Miss)\\.\"),\n",
    "    )\n",
    "    assert _ans.equals(ans)\n",
    "except (AssertionError, NameError):\n",
    "    print(\"\\x1b[31mNG\\x1b[39m\")\n",
    "    print(\"解答例を確認してください\")\n",
    "else:\n",
    "    print(\"\\x1b[32mOK\\x1b[39m\")"
   ]
  },
  {
   "cell_type": "markdown",
   "id": "a91ba38c-9598-41eb-bc42-54ad7de73f3b",
   "metadata": {
    "deletable": true,
    "editable": true,
    "frozen": false
   },
   "source": [
    "---"
   ]
  },
  {
   "cell_type": "markdown",
   "id": "c3081a34-375c-4483-a37e-0997be41eb74",
   "metadata": {
    "deletable": false,
    "editable": false,
    "frozen": true
   },
   "source": [
    "### `問題 2.3.5` 日付のパース\n",
    "\n",
    "`file`を読み込み、日付の列`DATE`を日付型に変換し、変数`df_weather`に代入してください。\n",
    "\n",
    "**解答欄**"
   ]
  },
  {
   "cell_type": "code",
   "execution_count": null,
   "id": "68b01f1e-6b36-402f-a67c-fa02fa9779a7",
   "metadata": {
    "deletable": true,
    "editable": true,
    "frozen": false
   },
   "outputs": [],
   "source": [
    "_file = \"../data/NYC_Central_Park_weather_1869-2022.csv\"\n",
    "# ここから解答を作成してください\n"
   ]
  },
  {
   "cell_type": "markdown",
   "id": "2f2e985c-7e28-4baf-b575-68043f8a6278",
   "metadata": {
    "deletable": false,
    "editable": false,
    "frozen": true
   },
   "source": [
    "<details><summary>解答例</summary>\n",
    "<br>\n",
    "\n",
    "```python\n",
    "df_weather = pl.read_csv(_file).with_columns(\n",
    "    col.DATE.str.to_date()\n",
    ")\n",
    "df_weather[:3]\n",
    "```\n",
    "\n",
    "**別解**\n",
    "```python\n",
    "df_weather = pl.read_csv(_file, try_parse_dates=True)\n",
    "```\n",
    "</details>\n",
    "<br>\n",
    "\n",
    "**確認**"
   ]
  },
  {
   "cell_type": "code",
   "execution_count": null,
   "id": "2bec82fc-0f43-4db1-bd59-9f539234b2bb",
   "metadata": {
    "deletable": false,
    "editable": false,
    "frozen": false,
    "jupyter": {
     "source_hidden": true
    }
   },
   "outputs": [],
   "source": [
    "# このセルを実行してください\n",
    "try:\n",
    "    _df = pl.read_csv(_file).with_columns(\n",
    "        col.DATE.str.to_date()\n",
    "    )\n",
    "    assert _df.equals(df_weather)\n",
    "except (AssertionError, NameError):\n",
    "    print(\"\\x1b[31mNG\\x1b[39m\")\n",
    "    print(\"解答例を確認してください\")\n",
    "else:\n",
    "    print(\"\\x1b[32mOK\\x1b[39m\")\n",
    "    print(dedent(\"\"\"\\\n",
    "        解説: .str.to_date()（または.str.to_datetime()）は、指定したフォーマットに基づいて文字列を日付/日時型に変換する非常に便利なメソッドです。\n",
    "        フォーマットを省略するとISO 8601に変換します。\n",
    "    \"\"\"))"
   ]
  },
  {
   "cell_type": "markdown",
   "id": "04d6d588-47e6-4e26-9720-4b1222d8d2e2",
   "metadata": {
    "deletable": true,
    "editable": true,
    "frozen": false
   },
   "source": [
    "---"
   ]
  },
  {
   "cell_type": "markdown",
   "id": "4a327908-90dc-40a2-b810-65eb38f5b682",
   "metadata": {
    "deletable": false,
    "editable": false,
    "frozen": true
   },
   "source": [
    "### `問題 2.3.6` 年、月、日の抽出(.dt)\n",
    "\n",
    "2.3.5の`df_weather`の列`DATE`から年、月、日をそれぞれ列`Year`、列`Month`、列`Day`として抽出し、変数`ans`に代入してください。\n",
    "\n",
    "**解答欄**"
   ]
  },
  {
   "cell_type": "code",
   "execution_count": null,
   "id": "3c8010d7-e5e5-4c04-ab22-293bd2a76e7c",
   "metadata": {
    "deletable": true,
    "editable": true,
    "frozen": false
   },
   "outputs": [],
   "source": [
    "# ここから解答を作成してください\n"
   ]
  },
  {
   "cell_type": "markdown",
   "id": "a4b9815d-3bb3-4bec-b7d7-712795c1c4b6",
   "metadata": {
    "deletable": false,
    "editable": false,
    "frozen": true
   },
   "source": [
    "<details><summary>解答例</summary>\n",
    "<br>\n",
    "\n",
    "```python\n",
    "ans = df_weather.with_columns(\n",
    "    Year=col.DATE.dt.year(),\n",
    "    Month=col.DATE.dt.month(),\n",
    "    Day=col.DATE.dt.day(),\n",
    ")\n",
    "ans[:3]\n",
    "```\n",
    "</details>\n",
    "<br>\n",
    "\n",
    "**確認**"
   ]
  },
  {
   "cell_type": "code",
   "execution_count": null,
   "id": "5a96382f-0c0a-45ec-ae5a-05f465f7f464",
   "metadata": {
    "deletable": false,
    "editable": false,
    "frozen": false,
    "jupyter": {
     "source_hidden": true
    }
   },
   "outputs": [],
   "source": [
    "# このセルを実行してください\n",
    "try:\n",
    "    _ans = df_weather.with_columns(\n",
    "        Year=col.DATE.dt.year(),\n",
    "        Month=col.DATE.dt.month(),\n",
    "        Day=col.DATE.dt.day(),\n",
    "    )\n",
    "    assert _ans.equals(ans)\n",
    "except (AssertionError, NameError):\n",
    "    print(\"\\x1b[31mNG\\x1b[39m\")\n",
    "    print(\"解答例を確認してください\")\n",
    "else:\n",
    "    print(\"\\x1b[32mOK\\x1b[39m\")\n",
    "    print(dedent(\"\"\"\\\n",
    "        解説: .dt名前空間は、Date型やDatetime型の列に対して、年、月、日、曜日、四半期などの要素を抽出したり、日付計算を行ったりするためのメソッドを提供します。\n",
    "    \"\"\"))"
   ]
  },
  {
   "cell_type": "markdown",
   "id": "42c455f4-b7c2-4fa1-8fd0-31284ee27769",
   "metadata": {
    "deletable": true,
    "editable": true,
    "frozen": false
   },
   "source": [
    "---"
   ]
  },
  {
   "cell_type": "markdown",
   "id": "2e36aae0-1554-4b5a-af9e-35f9c78d4c1d",
   "metadata": {
    "deletable": false,
    "editable": false,
    "frozen": true
   },
   "source": [
    "### `問題 2.3.7` 日付の差\n",
    "\n",
    "2.3.5の`df_weather`を次の条件で修正し、変数`ans`に代入してください。\n",
    "\n",
    "* 各観測日(`DATE`)がデータセットの最初の日から何日経過しているかを計算する（型はpl.Duration）\n",
    "  * 列名を`DaysPassed`とする\n",
    "\n",
    "**解答欄**"
   ]
  },
  {
   "cell_type": "code",
   "execution_count": null,
   "id": "dd5a49f0-23b3-4d17-8d31-9013461e08ed",
   "metadata": {
    "deletable": true,
    "editable": true,
    "frozen": false
   },
   "outputs": [],
   "source": [
    "# ここから解答を作成してください\n"
   ]
  },
  {
   "cell_type": "markdown",
   "id": "46992af7-4ae5-48ca-b8f5-90ee53e2f3dd",
   "metadata": {
    "deletable": false,
    "editable": false,
    "frozen": true
   },
   "source": [
    "<details><summary>解答例</summary>\n",
    "<br>\n",
    "\n",
    "```python\n",
    "ans = df_weather.with_columns(\n",
    "    DaysPassed=col.DATE - col.DATE.min()\n",
    ")\n",
    "ans[:3]\n",
    "```\n",
    "</details>\n",
    "<br>\n",
    "\n",
    "**確認**"
   ]
  },
  {
   "cell_type": "code",
   "execution_count": null,
   "id": "37105cd3-a557-4c05-bbb9-9e0fe2674f0d",
   "metadata": {
    "deletable": false,
    "editable": false,
    "frozen": false,
    "jupyter": {
     "source_hidden": true
    }
   },
   "outputs": [],
   "source": [
    "# このセルを実行してください\n",
    "try:\n",
    "    _ans = df_weather.with_columns(\n",
    "        DaysPassed=col.DATE - col.DATE.min()\n",
    "    )\n",
    "    assert _ans.equals(ans)\n",
    "except (AssertionError, NameError):\n",
    "    print(\"\\x1b[31mNG\\x1b[39m\")\n",
    "    print(\"解答例を確認してください\")\n",
    "else:\n",
    "    print(\"\\x1b[32mOK\\x1b[39m\")"
   ]
  },
  {
   "cell_type": "markdown",
   "id": "bd8503c5-29af-49a6-a7c4-ac60da1fc65b",
   "metadata": {
    "deletable": true,
    "editable": true,
    "frozen": false
   },
   "source": [
    "---"
   ]
  },
  {
   "cell_type": "markdown",
   "id": "f48c70f3-a813-4355-a1c8-39db9666eecf",
   "metadata": {
    "deletable": false,
    "editable": false,
    "frozen": true
   },
   "source": [
    "### `問題 2.3.8` 曜日\n",
    "\n",
    "2.3.5の`df_weather`を次の条件で修正し、変数`ans`に代入してください。\n",
    "\n",
    "* 列`DATE`から曜日（月曜=1,..., 日曜=7）を取得する\n",
    "  * 列名を`Weekday`とする\n",
    "\n",
    "**解答欄**"
   ]
  },
  {
   "cell_type": "code",
   "execution_count": null,
   "id": "fbb5b593-b345-4b1c-9b23-36e8c7da466a",
   "metadata": {
    "deletable": true,
    "editable": true,
    "frozen": false
   },
   "outputs": [],
   "source": [
    "# ここから解答を作成してください\n"
   ]
  },
  {
   "cell_type": "markdown",
   "id": "a65a56cd-dabc-4f2b-9828-48ce661b2f9b",
   "metadata": {
    "deletable": false,
    "editable": false,
    "frozen": true
   },
   "source": [
    "<details><summary>解答例</summary>\n",
    "<br>\n",
    "\n",
    "```python\n",
    "ans = df_weather.with_columns(\n",
    "    Weekday=col.DATE.dt.weekday(),\n",
    ")\n",
    "ans[:3]\n",
    "```\n",
    "</details>\n",
    "<br>\n",
    "\n",
    "**確認**"
   ]
  },
  {
   "cell_type": "code",
   "execution_count": null,
   "id": "85afaa7a-1926-4a92-a870-6c0b1bbfa48e",
   "metadata": {
    "deletable": false,
    "editable": false,
    "frozen": false,
    "jupyter": {
     "source_hidden": true
    }
   },
   "outputs": [],
   "source": [
    "# このセルを実行してください\n",
    "try:\n",
    "    _ans = df_weather.with_columns(\n",
    "        Weekday=col.DATE.dt.weekday(),\n",
    "    )\n",
    "    assert _ans.equals(ans)\n",
    "except (AssertionError, NameError):\n",
    "    print(\"\\x1b[31mNG\\x1b[39m\")\n",
    "    print(\"解答例を確認してください\")\n",
    "else:\n",
    "    print(\"\\x1b[32mOK\\x1b[39m\")"
   ]
  },
  {
   "cell_type": "markdown",
   "id": "c5e2a201-7908-4786-801d-401443bc0baa",
   "metadata": {
    "deletable": true,
    "editable": true,
    "frozen": false
   },
   "source": [
    "---"
   ]
  },
  {
   "cell_type": "markdown",
   "id": "72c094f8-a079-44a9-a895-83900d13a536",
   "metadata": {
    "deletable": false,
    "editable": false,
    "frozen": true
   },
   "source": [
    "### `問題 2.3.9` カテゴリ型(.cat)\n",
    "\n",
    "`df_titanic`の列`Embarked`をカテゴリカル型に変換し、変数`ans`に代入してください。\n",
    "\n",
    "**解答欄**"
   ]
  },
  {
   "cell_type": "code",
   "execution_count": null,
   "id": "39ee7eef-56e0-4916-a2e2-59d478f94776",
   "metadata": {
    "deletable": true,
    "editable": true,
    "frozen": false
   },
   "outputs": [],
   "source": [
    "_file = \"../data/titanic_train.csv\"\n",
    "df_titanic = pl.read_csv(_file)\n",
    "# ここから解答を作成してください\n"
   ]
  },
  {
   "cell_type": "markdown",
   "id": "1a4ed42a-122d-4064-9bfc-177ea26d47c9",
   "metadata": {
    "deletable": false,
    "editable": false,
    "frozen": true
   },
   "source": [
    "<details><summary>解答例</summary>\n",
    "<br>\n",
    "\n",
    "```python\n",
    "ans = df_titanic.with_columns(\n",
    "    col.Embarked.cast(pl.Categorical),\n",
    ")\n",
    "ans[:3]\n",
    "```\n",
    "</details>\n",
    "<br>\n",
    "\n",
    "**確認**"
   ]
  },
  {
   "cell_type": "code",
   "execution_count": null,
   "id": "532bbd4b-31c6-4be9-82a2-1800f93ee1ad",
   "metadata": {
    "deletable": false,
    "editable": false,
    "frozen": false,
    "jupyter": {
     "source_hidden": true
    }
   },
   "outputs": [],
   "source": [
    "# このセルを実行してください\n",
    "try:\n",
    "    _ans = df_titanic.with_columns(\n",
    "        col.Embarked.cast(pl.Categorical),\n",
    "    )\n",
    "    assert _ans.equals(ans)\n",
    "except (AssertionError, NameError):\n",
    "    print(\"\\x1b[31mNG\\x1b[39m\")\n",
    "    print(\"解答例を確認してください\")\n",
    "else:\n",
    "    print(\"\\x1b[32mOK\\x1b[39m\")\n",
    "    print(dedent(\"\"\"\\\n",
    "        解説: Categorical型は、ユニークな値が少ない文字列の列を効率的に格納する方法です。\n",
    "        内部的には、文字列を整数にマッピングして保持するため、メモリ使用量を大幅に削減し、グループ化や結合などの操作を高速化できます。\n",
    "    \"\"\"))"
   ]
  },
  {
   "cell_type": "markdown",
   "id": "920f4a41-f4da-4117-a5eb-89532d634e28",
   "metadata": {
    "deletable": true,
    "editable": true,
    "frozen": false
   },
   "source": [
    "---"
   ]
  },
  {
   "cell_type": "markdown",
   "id": "cb9f882e-0d96-44e7-a047-81d82ac5e432",
   "metadata": {
    "deletable": false,
    "editable": false,
    "frozen": true
   },
   "source": [
    "### `問題 2.3.10` カテゴリカル型へ変更\n",
    "\n",
    "2.3.9の`df_titanic`を次の条件で修正し、変数`ans`に代入してください。\n",
    "\n",
    "* 列`Pclass`を`1st`、`2nd`、`3rd`という値のカテゴリカル型に変換にする\n",
    "\n",
    "最初の3行が下記のようになること。\n",
    "\n",
    "| PassengerId | Survived | Pclass | ... |\n",
    "| --: | --: | :-- | :-- |\n",
    "| 1 | 0| \"3rd\" | ... |\n",
    "| 2 | 1| \"1st\" | ... |\n",
    "| 3 | 1| \"3rd\" | ... |\n",
    "\n",
    "**解答欄**"
   ]
  },
  {
   "cell_type": "code",
   "execution_count": null,
   "id": "1d0f4945-8a38-4636-9789-f5f4bdda2925",
   "metadata": {
    "deletable": true,
    "editable": true,
    "frozen": false
   },
   "outputs": [],
   "source": [
    "# ここから解答を作成してください\n"
   ]
  },
  {
   "cell_type": "markdown",
   "id": "8621d0e5-f300-4ad4-970f-6871839ad073",
   "metadata": {
    "deletable": false,
    "editable": false,
    "frozen": true
   },
   "source": [
    "<details><summary>解答例</summary>\n",
    "<br>\n",
    "\n",
    "```python\n",
    "ans = df_titanic.with_columns(\n",
    "    pl.col(\"Pclass\")\n",
    "    .replace_strict({1: \"1st\", 2: \"2nd\", 3: \"3rd\"})\n",
    "    .cast(pl.Categorical)\n",
    ")\n",
    "ans[:3]\n",
    "```\n",
    "\n",
    "**別解*\n",
    "```python\n",
    "ans = df_titanic.with_columns(\n",
    "    Pclass=pl.lit([\"1st\", \"2nd\", \"3rd\"])\n",
    "    .list.get(col.Pclass - 1)\n",
    "    .cast(pl.Categorical)\n",
    ")\n",
    "```\n",
    "</details>\n",
    "<br>\n",
    "\n",
    "**確認**"
   ]
  },
  {
   "cell_type": "code",
   "execution_count": null,
   "id": "84db8748-cd72-4691-aecb-b8f6a0a89a8f",
   "metadata": {
    "deletable": false,
    "editable": false,
    "frozen": false,
    "jupyter": {
     "source_hidden": true
    }
   },
   "outputs": [],
   "source": [
    "# このセルを実行してください\n",
    "try:\n",
    "    _ans = df_titanic.with_columns(\n",
    "        Pclass=pl.lit([\"1st\", \"2nd\", \"3rd\"])\n",
    "        .list.get(col.Pclass - 1)\n",
    "        .cast(pl.Categorical)\n",
    "    )\n",
    "    assert _ans.equals(ans)\n",
    "except (AssertionError, NameError):\n",
    "    print(\"\\x1b[31mNG\\x1b[39m\")\n",
    "    print(\"解答例を確認してください\")\n",
    "else:\n",
    "    print(\"\\x1b[32mOK\\x1b[39m\")"
   ]
  },
  {
   "cell_type": "markdown",
   "id": "0d7b2aed-148c-4133-abc1-fcb747c570a3",
   "metadata": {
    "deletable": true,
    "editable": true,
    "frozen": false
   },
   "source": [
    "---"
   ]
  },
  {
   "cell_type": "markdown",
   "id": "499b5ac4-31d6-4d5c-8097-b598c7c31e72",
   "metadata": {
    "deletable": false,
    "editable": false,
    "frozen": true
   },
   "source": [
    "# Part 3: データの集計と再形成 (Knocks 46-73)\n",
    "\n",
    "このパートでは、個々の行や列の操作から、データフレーム全体の形状や粒度を変更する変換処理へと進みます。\n",
    "\n",
    "## Section 3.1: グループ化と集計 (group_by, agg) (Knocks 46-55)\n"
   ]
  },
  {
   "cell_type": "markdown",
   "id": "7e8f1406-6f6c-4787-a185-03951117127f",
   "metadata": {
    "deletable": false,
    "editable": false,
    "frozen": true
   },
   "source": [
    "### `問題 3.1.1` グループ化して集計\n",
    "\n",
    "2.3.9の`df_titanic`を次の条件で修正し、変数`ans`に代入してください。\n",
    "\n",
    "* 客室クラス (Pclass) ごとに乗客の平均年齢を計算する\n",
    "  * 列名を`AverageAge`とする\n",
    "  * `maintain_order=True`をつける\n",
    "* PclassとAverageAgeの2列とする\n",
    "\n",
    "**解答欄**"
   ]
  },
  {
   "cell_type": "code",
   "execution_count": null,
   "id": "97483cd4-5cb4-4cc5-abe5-6b38263a9331",
   "metadata": {
    "deletable": true,
    "editable": true,
    "frozen": false
   },
   "outputs": [],
   "source": [
    "# ここから解答を作成してください\n"
   ]
  },
  {
   "cell_type": "markdown",
   "id": "64d8548e-d1bf-4290-8f88-9b9b59bdb4b3",
   "metadata": {
    "deletable": false,
    "editable": false,
    "frozen": true
   },
   "source": [
    "<details><summary>解答例</summary>\n",
    "<br>\n",
    "\n",
    "```python\n",
    "ans = df_titanic.group_by(\n",
    "    \"Pclass\", maintain_order=True\n",
    ").agg(AverageAge=col.Age.mean())\n",
    "ans[:3]\n",
    "```\n",
    "</details>\n",
    "<br>\n",
    "\n",
    "**確認**"
   ]
  },
  {
   "cell_type": "code",
   "execution_count": null,
   "id": "6c8cbf0c-aeac-40ac-a527-4fba85c68895",
   "metadata": {
    "deletable": false,
    "editable": false,
    "frozen": false,
    "jupyter": {
     "source_hidden": true
    }
   },
   "outputs": [],
   "source": [
    "# このセルを実行してください\n",
    "try:\n",
    "    _ans = df_titanic.group_by(\n",
    "        \"Pclass\", maintain_order=True\n",
    "    ).agg(AverageAge=col.Age.mean())\n",
    "    assert _ans.equals(ans)\n",
    "except (AssertionError, NameError):\n",
    "    print(\"\\x1b[31mNG\\x1b[39m\")\n",
    "    print(\"解答例を確認してください\")\n",
    "else:\n",
    "    print(\"\\x1b[32mOK\\x1b[39m\")\n",
    "    print(dedent(\"\"\"\\\n",
    "        解説: .group_by()は、指定した列（キー）の値が同じ行をグループにまとめます。\n",
    "        その後の.agg()内で、各グループに対して集計関数（mean, sum, countなど）を適用します。\n",
    "    \"\"\"))"
   ]
  },
  {
   "cell_type": "markdown",
   "id": "60a4cbf0-a9f4-4a58-bec5-328e69a6e054",
   "metadata": {
    "deletable": true,
    "editable": true,
    "frozen": false
   },
   "source": [
    "---"
   ]
  },
  {
   "cell_type": "markdown",
   "id": "454dc9c2-9c71-4b76-b1d3-753079b5ce8f",
   "metadata": {
    "deletable": false,
    "editable": false,
    "frozen": true
   },
   "source": [
    "### `問題 3.1.2` 複数キーのグループ化\n",
    "\n",
    "2.3.9の`df_titanic`を次の条件で修正し、変数`ans`に代入してください。\n",
    "\n",
    "* 客室クラス (Pclass) と性別 (Sex) の組み合わせごとに、生存率を計算する\n",
    "  * 列名を`SurvivalRate`とする\n",
    "* 列`SurvivalRate`で昇順にソートする\n",
    "\n",
    "**解答欄**"
   ]
  },
  {
   "cell_type": "code",
   "execution_count": null,
   "id": "127f6f8b-862e-4154-af21-5fae9ecb3104",
   "metadata": {
    "deletable": true,
    "editable": true,
    "frozen": false
   },
   "outputs": [],
   "source": [
    "# ここから解答を作成してください\n"
   ]
  },
  {
   "cell_type": "markdown",
   "id": "09afcac4-ee66-4585-8c01-d00afd59d4c7",
   "metadata": {
    "deletable": false,
    "editable": false,
    "frozen": true
   },
   "source": [
    "<details><summary>解答例</summary>\n",
    "<br>\n",
    "\n",
    "```python\n",
    "ans = (\n",
    "    df_titanic.group_by([\"Pclass\", \"Sex\"])\n",
    "    .agg(SurvivalRate=col.Survived.mean())\n",
    "    .sort(\"SurvivalRate\")\n",
    ")\n",
    "ans\n",
    "```\n",
    "</details>\n",
    "<br>\n",
    "\n",
    "**確認**"
   ]
  },
  {
   "cell_type": "code",
   "execution_count": null,
   "id": "ec5bc215-f6b1-444e-a554-de6608a472c8",
   "metadata": {
    "deletable": false,
    "editable": false,
    "frozen": false,
    "jupyter": {
     "source_hidden": true
    }
   },
   "outputs": [],
   "source": [
    "# このセルを実行してください\n",
    "try:\n",
    "    _ans = (\n",
    "        df_titanic.group_by([\"Pclass\", \"Sex\"])\n",
    "        .agg(SurvivalRate=col.Survived.mean())\n",
    "        .sort(\"SurvivalRate\")\n",
    "    )\n",
    "    assert _ans.equals(ans)\n",
    "except (AssertionError, NameError):\n",
    "    print(\"\\x1b[31mNG\\x1b[39m\")\n",
    "    print(\"解答例を確認してください\")\n",
    "else:\n",
    "    print(\"\\x1b[32mOK\\x1b[39m\")"
   ]
  },
  {
   "cell_type": "markdown",
   "id": "6d3e83da-ef68-4ec9-a365-067cb0472079",
   "metadata": {
    "deletable": true,
    "editable": true,
    "frozen": false
   },
   "source": [
    "---"
   ]
  },
  {
   "cell_type": "markdown",
   "id": "f737fa25-1c18-4217-9027-b23dd471c7f1",
   "metadata": {
    "deletable": false,
    "editable": false,
    "frozen": true
   },
   "source": [
    "### `問題 3.1.3` 複数の集計\n",
    "\n",
    "2.3.9の`df_titanic`を次の条件で修正し、変数`ans`に代入してください。\n",
    "\n",
    "* 客室クラス (Pclass) ごとに、乗客数、平均年齢、最高運賃を計算する\n",
    "  * 列名をそれぞれ`PassengerCount`、`AgeAverage`、`FareMax`とする\n",
    "* 列`Pclass`で昇順にソートする\n",
    "\n",
    "**解答欄**"
   ]
  },
  {
   "cell_type": "code",
   "execution_count": null,
   "id": "98a0760f-ee13-4239-b7b0-119f64d1ffb0",
   "metadata": {
    "deletable": true,
    "editable": true,
    "frozen": false
   },
   "outputs": [],
   "source": [
    "# ここから解答を作成してください\n"
   ]
  },
  {
   "cell_type": "markdown",
   "id": "8da4a9e6-19f5-42ee-8b0e-3c7304b981c8",
   "metadata": {
    "deletable": false,
    "editable": false,
    "frozen": true
   },
   "source": [
    "<details><summary>解答例</summary>\n",
    "<br>\n",
    "\n",
    "```python\n",
    "ans = (\n",
    "    df_titanic.group_by(\"Pclass\")\n",
    "    .agg(\n",
    "        PassengerCount=pl.len(),\n",
    "        AgeAverage=col.Age.mean(),\n",
    "        FareMax=col.Fare.max(),\n",
    "    )\n",
    "    .sort(\"Pclass\")\n",
    ")\n",
    "ans\n",
    "```\n",
    "</details>\n",
    "<br>\n",
    "\n",
    "**確認**"
   ]
  },
  {
   "cell_type": "code",
   "execution_count": null,
   "id": "00c237ac-b23c-4fb3-a72e-4a2642c8873d",
   "metadata": {
    "deletable": false,
    "editable": false,
    "frozen": false,
    "jupyter": {
     "source_hidden": true
    }
   },
   "outputs": [],
   "source": [
    "# このセルを実行してください\n",
    "try:\n",
    "    _ans = (\n",
    "        df_titanic.group_by(\"Pclass\")\n",
    "        .agg(\n",
    "            PassengerCount=pl.len(),\n",
    "            AgeAverage=col.Age.mean(),\n",
    "            FareMax=col.Fare.max(),\n",
    "        )\n",
    "        .sort(\"Pclass\")\n",
    "    )\n",
    "    assert _ans.equals(ans)\n",
    "except (AssertionError, NameError):\n",
    "    print(\"\\x1b[31mNG\\x1b[39m\")\n",
    "    print(\"解答例を確認してください\")\n",
    "else:\n",
    "    print(\"\\x1b[32mOK\\x1b[39m\")\n",
    "    print(dedent(\"\"\"\\\n",
    "        解説: .agg()には、カンマで区切って複数の集計式を渡すことができます。\n",
    "        これにより、一度のグループ化操作で効率的に複数の統計量を計算できます。\n",
    "    \"\"\"))"
   ]
  },
  {
   "cell_type": "markdown",
   "id": "43af1328-8fcb-475a-a130-d50b7029ef70",
   "metadata": {
    "deletable": true,
    "editable": true,
    "frozen": false
   },
   "source": [
    "---"
   ]
  },
  {
   "cell_type": "markdown",
   "id": "5c66d6c1-10fd-4333-8c27-e3544bdcbc17",
   "metadata": {
    "deletable": false,
    "editable": false,
    "frozen": true
   },
   "source": [
    "### `問題 3.1.4` 数値列の集計\n",
    "\n",
    "2.3.9の`df_titanic`を次の条件で修正し、変数`ans`に代入してください。\n",
    "\n",
    "* 性別 (Sex) ごとに、すべての数値列の平均値を計算する\n",
    "  * 列名のサフィックスに`Mean`をつける\n",
    "* 列`Sex`で昇順にソートする\n",
    "\n",
    "**解答欄**"
   ]
  },
  {
   "cell_type": "code",
   "execution_count": null,
   "id": "e4a94b92-0a04-44bb-b36c-41230bf94fb8",
   "metadata": {
    "deletable": true,
    "editable": true,
    "frozen": false
   },
   "outputs": [],
   "source": [
    "# ここから解答を作成してください\n"
   ]
  },
  {
   "cell_type": "markdown",
   "id": "22dda9e1-ff45-43ff-8acd-c05f8467c6b6",
   "metadata": {
    "deletable": false,
    "editable": false,
    "frozen": true
   },
   "source": [
    "<details><summary>解答例</summary>\n",
    "<br>\n",
    "\n",
    "```python\n",
    "ans = (\n",
    "    df_titanic.group_by(\"Sex\")\n",
    "    .agg(cs.numeric().mean().name.suffix(\"Mean\"))\n",
    "    .sort(\"Sex\")\n",
    ")\n",
    "ans\n",
    "```\n",
    "</details>\n",
    "<br>\n",
    "\n",
    "**確認**"
   ]
  },
  {
   "cell_type": "code",
   "execution_count": null,
   "id": "d668bdc5-51e7-4d58-add4-414fc64679d4",
   "metadata": {
    "deletable": false,
    "editable": false,
    "frozen": false,
    "jupyter": {
     "source_hidden": true
    }
   },
   "outputs": [],
   "source": [
    "# このセルを実行してください\n",
    "try:\n",
    "    _ans = (\n",
    "        df_titanic.group_by(\"Sex\")\n",
    "        .agg(cs.numeric().mean().name.suffix(\"Mean\"))\n",
    "        .sort(\"Sex\")\n",
    "    )\n",
    "    assert _ans.equals(ans)\n",
    "except (AssertionError, NameError):\n",
    "    print(\"\\x1b[31mNG\\x1b[39m\")\n",
    "    print(\"解答例を確認してください\")\n",
    "else:\n",
    "    print(\"\\x1b[32mOK\\x1b[39m\")\n",
    "    print(dedent(\"\"\"\\\n",
    "        解説: cs.numeric()のような型セレクタを.agg()内で使用すると、対象となるすべての列に同じ集計関数が適用されます。\n",
    "        .name.suffix()とすることで、サフィックスを付与できます。\n",
    "    \"\"\"))"
   ]
  },
  {
   "cell_type": "markdown",
   "id": "65f442f1-06fe-43bf-8668-fef747638c53",
   "metadata": {
    "deletable": true,
    "editable": true,
    "frozen": false
   },
   "source": [
    "---"
   ]
  },
  {
   "cell_type": "markdown",
   "id": "6adb097f-0e57-41ca-9b41-4f76ac675851",
   "metadata": {
    "deletable": false,
    "editable": false,
    "frozen": true
   },
   "source": [
    "### `問題 3.1.5` 全列の集計\n",
    "\n",
    "2.3.9の`df_titanic`を次の条件で修正し、変数`ans`に代入してください。\n",
    "\n",
    "* 客室クラス (Pclass) ごとに、すべての列の最初の値を取得する\n",
    "  * `maintain_order=True`をつける\n",
    "\n",
    "**解答欄**"
   ]
  },
  {
   "cell_type": "code",
   "execution_count": null,
   "id": "de75c770-fb7e-4d45-aa6b-1e357c3e0607",
   "metadata": {
    "deletable": true,
    "editable": true,
    "frozen": false
   },
   "outputs": [],
   "source": [
    "# ここから解答を作成してください\n"
   ]
  },
  {
   "cell_type": "markdown",
   "id": "701a1296-de77-464c-b87b-db5044edcde0",
   "metadata": {
    "deletable": false,
    "editable": false,
    "frozen": true
   },
   "source": [
    "<details><summary>解答例</summary>\n",
    "<br>\n",
    "\n",
    "```python\n",
    "ans = df_titanic.group_by(\n",
    "    \"Pclass\", maintain_order=True\n",
    ").agg(pl.all().first())\n",
    "ans\n",
    "```\n",
    "</details>\n",
    "<br>\n",
    "\n",
    "**確認**"
   ]
  },
  {
   "cell_type": "code",
   "execution_count": null,
   "id": "81ff7ddb-6bc5-44dc-b902-f8e036580e1d",
   "metadata": {
    "deletable": false,
    "editable": false,
    "frozen": false,
    "jupyter": {
     "source_hidden": true
    }
   },
   "outputs": [],
   "source": [
    "# このセルを実行してください\n",
    "try:\n",
    "    _ans = df_titanic.group_by(\n",
    "        \"Pclass\", maintain_order=True\n",
    "    ).agg(pl.all().first())\n",
    "    assert _ans.equals(ans)\n",
    "except (AssertionError, NameError):\n",
    "    print(\"\\x1b[31mNG\\x1b[39m\")\n",
    "    print(\"解答例を確認してください\")\n",
    "else:\n",
    "    print(\"\\x1b[32mOK\\x1b[39m\")\n",
    "    print(dedent(\"\"\"\\\n",
    "        解説: pl.all()は、グループ化キー以外のすべての列を選択する便利なショートカットです。\n",
    "        .first()や.last()、.count()など、多くの集計関数と組み合わせることができます。\n",
    "    \"\"\"))"
   ]
  },
  {
   "cell_type": "markdown",
   "id": "37c23cc8-5a31-412c-a25b-00ff0d2baae5",
   "metadata": {
    "deletable": true,
    "editable": true,
    "frozen": false
   },
   "source": [
    "---"
   ]
  },
  {
   "cell_type": "markdown",
   "id": "372ef017-7369-4f8a-b607-df3ba841e711",
   "metadata": {
    "deletable": false,
    "editable": false,
    "frozen": true
   },
   "source": [
    "### `問題 3.1.6` ユニーク数\n",
    "\n",
    "2.3.9の`df_titanic`を次の条件で修正し、変数`ans`に代入してください。\n",
    "\n",
    "* 各出港地 (Embarked) から乗船した乗客の客室クラス (Pclass) の種類の数を数える\n",
    "  * 列名を`UniquePclassCount`とする\n",
    "* 列`Embarked`で昇順にソートする\n",
    "\n",
    "**解答欄**"
   ]
  },
  {
   "cell_type": "code",
   "execution_count": null,
   "id": "45f9ea31-680d-4f14-96e9-175380d3c460",
   "metadata": {
    "deletable": true,
    "editable": true,
    "frozen": false
   },
   "outputs": [],
   "source": [
    "# ここから解答を作成してください\n"
   ]
  },
  {
   "cell_type": "markdown",
   "id": "6a9685a9-afc3-4c06-9086-b5925dc985fb",
   "metadata": {
    "deletable": false,
    "editable": false,
    "frozen": true
   },
   "source": [
    "<details><summary>解答例</summary>\n",
    "<br>\n",
    "\n",
    "```python\n",
    "ans = (\n",
    "    df_titanic.group_by(\"Embarked\")\n",
    "    .agg(UniquePclassCount=col.Pclass.n_unique())\n",
    "    .sort(\"Embarked\")\n",
    ")\n",
    "ans\n",
    "```\n",
    "</details>\n",
    "<br>\n",
    "\n",
    "**確認**"
   ]
  },
  {
   "cell_type": "code",
   "execution_count": null,
   "id": "8e087f35-65f9-41d2-9d72-01ffc3b179b9",
   "metadata": {
    "deletable": false,
    "editable": false,
    "frozen": false,
    "jupyter": {
     "source_hidden": true
    }
   },
   "outputs": [],
   "source": [
    "# このセルを実行してください\n",
    "try:\n",
    "    _ans = (\n",
    "    df_titanic.group_by(\"Embarked\")\n",
    "    .agg(UniquePclassCount=col.Pclass.n_unique())\n",
    "    .sort(\"Embarked\")\n",
    ")\n",
    "    assert _ans.equals(ans)\n",
    "except (AssertionError, NameError):\n",
    "    print(\"\\x1b[31mNG\\x1b[39m\")\n",
    "    print(\"解答例を確認してください\")\n",
    "else:\n",
    "    print(\"\\x1b[32mOK\\x1b[39m\")"
   ]
  },
  {
   "cell_type": "markdown",
   "id": "fab16fa0-f238-4887-9128-8cb2862b4d31",
   "metadata": {
    "deletable": true,
    "editable": true,
    "frozen": false
   },
   "source": [
    "---"
   ]
  },
  {
   "cell_type": "markdown",
   "id": "18b5c57b-fff6-411a-b240-523462d6d5fe",
   "metadata": {
    "deletable": false,
    "editable": false,
    "frozen": true
   },
   "source": [
    "### `問題 3.1.7` 条件を満たす行数\n",
    "\n",
    "2.3.9の`df_titanic`を次の条件で修正し、変数`ans`に代入してください。\n",
    "\n",
    "* 客室クラス (Pclass) ごとに、30歳以上の乗客の数を数える\n",
    "  * 列名を`CountOver30`とする\n",
    "* 列`Pclass`で昇順にソートする\n",
    "\n",
    "**解答欄**"
   ]
  },
  {
   "cell_type": "code",
   "execution_count": null,
   "id": "142fd9e0-7015-47c3-855f-cb51f6daacb0",
   "metadata": {
    "deletable": true,
    "editable": true,
    "frozen": false
   },
   "outputs": [],
   "source": [
    "# ここから解答を作成してください\n"
   ]
  },
  {
   "cell_type": "markdown",
   "id": "372e1496-294d-44d0-8656-30e94d45ba20",
   "metadata": {
    "deletable": false,
    "editable": false,
    "frozen": true
   },
   "source": [
    "<details><summary>解答例</summary>\n",
    "<br>\n",
    "\n",
    "```python\n",
    "ans = (\n",
    "    df_titanic.group_by(\"Pclass\")\n",
    "    .agg(CountOver30=col.Age.filter(col.Age >= 30).len())\n",
    "    .sort(\"Pclass\")\n",
    ")\n",
    "ans[:3]\n",
    "```\n",
    "</details>\n",
    "<br>\n",
    "\n",
    "**確認**"
   ]
  },
  {
   "cell_type": "code",
   "execution_count": null,
   "id": "9b279832-f0fc-4c51-bd48-f70191ad4dd3",
   "metadata": {
    "deletable": false,
    "editable": false,
    "frozen": false,
    "jupyter": {
     "source_hidden": true
    }
   },
   "outputs": [],
   "source": [
    "# このセルを実行してください\n",
    "try:\n",
    "    _ans = (\n",
    "        df_titanic.group_by(\"Pclass\")\n",
    "        .agg(CountOver30=col.Age.filter(col.Age >= 30).len())\n",
    "        .sort(\"Pclass\")\n",
    "    )\n",
    "    assert _ans.equals(ans)\n",
    "except (AssertionError, NameError):\n",
    "    print(\"\\x1b[31mNG\\x1b[39m\")\n",
    "    print(\"解答例を確認してください\")\n",
    "else:\n",
    "    print(\"\\x1b[32mOK\\x1b[39m\")\n",
    "    print(dedent(\"\"\"\\\n",
    "        解説: 集計式の中で.filter()を使用することで、集計対象となる行をさらに絞り込むことができます。\n",
    "        これは非常に強力な機能で、複雑な条件付き集計を簡潔に記述できます。\n",
    "    \"\"\"))"
   ]
  },
  {
   "cell_type": "markdown",
   "id": "10a868cf-43af-497e-ac76-559ceb08d39e",
   "metadata": {
    "deletable": true,
    "editable": true,
    "frozen": false
   },
   "source": [
    "---"
   ]
  },
  {
   "cell_type": "markdown",
   "id": "67efb5b4-691b-4bf5-bf57-3c565b378517",
   "metadata": {
    "deletable": false,
    "editable": false,
    "frozen": true
   },
   "source": [
    "### `問題 3.1.8` グループ化の結果のフィルタリング(having句相当)\n",
    "\n",
    "2.3.9の`df_titanic`を次の条件で修正し、変数`ans`に代入してください。\n",
    "\n",
    "* 客室クラス (Pclass) ごとに乗客数を計算\n",
    "  * 乗客数が200人以上のみ残す\n",
    "  * 列名を`PassengerCount`とする\n",
    "* 列`Pclass`で昇順にソートする\n",
    "\n",
    "**解答欄**"
   ]
  },
  {
   "cell_type": "code",
   "execution_count": null,
   "id": "295c1feb-399e-4ede-8b64-2d1e05e32bdb",
   "metadata": {
    "deletable": true,
    "editable": true,
    "frozen": false
   },
   "outputs": [],
   "source": [
    "# ここから解答を作成してください\n"
   ]
  },
  {
   "cell_type": "markdown",
   "id": "7af7930c-5cd4-4370-b3ad-388534b776e0",
   "metadata": {
    "deletable": false,
    "editable": false,
    "frozen": true
   },
   "source": [
    "<details><summary>解答例</summary>\n",
    "<br>\n",
    "\n",
    "```python\n",
    "ans = (\n",
    "    df_titanic.group_by(\"Pclass\")\n",
    "    .agg(PassengerCount=pl.len())\n",
    "    .filter(col.PassengerCount > 200)\n",
    "    .sort(\"Pclass\")\n",
    ")\n",
    "ans[:3]\n",
    "```\n",
    "</details>\n",
    "<br>\n",
    "\n",
    "**確認**"
   ]
  },
  {
   "cell_type": "code",
   "execution_count": null,
   "id": "cb0cc894-45fb-4df8-a885-323b7119789e",
   "metadata": {
    "deletable": false,
    "editable": false,
    "frozen": false,
    "jupyter": {
     "source_hidden": true
    }
   },
   "outputs": [],
   "source": [
    "# このセルを実行してください\n",
    "try:\n",
    "    _ans = (\n",
    "        df_titanic.group_by(\"Pclass\")\n",
    "        .agg(PassengerCount=pl.len())\n",
    "        .filter(col.PassengerCount > 200)\n",
    "    ).sort(\"Pclass\")\n",
    "    assert _ans.equals(ans)\n",
    "except (AssertionError, NameError):\n",
    "    print(\"\\x1b[31mNG\\x1b[39m\")\n",
    "    print(\"解答例を確認してください\")\n",
    "else:\n",
    "    print(\"\\x1b[32mOK\\x1b[39m\")\n",
    "    print(dedent(\"\"\"\\\n",
    "        解説: SQLのhaving句に相当する処理は、.agg()の後に.filter()を連鎖させることで実現します。\n",
    "        まずグループ化と集計を行い、その結果のDataFrameに対してフィルタリングを適用します。\n",
    "    \"\"\"))"
   ]
  },
  {
   "cell_type": "markdown",
   "id": "530f2c4a-0563-4a57-bb60-890dfbb48999",
   "metadata": {
    "deletable": true,
    "editable": true,
    "frozen": false
   },
   "source": [
    "---"
   ]
  },
  {
   "cell_type": "markdown",
   "id": "da0633a1-d7c8-4d7a-aa12-572917cbb474",
   "metadata": {
    "deletable": false,
    "editable": false,
    "frozen": true
   },
   "source": [
    "### `問題 3.1.9` グループ内の各要素\n",
    "\n",
    "2.3.9の`df_titanic`を次の条件で修正し、変数`ans`に代入してください。\n",
    "\n",
    "* 客室クラス (Pclass) ごとに、乗客の名前をリストとして集計する\n",
    "  * 列名を`PassengerNames`とする\n",
    "  * `maintain_order=True`をつける\n",
    "\n",
    "**解答欄**"
   ]
  },
  {
   "cell_type": "code",
   "execution_count": null,
   "id": "87b47962-20b2-4d10-b081-e6af26de8cfa",
   "metadata": {
    "deletable": true,
    "editable": true,
    "frozen": false
   },
   "outputs": [],
   "source": [
    "# ここから解答を作成してください\n"
   ]
  },
  {
   "cell_type": "markdown",
   "id": "4410f74f-7ec4-477d-9f7f-118d4dbff243",
   "metadata": {
    "deletable": false,
    "editable": false,
    "frozen": true
   },
   "source": [
    "<details><summary>解答例</summary>\n",
    "<br>\n",
    "\n",
    "```python\n",
    "ans = df_titanic.group_by(\"Pclass\", maintain_order=True).agg(\n",
    "    PassengerNames=\"Name\"\n",
    ")\n",
    "ans[:3]\n",
    "```\n",
    "</details>\n",
    "<br>\n",
    "\n",
    "**確認**"
   ]
  },
  {
   "cell_type": "code",
   "execution_count": null,
   "id": "ef5d6298-5060-402b-9e38-3aaedbe2a7e2",
   "metadata": {
    "deletable": false,
    "editable": false,
    "frozen": false,
    "jupyter": {
     "source_hidden": true
    }
   },
   "outputs": [],
   "source": [
    "# このセルを実行してください\n",
    "try:\n",
    "    _ans = df_titanic.group_by(\"Pclass\", maintain_order=True).agg(\n",
    "        PassengerNames=\"Name\"\n",
    "    )\n",
    "    assert _ans.equals(ans)\n",
    "except (AssertionError, NameError):\n",
    "    print(\"\\x1b[31mNG\\x1b[39m\")\n",
    "    print(\"解答例を確認してください\")\n",
    "else:\n",
    "    print(\"\\x1b[32mOK\\x1b[39m\")\n",
    "    print(dedent(\"\"\"\\\n",
    "        解説: 集計関数を指定せずに列名を.agg()に渡すと、そのグループ内のすべての値がリストとして集約されます。\n",
    "    \"\"\"))"
   ]
  },
  {
   "cell_type": "markdown",
   "id": "7d84e5d0-3c2f-4c89-ae01-21c6e26ccb6b",
   "metadata": {
    "deletable": true,
    "editable": true,
    "frozen": false
   },
   "source": [
    "---"
   ]
  },
  {
   "cell_type": "markdown",
   "id": "5e650f28-575f-49d5-b05a-98df806bd01e",
   "metadata": {
    "deletable": false,
    "editable": false,
    "frozen": true
   },
   "source": [
    "### `問題 3.1.10` 全体の集計\n",
    "\n",
    "2.3.9の`df_titanic`を次の条件で修正し、変数`ans`に代入してください。\n",
    "\n",
    "* 全体の平均年齢と最高運賃を計算する\n",
    "  * 列名を`TotalAverageAge`と`TotalMaxFare`とする\n",
    "\n",
    "**解答欄**"
   ]
  },
  {
   "cell_type": "code",
   "execution_count": null,
   "id": "0e445e11-834e-470b-89f2-33059f403596",
   "metadata": {
    "deletable": true,
    "editable": true,
    "frozen": false
   },
   "outputs": [],
   "source": [
    "# ここから解答を作成してください\n"
   ]
  },
  {
   "cell_type": "markdown",
   "id": "b3d33b31-e06e-47bd-a9da-0a36ce833c18",
   "metadata": {
    "deletable": false,
    "editable": false,
    "frozen": true
   },
   "source": [
    "<details><summary>解答例</summary>\n",
    "<br>\n",
    "\n",
    "```python\n",
    "ans = df_titanic.select(\n",
    "    TotalAverageAge=col.Age.mean(),\n",
    "    TotalMaxFare=col.Fare.max(),\n",
    ")\n",
    "ans[:3]\n",
    "```\n",
    "</details>\n",
    "<br>\n",
    "\n",
    "**確認**"
   ]
  },
  {
   "cell_type": "code",
   "execution_count": null,
   "id": "61cb79b6-63d2-4d6c-9576-2f603d2094bf",
   "metadata": {
    "deletable": false,
    "editable": false,
    "frozen": false,
    "jupyter": {
     "source_hidden": true
    }
   },
   "outputs": [],
   "source": [
    "# このセルを実行してください\n",
    "try:\n",
    "    _ans = df_titanic.select(\n",
    "        TotalAverageAge=col.Age.mean(),\n",
    "        TotalMaxFare=col.Fare.max(),\n",
    "    )\n",
    "    assert _ans.equals(ans)\n",
    "except (AssertionError, NameError):\n",
    "    print(\"\\x1b[31mNG\\x1b[39m\")\n",
    "    print(\"解答例を確認してください\")\n",
    "else:\n",
    "    print(\"\\x1b[32mOK\\x1b[39m\")\n",
    "    print(dedent(\"\"\"\\\n",
    "        解説: .group_by()を呼び出さずに.select()（または.agg()）内で集計関数を使用すると、DataFrame全体（またはグループ内）に対して集計が行われます。\n",
    "    \"\"\"))"
   ]
  },
  {
   "cell_type": "markdown",
   "id": "d3d74bd3-633c-4ebb-803a-2a9790bcd196",
   "metadata": {
    "deletable": true,
    "editable": true,
    "frozen": false
   },
   "source": [
    "---"
   ]
  },
  {
   "cell_type": "markdown",
   "id": "6f800372-35aa-47bc-87e0-d1a121dae09d",
   "metadata": {
    "deletable": false,
    "editable": false,
    "frozen": true
   },
   "source": [
    "## Section 3.2: 動的グループ化 (group_by_dynamic) (Knocks 56-60)\n",
    "\n",
    "group_by_dynamicは、Polarsが時系列分析で特に強力な理由の一つです。時間軸に沿ってデータを動的なウィンドウ（例：「1ヶ月ごと」「3日ごと」）で区切り、集計することができます。これはPandasの.resample()やpd.Grouperに似ていますが、より一貫性のあるAPIを提供し、クエリオプティマイザとの連携も強力です。このセクションではNYC Weatherデータセットを使用します。\n"
   ]
  },
  {
   "cell_type": "markdown",
   "id": "dbda0147-6295-4113-a048-c1fc6914b92a",
   "metadata": {
    "deletable": false,
    "editable": false,
    "frozen": true
   },
   "source": [
    "### `問題 3.2.1` 月ごとに集計\n",
    "\n",
    "列`DATE`で昇順にソートされた`df_weather`を次の条件で修正し、変数`ans`に代入してください。\n",
    "\n",
    "* 月ごとにグループ化し、各月の最高気温 (`TMAX`) の平均を計算する\n",
    "  * 列名を`AvgTMAX`とする\n",
    "\n",
    "最初の3行が下記のようになること。\n",
    "\n",
    "| DATE       |   AvgTMAX |\n",
    "| :--------- | --------: |\n",
    "| 1869-01-01 | 39.516129 |\n",
    "| 1869-02-01 | 39.714286 |\n",
    "| 1869-03-01 |  41.83871 |\n",
    "\n",
    "**解答欄**"
   ]
  },
  {
   "cell_type": "code",
   "execution_count": null,
   "id": "9ff88330-c828-43b3-827b-77d5d6269967",
   "metadata": {
    "deletable": true,
    "editable": true,
    "frozen": false
   },
   "outputs": [],
   "source": [
    "_file = \"../data/NYC_Central_Park_weather_1869-2022.csv\"\n",
    "df_weather = pl.read_csv(_file).with_columns(\n",
    "    col.DATE.str.to_date()\n",
    ")\n",
    "# ここから解答を作成してください\n"
   ]
  },
  {
   "cell_type": "markdown",
   "id": "4a0e5381-2162-4709-832f-f82e654b94d3",
   "metadata": {
    "deletable": false,
    "editable": false,
    "frozen": true
   },
   "source": [
    "<details><summary>解答例</summary>\n",
    "<br>\n",
    "\n",
    "```python\n",
    "ans = df_weather.group_by_dynamic(\n",
    "    index_column=\"DATE\", every=\"1mo\"\n",
    ").agg(AvgTMAX=col.TMAX.mean())\n",
    "ans[:3]\n",
    "```\n",
    "</details>\n",
    "<br>\n",
    "\n",
    "**確認**"
   ]
  },
  {
   "cell_type": "code",
   "execution_count": null,
   "id": "cc29cb8a-8cd1-4e89-a021-7479939c171c",
   "metadata": {
    "deletable": false,
    "editable": false,
    "frozen": false,
    "jupyter": {
     "source_hidden": true
    }
   },
   "outputs": [],
   "source": [
    "# このセルを実行してください\n",
    "try:\n",
    "    _ans = df_weather.group_by_dynamic(\n",
    "        index_column=\"DATE\", every=\"1mo\"\n",
    "    ).agg(AvgTMAX=col.TMAX.mean())\n",
    "    assert _ans.equals(ans)\n",
    "except (AssertionError, NameError):\n",
    "    print(\"\\x1b[31mNG\\x1b[39m\")\n",
    "    print(\"解答例を確認してください\")\n",
    "else:\n",
    "    print(\"\\x1b[32mOK\\x1b[39m\")\n",
    "    print(dedent(\"\"\"\\\n",
    "        解説: .group_by_dynamic()のindex_columnに時間軸となる列を、everyにウィンドウの期間を指定します。\n",
    "        \"1mo\"は1ヶ月、\"1w\"は1週間、\"3d\"は3日を意味します。\n",
    "    \"\"\"))"
   ]
  },
  {
   "cell_type": "markdown",
   "id": "5693d2f6-6e7f-495e-a77a-d3ba748b404c",
   "metadata": {
    "deletable": true,
    "editable": true,
    "frozen": false
   },
   "source": [
    "---"
   ]
  },
  {
   "cell_type": "markdown",
   "id": "b04c54d4-6009-48c7-a938-787b0bee3588",
   "metadata": {
    "deletable": false,
    "editable": false,
    "frozen": true
   },
   "source": [
    "### `問題 3.2.2` 四半期ごとの集計\n",
    "\n",
    "3.2.1の`df_weather`を次の条件で修正し、変数`ans`に代入してください。\n",
    "\n",
    "* 四半期 (3ヶ月) ごとにグループ化し、各四半期の降水量 (PRCP) の合計を計算する\n",
    "  * 列名を`TotalPRCP`とする\n",
    "\n",
    "**解答欄**"
   ]
  },
  {
   "cell_type": "code",
   "execution_count": null,
   "id": "e2e3e250-59ca-4417-8bc8-ccada37b1a94",
   "metadata": {
    "deletable": true,
    "editable": true,
    "frozen": false
   },
   "outputs": [],
   "source": [
    "# ここから解答を作成してください\n"
   ]
  },
  {
   "cell_type": "markdown",
   "id": "54a1aa49-7f37-49ce-92ac-4f9aabf068d4",
   "metadata": {
    "deletable": false,
    "editable": false,
    "frozen": true
   },
   "source": [
    "<details><summary>解答例</summary>\n",
    "<br>\n",
    "\n",
    "```python\n",
    "ans = df_weather.group_by_dynamic(\n",
    "    index_column=\"DATE\",\n",
    "    every=\"3mo\",\n",
    "    period=\"3mo\",  # ウィンドウの期間(省略可)\n",
    "    closed=\"left\",  # ウィンドウの開始点を含む(省略可)\n",
    ").agg(TotalPRCP=col.PRCP.sum())\n",
    "ans[:3]\n",
    "```\n",
    "</details>\n",
    "<br>\n",
    "\n",
    "**確認**"
   ]
  },
  {
   "cell_type": "code",
   "execution_count": null,
   "id": "370f6567-a72e-441a-a2f6-c90d3cd8d9c5",
   "metadata": {
    "deletable": false,
    "editable": false,
    "frozen": false,
    "jupyter": {
     "source_hidden": true
    }
   },
   "outputs": [],
   "source": [
    "# このセルを実行してください\n",
    "try:\n",
    "    _ans = df_weather.group_by_dynamic(\n",
    "        index_column=\"DATE\",\n",
    "        every=\"3mo\",\n",
    "    ).agg(TotalPRCP=col.PRCP.sum())\n",
    "    assert _ans.equals(ans)\n",
    "except (AssertionError, NameError):\n",
    "    print(\"\\x1b[31mNG\\x1b[39m\")\n",
    "    print(\"解答例を確認してください\")\n",
    "else:\n",
    "    print(\"\\x1b[32mOK\\x1b[39m\")\n",
    "    print(dedent(\"\"\"\\\n",
    "        解説: periodはウィンドウ自体の長さを指定します。\n",
    "        every=\"1mo\", period=\"3mo\"とすると、1ヶ月ごとに3ヶ月間の移動集計（ローリング集計）を行うことができます。\n",
    "    \"\"\"))"
   ]
  },
  {
   "cell_type": "markdown",
   "id": "5424d3d1-43bb-410a-ae31-b13c280c4c02",
   "metadata": {
    "deletable": true,
    "editable": true,
    "frozen": false
   },
   "source": [
    "---"
   ]
  },
  {
   "cell_type": "markdown",
   "id": "85424324-dacf-40b8-b059-6e2eabe740ef",
   "metadata": {
    "deletable": false,
    "editable": false,
    "frozen": true
   },
   "source": [
    "### `問題 3.2.3` 年ごとの集計(開始点変更)\n",
    "\n",
    "3.2.1の`df_weather`を次の条件で修正し、変数`ans`に代入してください。\n",
    "\n",
    "* 毎年7月を開始点として年間の降雪量(SNOW)の合計を計算する(例：2020/7/1 - 2021/6/30)\n",
    "  * 列名を`TotalSnow`とする\n",
    "\n",
    "**解答欄**"
   ]
  },
  {
   "cell_type": "code",
   "execution_count": null,
   "id": "f38b258b-ec3e-4103-86b8-82f6fda4e979",
   "metadata": {
    "deletable": true,
    "editable": true,
    "frozen": false
   },
   "outputs": [],
   "source": [
    "# ここから解答を作成してください\n"
   ]
  },
  {
   "cell_type": "markdown",
   "id": "0a23b314-2583-4008-80aa-8e15b62f90fa",
   "metadata": {
    "deletable": false,
    "editable": false,
    "frozen": true
   },
   "source": [
    "<details><summary>解答例</summary>\n",
    "<br>\n",
    "\n",
    "```python\n",
    "ans = df_weather.group_by_dynamic(\n",
    "    index_column=\"DATE\",\n",
    "    every=\"1y\",\n",
    "    offset=\"6mo\",  # 7月を開始点にするため、6ヶ月オフセット\n",
    ").agg(TotalSnow=col.SNOW.sum())\n",
    "ans[:3]\n",
    "```\n",
    "</details>\n",
    "<br>\n",
    "\n",
    "**確認**"
   ]
  },
  {
   "cell_type": "code",
   "execution_count": null,
   "id": "66aa18c8-7a03-40de-9409-d578a7055ee4",
   "metadata": {
    "deletable": false,
    "editable": false,
    "frozen": false,
    "jupyter": {
     "source_hidden": true
    }
   },
   "outputs": [],
   "source": [
    "# このセルを実行してください\n",
    "try:\n",
    "    _ans = df_weather.group_by_dynamic(\n",
    "        index_column=\"DATE\",\n",
    "        every=\"1y\",\n",
    "        offset=\"6mo\",  # 7月を開始点にするため、6ヶ月オフセット\n",
    "    ).agg(TotalSnow=col.SNOW.sum())\n",
    "    assert _ans.equals(ans)\n",
    "except (AssertionError, NameError):\n",
    "    print(\"\\x1b[31mNG\\x1b[39m\")\n",
    "    print(\"解答例を確認してください\")\n",
    "else:\n",
    "    print(\"\\x1b[32mOK\\x1b[39m\")"
   ]
  },
  {
   "cell_type": "markdown",
   "id": "1a81f9e5-8390-4dec-95ce-0d7c726f22c9",
   "metadata": {
    "deletable": true,
    "editable": true,
    "frozen": false
   },
   "source": [
    "---"
   ]
  },
  {
   "cell_type": "markdown",
   "id": "812a1625-9a66-4fd2-9126-e444885f0eb9",
   "metadata": {
    "deletable": false,
    "editable": false,
    "frozen": true
   },
   "source": [
    "### `問題 3.2.4` カテゴリカルキーと時間でグループ化\n",
    "\n",
    "`_df`を次の条件で修正し、変数`ans`に代入してください。\n",
    "\n",
    "* 地点(Station)ごと、かつ10年ごとに平均最高気温（TMAXの平均）を計算する\n",
    "  * 列名を`AvgTMAX/decade`とする\n",
    "\n",
    "**解答欄**"
   ]
  },
  {
   "cell_type": "code",
   "execution_count": null,
   "id": "8412ccf3-14f8-4cdf-a0f6-ac7684045421",
   "metadata": {
    "deletable": true,
    "editable": true,
    "frozen": false
   },
   "outputs": [],
   "source": [
    "# ダミーの観測地点列を追加\n",
    "_df = df_weather.with_columns(\n",
    "    Station=pl.when(pl.col(\"DATE\").dt.year() < 1950)\n",
    "    .then(pl.lit(\"StationA\"))\n",
    "    .otherwise(pl.lit(\"StationB\"))\n",
    ")\n",
    "# ここから解答を作成してください\n"
   ]
  },
  {
   "cell_type": "markdown",
   "id": "50f97b87-a2e7-4625-8e19-dafffa900012",
   "metadata": {
    "deletable": false,
    "editable": false,
    "frozen": true
   },
   "source": [
    "<details><summary>解答例</summary>\n",
    "<br>\n",
    "\n",
    "```python\n",
    "ans = _df.group_by_dynamic(\n",
    "    index_column=\"DATE\",\n",
    "    every=\"10y\",  # 10年ごとに集計\n",
    "    group_by=\"Station\",  # カテゴリカルキーを指定\n",
    ").agg(col.TMAX.mean().alias(\"AvgTMAX/decade\"))\n",
    "ans[:3]\n",
    "```\n",
    "</details>\n",
    "<br>\n",
    "\n",
    "**確認**"
   ]
  },
  {
   "cell_type": "code",
   "execution_count": null,
   "id": "b7ab3b6b-c243-4459-9191-9817ec771c06",
   "metadata": {
    "deletable": false,
    "editable": false,
    "frozen": false,
    "jupyter": {
     "source_hidden": true
    }
   },
   "outputs": [],
   "source": [
    "# このセルを実行してください\n",
    "try:\n",
    "    _ans = _df.group_by_dynamic(\n",
    "        index_column=\"DATE\",\n",
    "        every=\"10y\",  # 10年ごとに集計\n",
    "        group_by=\"Station\",  # カテゴリカルキーを指定\n",
    "    ).agg(col.TMAX.mean().alias(\"AvgTMAX/decade\"))\n",
    "    assert _ans.equals(ans)\n",
    "except (AssertionError, NameError):\n",
    "    print(\"\\x1b[31mNG\\x1b[39m\")\n",
    "    print(\"解答例を確認してください\")\n",
    "else:\n",
    "    print(\"\\x1b[32mOK\\x1b[39m\")\n",
    "    print(dedent(\"\"\"\\\n",
    "        解説: group_by_dynamicは、引数group_byを使って、時間ベースの動的グループ化と、カテゴリカルキーによる通常のグループ化を組み合わせることができます。\n",
    "        これにより、例えば「観測地点ごと」に「月次」の集計を行うといった、より複雑な時系列分析が可能になります。\n",
    "        Polarsはまずgroup_byで指定されたキーでデータを分割し、それぞれのグループ内で動的な時間ウィンドウ集計を効率的に実行します。\n",
    "    \"\"\"))"
   ]
  },
  {
   "cell_type": "markdown",
   "id": "cd13fe8b-cec8-4bb0-8430-91b29fb38d6a",
   "metadata": {
    "deletable": true,
    "editable": true,
    "frozen": false
   },
   "source": [
    "---"
   ]
  },
  {
   "cell_type": "markdown",
   "id": "0845dc9a-e5de-4bde-8739-0fabf14895f6",
   "metadata": {
    "deletable": false,
    "editable": false,
    "frozen": true
   },
   "source": [
    "### `問題 3.2.5` ローリング集計\n",
    "\n",
    "3.2.1の`df_weather`を次の条件で修正し、変数`ans`に代入してください。\n",
    "\n",
    "* 7日間の移動平均最高気温を計算する\n",
    "  * 列名を`AvgTMAX/7d`とする\n",
    "* `DATE`と`AvgTMAX/7d`の2列とする\n",
    "\n",
    "**解答欄**"
   ]
  },
  {
   "cell_type": "code",
   "execution_count": null,
   "id": "c1884ab7-ce59-49e0-bfea-39edb3c4ac15",
   "metadata": {
    "deletable": true,
    "editable": true,
    "frozen": false
   },
   "outputs": [],
   "source": [
    "# ここから解答を作成してください\n"
   ]
  },
  {
   "cell_type": "markdown",
   "id": "9d512804-479d-41b8-8768-0c48af2a28bb",
   "metadata": {
    "deletable": false,
    "editable": false,
    "frozen": true
   },
   "source": [
    "<details><summary>解答例</summary>\n",
    "<br>\n",
    "\n",
    "```python\n",
    "ans = df_weather.select(\n",
    "    col.DATE,\n",
    "    col.TMAX.rolling_mean(window_size=7).alias(\"AvgTMAX/7d\"),\n",
    ")\n",
    "ans[5:8]\n",
    "```\n",
    "</details>\n",
    "<br>\n",
    "\n",
    "**確認**"
   ]
  },
  {
   "cell_type": "code",
   "execution_count": null,
   "id": "a718c142-0c74-4cea-a539-428a617f5f5e",
   "metadata": {
    "deletable": false,
    "editable": false,
    "frozen": false,
    "jupyter": {
     "source_hidden": true
    }
   },
   "outputs": [],
   "source": [
    "# このセルを実行してください\n",
    "try:\n",
    "    _ans = df_weather.select(\n",
    "        col.DATE,\n",
    "        col.TMAX.rolling_mean(window_size=7).alias(\"AvgTMAX/7d\"),\n",
    "    )\n",
    "    assert _ans.equals(ans)\n",
    "except (AssertionError, NameError):\n",
    "    print(\"\\x1b[31mNG\\x1b[39m\")\n",
    "    print(\"解答例を確認してください\")\n",
    "else:\n",
    "    print(\"\\x1b[32mOK\\x1b[39m\")\n",
    "    print(dedent(\"\"\"\\\n",
    "        解説: .group_by_dynamicはウィンドウを区切って集計するのに対し、.rolling_*系の関数は移動ウィンドウでの集計を行います。\n",
    "    \"\"\"))"
   ]
  },
  {
   "cell_type": "markdown",
   "id": "78913f16-a706-4961-a29c-85c46ad40c3a",
   "metadata": {
    "deletable": true,
    "editable": true,
    "frozen": false
   },
   "source": [
    "---"
   ]
  },
  {
   "cell_type": "markdown",
   "id": "acec8357-4d81-49a6-981f-4f951f1488f2",
   "metadata": {
    "deletable": false,
    "editable": false,
    "frozen": true
   },
   "source": [
    "## Section 3.3: リサンプリング (upsample) (Knocks 61-61)\n",
    "\n",
    "時系列データの頻度を変えることをリサンプリングといい、下記の2つがあります。\n",
    "\n",
    "* **アップサンプリング**: 時系列データの頻度を高くします（例：日次データを時間次データに変換）。`upsample()`を使います。\n",
    "* **ダウンサンプリング**: 時系列データの頻度を低くします（例：日次データを週次や月次データに変換）。これはノイズを減らし、長期的なトレンドを掴むために役立ちます。`group_by_dynamic()`を使います。\n",
    "\n",
    "アップサンプリング時の欠損値の扱いについては下記を参照してください。\n",
    "\n",
    "https://docs.pola.rs/user-guide/transformations/time-series/resampling/"
   ]
  },
  {
   "cell_type": "markdown",
   "id": "56bc4b08-4a52-428f-aabf-e1e427bab24a",
   "metadata": {
    "deletable": false,
    "editable": false,
    "frozen": true
   },
   "source": [
    "### `問題 3.3.1` アップサンプリング\n",
    "\n",
    "3.2.1の`df_weather`をダウンサンプリングした`_df`を次の条件で修正し、変数`ans`に代入してください。\n",
    "\n",
    "  * 日次データとしてアップサンプリングする\n",
    "  * 間のデータは線形補間する\n",
    "  * 下記のようになること\n",
    "\n",
    "| DATE       | AvgTMAX |\n",
    "| :--------- | ------: |\n",
    "| 1868-12-31 |    29.0 |\n",
    "| 1869-01-01 |    30.0 |\n",
    "| 1869-01-02 |    31.0 |\n",
    "| 1869-01-03 |    35.5 |\n",
    "| 1869-01-04 |    40.0 |\n",
    "\n",
    "**解答欄**"
   ]
  },
  {
   "cell_type": "code",
   "execution_count": null,
   "id": "817a722a-a724-478f-a75d-36a7e0c34f0e",
   "metadata": {
    "deletable": true,
    "editable": true,
    "frozen": false
   },
   "outputs": [],
   "source": [
    "_df = df_weather.group_by_dynamic(\n",
    "    index_column=\"DATE\", every=\"2d\"\n",
    ").agg(AvgTMAX=col.TMAX.mean())[:3]\n",
    "\n",
    "# ここから解答を作成してください\n"
   ]
  },
  {
   "cell_type": "markdown",
   "id": "6c040d15-278b-4e58-ad4c-52261c376c4b",
   "metadata": {
    "deletable": false,
    "editable": false,
    "frozen": true
   },
   "source": [
    "<details><summary>解答例</summary>\n",
    "<br>\n",
    "\n",
    "```python\n",
    "ans = _df.upsample(\"DATE\", every=\"1d\").interpolate()\n",
    "ans\n",
    "```\n",
    "</details>\n",
    "<br>\n",
    "\n",
    "**確認**"
   ]
  },
  {
   "cell_type": "code",
   "execution_count": null,
   "id": "e179331a-60d4-481e-9c7b-cbccbba0119b",
   "metadata": {
    "deletable": false,
    "editable": false,
    "frozen": false,
    "jupyter": {
     "source_hidden": true
    }
   },
   "outputs": [],
   "source": [
    "# このセルを実行してください\n",
    "try:\n",
    "    _ans = _df.upsample(\"DATE\", every=\"1d\").interpolate()\n",
    "    assert _ans.equals(ans)\n",
    "except (AssertionError, NameError):\n",
    "    print(\"\\x1b[31mNG\\x1b[39m\")\n",
    "    print(\"解答例を確認してください\")\n",
    "else:\n",
    "    print(\"\\x1b[32mOK\\x1b[39m\")\n",
    "    print(dedent(\"\"\"\\\n",
    "        解説: .interpolate()メソッドを使うと、null値が線形補間によって埋められます。\n",
    "    \"\"\"))"
   ]
  },
  {
   "cell_type": "markdown",
   "id": "5dd6ee50-45a9-447b-ad6b-d0741517a622",
   "metadata": {
    "deletable": true,
    "editable": true,
    "frozen": false
   },
   "source": [
    "---"
   ]
  },
  {
   "cell_type": "markdown",
   "id": "635ccef6-49a5-4c38-a8ab-7788b784826a",
   "metadata": {
    "deletable": false,
    "editable": false,
    "frozen": true
   },
   "source": [
    "## Section 3.4: DataFrameの結合 (Knocks 62-71)\n"
   ]
  },
  {
   "cell_type": "markdown",
   "id": "3a730011-2b59-4d9f-b884-eabda866d886",
   "metadata": {
    "deletable": false,
    "editable": false,
    "frozen": true
   },
   "source": [
    "### `問題 3.4.1` 内部結合\n",
    "\n",
    "`df_a`と`df_b`を次の条件で修正し、変数`ans`に代入してください。\n",
    "\n",
    "* 共通のキーで内部結合する\n",
    "  * `maintain_order=\"left\"`をつける\n",
    "\n",
    "**解答欄**"
   ]
  },
  {
   "cell_type": "code",
   "execution_count": null,
   "id": "385855df-d3d3-4637-afb3-0f5b31ce52b7",
   "metadata": {
    "deletable": true,
    "editable": true,
    "frozen": false
   },
   "outputs": [],
   "source": [
    "df_a = pl.DataFrame(\n",
    "    {\n",
    "        \"key\": [1, 2, 3],\n",
    "        \"value_a\": [\"a1\", \"a2\", \"a3\"],\n",
    "    }\n",
    ")\n",
    "df_b = pl.DataFrame(\n",
    "    {\n",
    "        \"key\": [3, 4, 1],\n",
    "        \"value_b\": [\"b3\", \"b4\", \"b1\"],\n",
    "    }\n",
    ")\n",
    "# ここから解答を作成してください\n"
   ]
  },
  {
   "cell_type": "markdown",
   "id": "d0fb4da4-61c3-4eca-9227-cc025cf4c04d",
   "metadata": {
    "deletable": false,
    "editable": false,
    "frozen": true
   },
   "source": [
    "<details><summary>解答例</summary>\n",
    "<br>\n",
    "\n",
    "```python\n",
    "ans = df_a.join(\n",
    "    df_b,\n",
    "    on=\"key\",\n",
    "    how=\"inner\",\n",
    "    maintain_order=\"left\",\n",
    ")\n",
    "ans[:3]\n",
    "```\n",
    "</details>\n",
    "<br>\n",
    "\n",
    "**確認**"
   ]
  },
  {
   "cell_type": "code",
   "execution_count": null,
   "id": "6a61e513-7508-4aa7-9d89-bc9e17a81ecb",
   "metadata": {
    "deletable": false,
    "editable": false,
    "frozen": false,
    "jupyter": {
     "source_hidden": true
    }
   },
   "outputs": [],
   "source": [
    "# このセルを実行してください\n",
    "try:\n",
    "    _ans = df_a.join(\n",
    "        df_b,\n",
    "        on=\"key\",\n",
    "        how=\"inner\",\n",
    "        maintain_order=\"left\",\n",
    "    )\n",
    "    assert _ans.equals(ans)\n",
    "except (AssertionError, NameError):\n",
    "    print(\"\\x1b[31mNG\\x1b[39m\")\n",
    "    print(\"解答例を確認してください\")\n",
    "else:\n",
    "    print(\"\\x1b[32mOK\\x1b[39m\")\n",
    "    print(dedent(\"\"\"\\\n",
    "        解説: how='inner'は、両方のDataFrameにキーが存在する行のみを結果に含めます。\n",
    "        これはデフォルトの結合方法です。\n",
    "    \"\"\"))"
   ]
  },
  {
   "cell_type": "markdown",
   "id": "e5ef4ba4-e905-4a77-8efb-af9101606534",
   "metadata": {
    "deletable": true,
    "editable": true,
    "frozen": false
   },
   "source": [
    "---"
   ]
  },
  {
   "cell_type": "markdown",
   "id": "59a63e5d-fdd3-4bb9-82ff-31b9cdab40a2",
   "metadata": {
    "deletable": false,
    "editable": false,
    "frozen": true
   },
   "source": [
    "### `問題 3.4.2` 左外部結合\n",
    "\n",
    "`df_a`と`df_b`を次の条件で修正し、変数`ans`に代入してください。\n",
    "\n",
    "* `df_a`を左側として左外部結合を行う\n",
    "\n",
    "**解答欄**"
   ]
  },
  {
   "cell_type": "code",
   "execution_count": null,
   "id": "21c7049a-a5cd-49ad-adea-e77dad54490b",
   "metadata": {
    "deletable": true,
    "editable": true,
    "frozen": false
   },
   "outputs": [],
   "source": [
    "# ここから解答を作成してください\n"
   ]
  },
  {
   "cell_type": "markdown",
   "id": "5324270d-3c3a-4a50-9f98-931f96323745",
   "metadata": {
    "deletable": false,
    "editable": false,
    "frozen": true
   },
   "source": [
    "<details><summary>解答例</summary>\n",
    "<br>\n",
    "\n",
    "```python\n",
    "ans = df_a.join(df_b, on=\"key\", how=\"left\")\n",
    "ans\n",
    "```\n",
    "</details>\n",
    "<br>\n",
    "\n",
    "**確認**"
   ]
  },
  {
   "cell_type": "code",
   "execution_count": null,
   "id": "a5daf303-82b2-467f-9be7-2ebb95cd4511",
   "metadata": {
    "deletable": false,
    "editable": false,
    "frozen": false,
    "jupyter": {
     "source_hidden": true
    }
   },
   "outputs": [],
   "source": [
    "# このセルを実行してください\n",
    "try:\n",
    "    _ans = df_a.join(df_b, on=\"key\", how=\"left\")\n",
    "    assert _ans.equals(ans)\n",
    "except (AssertionError, NameError):\n",
    "    print(\"\\x1b[31mNG\\x1b[39m\")\n",
    "    print(\"解答例を確認してください\")\n",
    "else:\n",
    "    print(\"\\x1b[32mOK\\x1b[39m\")\n",
    "    print(dedent(\"\"\"\\\n",
    "        解説: how=\"left\"は、左側(df_a)のすべての行を保持し、右側(df_b)に一致するキーがあればその値を結合します。\n",
    "        一致しない場合はnullが入ります。\n",
    "    \"\"\"))"
   ]
  },
  {
   "cell_type": "markdown",
   "id": "66aed5e1-f272-4cef-8660-6a22ef9a98e4",
   "metadata": {
    "deletable": true,
    "editable": true,
    "frozen": false
   },
   "source": [
    "---"
   ]
  },
  {
   "cell_type": "markdown",
   "id": "e7bd67ca-7c7b-49f7-b1e3-e252dce5b400",
   "metadata": {
    "deletable": false,
    "editable": false,
    "frozen": true
   },
   "source": [
    "### `問題 3.4.3` 完全外部結合\n",
    "\n",
    "`df_a`と`df_b`を次の条件で修正し、変数`ans`に代入してください。\n",
    "\n",
    "* 完全外部結合する\n",
    "\n",
    "**解答欄**"
   ]
  },
  {
   "cell_type": "code",
   "execution_count": null,
   "id": "a97854a3-a47a-4e31-9aec-65c93e0579dc",
   "metadata": {
    "deletable": true,
    "editable": true,
    "frozen": false
   },
   "outputs": [],
   "source": [
    "# ここから解答を作成してください\n"
   ]
  },
  {
   "cell_type": "markdown",
   "id": "ed05300b-ce4f-44cc-bbbc-e1fcda8270b7",
   "metadata": {
    "deletable": false,
    "editable": false,
    "frozen": true
   },
   "source": [
    "<details><summary>解答例</summary>\n",
    "<br>\n",
    "\n",
    "```python\n",
    "ans = df_a.join(df_b, on=\"key\", how=\"full\")\n",
    "ans\n",
    "```\n",
    "</details>\n",
    "<br>\n",
    "\n",
    "**確認**"
   ]
  },
  {
   "cell_type": "code",
   "execution_count": null,
   "id": "3347675a-d38e-44dd-a9c9-9ee02b1fd627",
   "metadata": {
    "deletable": false,
    "editable": false,
    "frozen": false,
    "jupyter": {
     "source_hidden": true
    }
   },
   "outputs": [],
   "source": [
    "# このセルを実行してください\n",
    "try:\n",
    "    _ans = df_a.join(df_b, on=\"key\", how=\"full\")\n",
    "    assert _ans.equals(ans)\n",
    "except (AssertionError, NameError):\n",
    "    print(\"\\x1b[31mNG\\x1b[39m\")\n",
    "    print(\"解答例を確認してください\")\n",
    "else:\n",
    "    print(\"\\x1b[32mOK\\x1b[39m\")\n",
    "    print(dedent(\"\"\"\\\n",
    "        解説: how=\"full\"は、両方のDataFrameのすべての行を保持し、片方にしか存在しないキーの行も結果に含めます。\n",
    "    \"\"\"))"
   ]
  },
  {
   "cell_type": "markdown",
   "id": "cd8cf8e4-3be5-47fd-b053-6a456a8de2ce",
   "metadata": {
    "deletable": true,
    "editable": true,
    "frozen": false
   },
   "source": [
    "---"
   ]
  },
  {
   "cell_type": "markdown",
   "id": "a85243b5-2111-45ad-9c76-4eebd2ffb758",
   "metadata": {
    "deletable": false,
    "editable": false,
    "frozen": true
   },
   "source": [
    "### `問題 3.4.4` クロス結合\n",
    "\n",
    "`df_a`と`df_b`を次の条件で修正し、変数`ans`に代入してください。\n",
    "\n",
    "* df_aとdf_bのデカルト積(総当たり)を計算する\n",
    "\n",
    "**解答欄**"
   ]
  },
  {
   "cell_type": "code",
   "execution_count": null,
   "id": "ebc2c358-39f0-441f-9fc0-d95feb14efd7",
   "metadata": {
    "deletable": true,
    "editable": true,
    "frozen": false
   },
   "outputs": [],
   "source": [
    "# ここから解答を作成してください\n"
   ]
  },
  {
   "cell_type": "markdown",
   "id": "b0e2842e-de71-4f39-981a-b8dede8f6b32",
   "metadata": {
    "deletable": false,
    "editable": false,
    "frozen": true
   },
   "source": [
    "<details><summary>解答例</summary>\n",
    "<br>\n",
    "\n",
    "```python\n",
    "ans = df_a.join(df_b, how=\"cross\")\n",
    "ans\n",
    "```\n",
    "</details>\n",
    "<br>\n",
    "\n",
    "**確認**"
   ]
  },
  {
   "cell_type": "code",
   "execution_count": null,
   "id": "2dda6bf4-cbea-4ac5-a578-cce26599a91e",
   "metadata": {
    "deletable": false,
    "editable": false,
    "frozen": false,
    "jupyter": {
     "source_hidden": true
    }
   },
   "outputs": [],
   "source": [
    "# このセルを実行してください\n",
    "try:\n",
    "    _ans = df_a.join(df_b, how=\"cross\")\n",
    "    assert _ans.equals(ans)\n",
    "except (AssertionError, NameError):\n",
    "    print(\"\\x1b[31mNG\\x1b[39m\")\n",
    "    print(\"解答例を確認してください\")\n",
    "else:\n",
    "    print(\"\\x1b[32mOK\\x1b[39m\")\n",
    "    print(dedent(\"\"\"\\\n",
    "        解説: how=\"cross\"は、左のDataFrameの各行と右のDataFrameの各行のすべての組み合わせを作成します。\n",
    "        結果の行数は len(df_a) * len(df_b) となります。\n",
    "    \"\"\"))"
   ]
  },
  {
   "cell_type": "markdown",
   "id": "a853cddf-b5c3-4155-bdd6-a5bf268d4f71",
   "metadata": {
    "deletable": true,
    "editable": true,
    "frozen": false
   },
   "source": [
    "---"
   ]
  },
  {
   "cell_type": "markdown",
   "id": "0448f973-aa29-47d3-854f-7d66f0eeaf42",
   "metadata": {
    "deletable": false,
    "editable": false,
    "frozen": true
   },
   "source": [
    "### `問題 3.4.5` 複数キーで結合\n",
    "\n",
    "`df_c`と`df_d`を次の条件で修正し、変数`ans`に代入してください。\n",
    "\n",
    "* 共通のキーで内部結合する\n",
    "\n",
    "**解答欄**"
   ]
  },
  {
   "cell_type": "code",
   "execution_count": null,
   "id": "19c30ed5-280c-4224-ae84-6f320d8f86fb",
   "metadata": {
    "deletable": true,
    "editable": true,
    "frozen": false
   },
   "outputs": [],
   "source": [
    "df_c = pl.DataFrame(\n",
    "    {\n",
    "        \"key1\": [1, 1, 2],\n",
    "        \"key2\": [0, 1, 0],\n",
    "        \"value_a\": [\"a10\", \"a11\", \"a20\"],\n",
    "    }\n",
    ")\n",
    "df_d = pl.DataFrame(\n",
    "    {\n",
    "        \"key1\": [1, 2, 2],\n",
    "        \"key2\": [0, 0, 1],\n",
    "        \"value_b\": [\"b10\", \"b20\", \"b21\"],\n",
    "    }\n",
    ")\n",
    "# ここから解答を作成してください\n"
   ]
  },
  {
   "cell_type": "markdown",
   "id": "78d6a544-1485-488d-a267-d7ff1a6176e4",
   "metadata": {
    "deletable": false,
    "editable": false,
    "frozen": true
   },
   "source": [
    "<details><summary>解答例</summary>\n",
    "<br>\n",
    "\n",
    "```python\n",
    "ans = df_c.join(df_d, on=[\"key1\", \"key2\"], how=\"inner\")\n",
    "ans\n",
    "```\n",
    "</details>\n",
    "<br>\n",
    "\n",
    "**確認**"
   ]
  },
  {
   "cell_type": "code",
   "execution_count": null,
   "id": "002370f0-14e1-4e31-bcdb-5c14295412ec",
   "metadata": {
    "deletable": false,
    "editable": false,
    "frozen": false,
    "jupyter": {
     "source_hidden": true
    }
   },
   "outputs": [],
   "source": [
    "# このセルを実行してください\n",
    "try:\n",
    "    _ans = df_c.join(df_d, on=[\"key1\", \"key2\"], how=\"inner\")\n",
    "    assert _ans.equals(ans)\n",
    "except (AssertionError, NameError):\n",
    "    print(\"\\x1b[31mNG\\x1b[39m\")\n",
    "    print(\"解答例を確認してください\")\n",
    "else:\n",
    "    print(\"\\x1b[32mOK\\x1b[39m\")"
   ]
  },
  {
   "cell_type": "markdown",
   "id": "81f0731d-b320-43f3-8367-ba32fb00ff21",
   "metadata": {
    "deletable": true,
    "editable": true,
    "frozen": false
   },
   "source": [
    "---"
   ]
  },
  {
   "cell_type": "markdown",
   "id": "3d4afbba-4753-4c8d-a819-9e0578751a1f",
   "metadata": {
    "deletable": false,
    "editable": false,
    "frozen": true
   },
   "source": [
    "### `問題 3.4.6` セミ結合\n",
    "\n",
    "`df_a`と`df_b`を次の条件で修正し、変数`ans`に代入してください。\n",
    "\n",
    "* df_aのキーがdf_bにも存在する行のみを、df_aの列だけで抽出する\n",
    "\n",
    "**解答欄**"
   ]
  },
  {
   "cell_type": "code",
   "execution_count": null,
   "id": "a4e0e018-18a9-49fa-90eb-f870bd5d5718",
   "metadata": {
    "deletable": true,
    "editable": true,
    "frozen": false
   },
   "outputs": [],
   "source": [
    "# ここから解答を作成してください\n"
   ]
  },
  {
   "cell_type": "markdown",
   "id": "3c3fe28e-7d49-44e6-9dc8-f370a379d165",
   "metadata": {
    "deletable": false,
    "editable": false,
    "frozen": true
   },
   "source": [
    "<details><summary>解答例</summary>\n",
    "<br>\n",
    "\n",
    "```python\n",
    "ans = df_a.join(df_b, on=\"key\", how=\"semi\")\n",
    "ans\n",
    "```\n",
    "</details>\n",
    "<br>\n",
    "\n",
    "**確認**"
   ]
  },
  {
   "cell_type": "code",
   "execution_count": null,
   "id": "284b1042-4f52-4e0c-a5c7-925817ab4265",
   "metadata": {
    "deletable": false,
    "editable": false,
    "frozen": false,
    "jupyter": {
     "source_hidden": true
    }
   },
   "outputs": [],
   "source": [
    "# このセルを実行してください\n",
    "try:\n",
    "    _ans = df_a.join(df_b, on=\"key\", how=\"semi\")\n",
    "    assert _ans.equals(ans)\n",
    "except (AssertionError, NameError):\n",
    "    print(\"\\x1b[31mNG\\x1b[39m\")\n",
    "    print(\"解答例を確認してください\")\n",
    "else:\n",
    "    print(\"\\x1b[32mOK\\x1b[39m\")\n",
    "    print(dedent(\"\"\"\\\n",
    "        解説: how=\"semi\"は、右側のDataFrameに一致するキーが存在する左側のDataFrameの行を返します。\n",
    "        右側のDataFrameの列は結果に含まれません。これは「存在確認」のフィルタリングとして非常に効率的です。\n",
    "    \"\"\"))"
   ]
  },
  {
   "cell_type": "markdown",
   "id": "ed5540ca-97e6-4ff4-91cd-9bf55e90b12a",
   "metadata": {
    "deletable": true,
    "editable": true,
    "frozen": false
   },
   "source": [
    "---"
   ]
  },
  {
   "cell_type": "markdown",
   "id": "31e18c14-f4cc-4028-8bac-425d0ea180ba",
   "metadata": {
    "deletable": false,
    "editable": false,
    "frozen": true
   },
   "source": [
    "### `問題 3.4.7` アンチ結合\n",
    "\n",
    "`df_a`と`df_b`を次の条件で修正し、変数`ans`に代入してください。\n",
    "\n",
    "* df_aのキーがdf_bに存在しない行のみを、df_aの列だけで抽出する\n",
    "\n",
    "**解答欄**"
   ]
  },
  {
   "cell_type": "code",
   "execution_count": null,
   "id": "0ef6e083-6b1e-44f2-bfa0-fa54f8bd475f",
   "metadata": {
    "deletable": true,
    "editable": true,
    "frozen": false
   },
   "outputs": [],
   "source": [
    "# ここから解答を作成してください\n"
   ]
  },
  {
   "cell_type": "markdown",
   "id": "59a0c9a1-8f41-4134-b9f4-59379c229119",
   "metadata": {
    "deletable": false,
    "editable": false,
    "frozen": true
   },
   "source": [
    "<details><summary>解答例</summary>\n",
    "<br>\n",
    "\n",
    "```python\n",
    "ans = df_a.join(df_b, on=\"key\", how=\"anti\")\n",
    "ans\n",
    "```\n",
    "</details>\n",
    "<br>\n",
    "\n",
    "**確認**"
   ]
  },
  {
   "cell_type": "code",
   "execution_count": null,
   "id": "a44ee710-5480-4e19-a7f8-8b786a3fc597",
   "metadata": {
    "deletable": false,
    "editable": false,
    "frozen": false,
    "jupyter": {
     "source_hidden": true
    }
   },
   "outputs": [],
   "source": [
    "# このセルを実行してください\n",
    "try:\n",
    "    _ans = df_a.join(df_b, on=\"key\", how=\"anti\")\n",
    "    assert _ans.equals(ans)\n",
    "except (AssertionError, NameError):\n",
    "    print(\"\\x1b[31mNG\\x1b[39m\")\n",
    "    print(\"解答例を確認してください\")\n",
    "else:\n",
    "    print(\"\\x1b[32mOK\\x1b[39m\")\n",
    "    print(dedent(\"\"\"\\\n",
    "        解説: how=\"anti\"はセミ結合の逆で、右側のDataFrameに一致するキーが存在しない左側のDataFrameの行を返します。\n",
    "        「非存在確認」のフィルタリングに役立ちます。\n",
    "    \"\"\"))"
   ]
  },
  {
   "cell_type": "markdown",
   "id": "e1d6b473-2229-4986-b45a-5798a5f6dec2",
   "metadata": {
    "deletable": true,
    "editable": true,
    "frozen": false
   },
   "source": [
    "---"
   ]
  },
  {
   "cell_type": "markdown",
   "id": "5ba7a209-f7da-4fce-9e48-6054d96dac1c",
   "metadata": {
    "deletable": false,
    "editable": false,
    "frozen": true
   },
   "source": [
    "### `問題 3.4.8` Asof結合\n",
    "\n",
    "時系列データで、各注文日に最も近い過去の市場価格を結合し、変数`ans`に代入してください。\n",
    "\n",
    "**解答欄**"
   ]
  },
  {
   "cell_type": "code",
   "execution_count": null,
   "id": "ae4a1369-dc41-4668-ac23-236c91769882",
   "metadata": {
    "deletable": true,
    "editable": true,
    "frozen": false
   },
   "outputs": [],
   "source": [
    "market_prices = pl.DataFrame({\n",
    "    'time': pl.date_range(pl.date(2023, 1, 2), pl.date(2023, 1, 8), '2d', eager=True),\n",
    "    'price': range(2, 9, 2),\n",
    "})\n",
    "orders = pl.DataFrame({\n",
    "    'order_time': [date(2023, 1, 1), date(2023, 1, 5), date(2023, 1, 9)],\n",
    "    'volume': [100, 120, 180],\n",
    "})\n",
    "# ここから解答を作成してください\n"
   ]
  },
  {
   "cell_type": "markdown",
   "id": "57005946-f586-4060-bc56-6d56591186c2",
   "metadata": {
    "deletable": false,
    "editable": false,
    "frozen": true
   },
   "source": [
    "<details><summary>解答例</summary>\n",
    "<br>\n",
    "\n",
    "```python\n",
    "ans = orders.join_asof(\n",
    "    market_prices,\n",
    "    left_on=\"order_time\",\n",
    "    right_on=\"time\",\n",
    "    strategy=\"nearest\",\n",
    ")\n",
    "ans\n",
    "```\n",
    "</details>\n",
    "<br>\n",
    "\n",
    "**確認**"
   ]
  },
  {
   "cell_type": "code",
   "execution_count": null,
   "id": "324653c4-e5fc-4b8f-8c4a-786c40addeb5",
   "metadata": {
    "deletable": false,
    "editable": false,
    "frozen": false,
    "jupyter": {
     "source_hidden": true
    }
   },
   "outputs": [],
   "source": [
    "# このセルを実行してください\n",
    "try:\n",
    "    _ans = orders.join_asof(\n",
    "        market_prices,\n",
    "        left_on=\"order_time\",\n",
    "        right_on=\"time\",\n",
    "        strategy=\"nearest\",\n",
    "    )\n",
    "    assert _ans.equals(ans)\n",
    "except (AssertionError, NameError):\n",
    "    print(\"\\x1b[31mNG\\x1b[39m\")\n",
    "    print(\"解答例を確認してください\")\n",
    "else:\n",
    "    print(\"\\x1b[32mOK\\x1b[39m\")\n",
    "    print(dedent(\"\"\"\\\n",
    "        解説: join_asofは、キーが完全に一致しなくても、最も近いキーで結合する特殊な結合です。\n",
    "        時系列データでイベントと直前の状態を紐付ける際などに非常に有用です。\n",
    "        strategy引数で\"backward\"（過去方向、デフォルト）、\"forward\"（未来方向）、\"nearest\"（最も近い）を指定できます。\n",
    "    \"\"\"))"
   ]
  },
  {
   "cell_type": "markdown",
   "id": "a5cec04f-7383-4db2-b79d-f73816cb455d",
   "metadata": {
    "deletable": true,
    "editable": true,
    "frozen": false
   },
   "source": [
    "---"
   ]
  },
  {
   "cell_type": "markdown",
   "id": "33f019e9-1083-493a-94b1-8a22050a4ed4",
   "metadata": {
    "deletable": false,
    "editable": false,
    "frozen": true
   },
   "source": [
    "### `問題 3.4.9` 非等価結合\n",
    "\n",
    "各イベントがどの時間枠に含まれるかを判定して結合し、event_timeでソートして、変数`ans`に代入してください。\n",
    "\n",
    "**解答欄**"
   ]
  },
  {
   "cell_type": "code",
   "execution_count": null,
   "id": "e202b93a-a814-4bbd-8a46-1d5af6ffd2d9",
   "metadata": {
    "deletable": true,
    "editable": true,
    "frozen": false
   },
   "outputs": [],
   "source": [
    "events = pl.DataFrame(\n",
    "    {\n",
    "        \"event_time\": [1.5, 2.8, 3.5, 5.1],\n",
    "        \"event_type\": [\"a\", \"b\", \"c\", \"d\"],\n",
    "    }\n",
    ")\n",
    "windows = pl.DataFrame(\n",
    "    {\n",
    "        \"window_id\": [\"x\", \"y\", \"z\"],\n",
    "        \"start_time\": [1.0, 3.0, 5.0],\n",
    "        \"end_time\": [2.0, 4.0, 6.0],\n",
    "    }\n",
    ")\n",
    "# ここから解答を作成してください\n"
   ]
  },
  {
   "cell_type": "markdown",
   "id": "1a192cc5-6f86-4425-8323-e6db27fae24c",
   "metadata": {
    "deletable": false,
    "editable": false,
    "frozen": true
   },
   "source": [
    "<details><summary>解答例</summary>\n",
    "<br>\n",
    "\n",
    "```python\n",
    "ans = events.join_where(\n",
    "    windows,\n",
    "    (pl.col(\"event_time\") >= pl.col(\"start_time\"))\n",
    "    & (pl.col(\"event_time\") < pl.col(\"end_time\")),\n",
    ").sort(\"event_time\")\n",
    "ans\n",
    "```\n",
    "</details>\n",
    "<br>\n",
    "\n",
    "**確認**"
   ]
  },
  {
   "cell_type": "code",
   "execution_count": null,
   "id": "b054c7e3-f863-4bb5-ac91-06d328b832d7",
   "metadata": {
    "deletable": false,
    "editable": false,
    "frozen": false,
    "jupyter": {
     "source_hidden": true
    }
   },
   "outputs": [],
   "source": [
    "# このセルを実行してください\n",
    "try:\n",
    "    _ans = events.join_where(\n",
    "        windows,\n",
    "        (pl.col(\"event_time\") >= pl.col(\"start_time\"))\n",
    "        & (pl.col(\"event_time\") < pl.col(\"end_time\")),\n",
    "    ).sort(\"event_time\")\n",
    "    assert _ans.equals(ans)\n",
    "except (AssertionError, NameError):\n",
    "    print(\"\\x1b[31mNG\\x1b[39m\")\n",
    "    print(\"解答例を確認してください\")\n",
    "else:\n",
    "    print(\"\\x1b[32mOK\\x1b[39m\")\n",
    "    print(dedent(\"\"\"\\\n",
    "        解説: join_whereは、等価条件(==)だけでなく、不等価条件(>, <, >=, <=)を含む任意の述語に基づいて結合を行うための実験的な機能です。\n",
    "        これにより、クロス結合とフィルタリングを組み合わせるよりもはるかに効率的に、範囲ベースの結合（range join）などを実現できます。\n",
    "    \"\"\"))"
   ]
  },
  {
   "cell_type": "markdown",
   "id": "e2c195d8-6ccd-4c2a-ba2f-aeff6e09208e",
   "metadata": {
    "deletable": true,
    "editable": true,
    "frozen": false
   },
   "source": [
    "---"
   ]
  },
  {
   "cell_type": "markdown",
   "id": "60c661da-3df3-43ea-95b2-5de0ac2c72ea",
   "metadata": {
    "deletable": false,
    "editable": false,
    "frozen": true
   },
   "source": [
    "### `問題 3.4.10` 縦に結合\n",
    "\n",
    "`df_a`と`df_b`を縦に結合し、変数`ans`に代入してください。\n",
    "\n",
    "* `df_b`の列名は`df_a`に揃える\n",
    "\n",
    "**解答欄**"
   ]
  },
  {
   "cell_type": "code",
   "execution_count": null,
   "id": "e5f6c9a8-d83d-4066-8600-fa56e8e4b9da",
   "metadata": {
    "deletable": true,
    "editable": true,
    "frozen": false
   },
   "outputs": [],
   "source": [
    "# ここから解答を作成してください\n"
   ]
  },
  {
   "cell_type": "markdown",
   "id": "2ce49cb4-9a70-4948-a995-715a4ff1363f",
   "metadata": {
    "deletable": false,
    "editable": false,
    "frozen": true
   },
   "source": [
    "<details><summary>解答例</summary>\n",
    "<br>\n",
    "\n",
    "```python\n",
    "ans = pl.concat([df_a, df_b.rename({\"value_b\": \"value_a\"})])\n",
    "ans\n",
    "```\n",
    "</details>\n",
    "<br>\n",
    "\n",
    "**確認**"
   ]
  },
  {
   "cell_type": "code",
   "execution_count": null,
   "id": "5e9fe9d6-c63d-4b39-9b2f-36da83131e9b",
   "metadata": {
    "deletable": false,
    "editable": false,
    "frozen": false,
    "jupyter": {
     "source_hidden": true
    }
   },
   "outputs": [],
   "source": [
    "# このセルを実行してください\n",
    "try:\n",
    "    _ans = pl.concat([df_a, df_b.rename({\"value_b\": \"value_a\"})])\n",
    "    assert _ans.equals(ans)\n",
    "except (AssertionError, NameError):\n",
    "    print(\"\\x1b[31mNG\\x1b[39m\")\n",
    "    print(\"解答例を確認してください\")\n",
    "else:\n",
    "    print(\"\\x1b[32mOK\\x1b[39m\")\n",
    "    print(dedent(\"\"\"\\\n",
    "        解説: pl.concat()は、複数のDataFrameを縦方向（how=\"vertical\"、デフォルト）または横方向（how=\"horizontal\"）に結合します。\n",
    "    \"\"\"))"
   ]
  },
  {
   "cell_type": "markdown",
   "id": "8e0c720a-4d84-4334-8d15-c62821605502",
   "metadata": {
    "deletable": false,
    "editable": false,
    "frozen": true
   },
   "source": [
    "## Section 3.5: DataFrameの整形 (unpivot, pivot) (Knocks 72-73)\n",
    "データを分析しやすい形に変形する「整形」は、データ前処理の核となる作業です。ここでは、データフレームを「横長（ワイドフォーマット）」から「縦長（ロングフォーマット）」に変換するunpivotと、その逆のpivot操作を学びます。\n"
   ]
  },
  {
   "cell_type": "markdown",
   "id": "84c54ed8-0ad0-4946-987d-b9f853b22af5",
   "metadata": {
    "deletable": false,
    "editable": false,
    "frozen": true
   },
   "source": [
    "### `問題 3.5.1` 縦持ち変換 (unpivot)\n",
    "\n",
    "`df_wide`は、生徒ごとの各科目の点数を横持ちで保持しています。このDataFrameを「生徒(`Student`)」「科目(`Subject`)」「点数(`Score`)」を列に持つ縦長の形式に変換し、変数`ans`に代入してください。\n",
    "\n",
    "**解答欄**"
   ]
  },
  {
   "cell_type": "code",
   "execution_count": null,
   "id": "e79bc8d1-5f44-450f-965a-cbb6cf376d9a",
   "metadata": {
    "deletable": true,
    "editable": true,
    "frozen": false
   },
   "outputs": [],
   "source": [
    "df_wide = pl.DataFrame({\n",
    "    \"Student\": [\"Alice\", \"Bob\", \"Carol\"],\n",
    "    \"Math\": [90, 88, 92],\n",
    "    \"Science\": [85, 91, 89],\n",
    "})\n",
    "# ここから解答を作成してください\n"
   ]
  },
  {
   "cell_type": "markdown",
   "id": "cb17c79b-8a5f-4259-9361-6b0236b459c8",
   "metadata": {
    "deletable": false,
    "editable": false,
    "frozen": true
   },
   "source": [
    "<details><summary>解答例</summary>\n",
    "<br>\n",
    "\n",
    "```python\n",
    "ans = df_wide.unpivot(\n",
    "    on=[\"Math\", \"Science\"],\n",
    "    index=\"Student\",\n",
    "    variable_name=\"Subject\",\n",
    "    value_name=\"Score\"\n",
    ")\n",
    "ans\n",
    "```\n",
    "</details>\n",
    "<br>\n",
    "\n",
    "**確認**"
   ]
  },
  {
   "cell_type": "code",
   "execution_count": null,
   "id": "eb1d78d3-84ac-41d4-b604-0875684d8ae0",
   "metadata": {
    "deletable": false,
    "editable": false,
    "frozen": false,
    "jupyter": {
     "source_hidden": true
    }
   },
   "outputs": [],
   "source": [
    "# このセルを実行してください\n",
    "try:\n",
    "    _ans = df_wide.unpivot(\n",
    "        on=[\"Math\", \"Science\"],\n",
    "        index=\"Student\",\n",
    "        variable_name=\"Subject\",\n",
    "        value_name=\"Score\"\n",
    "    )\n",
    "    assert _ans.equals(ans)\n",
    "except (AssertionError, NameError):\n",
    "    print(\"\\x1b[31mNG\\x1b[39m\")\n",
    "    print(\"解答例を確認してください\")\n",
    "else:\n",
    "    print(\"\\x1b[32mOK\\x1b[39m\")\n",
    "    print(dedent(\"\"\"\\\n",
    "        解説: .unpivot()は、DataFrameをワイドフォーマットからロングフォーマットに変換します。\n",
    "        - on: 縦持ちに変換したい値が含まれる列を指定します。\n",
    "        - index: 変換後もそのまま列として残す識別子の列を指定します。\n",
    "        - variable_name: onで指定した列名自体が格納される新しい列の名前です。\n",
    "        - value_name: onの各セルにあった値が格納される新しい列の名前です。\n",
    "    \"\"\"))"
   ]
  },
  {
   "cell_type": "markdown",
   "id": "0785f7d2-17dd-43eb-9159-cab7ef566456",
   "metadata": {
    "deletable": true,
    "editable": true,
    "frozen": false
   },
   "source": [
    "---"
   ]
  },
  {
   "cell_type": "markdown",
   "id": "d6f3db7f-9403-4cdb-a0f0-cbaf46d966bb",
   "metadata": {
    "deletable": false,
    "editable": false,
    "frozen": true
   },
   "source": [
    "### `問題 3.5.2` 横持ち変換 (pivot)\n",
    "\n",
    "問題 3.5.1で作成した縦長のDataFrame`df_long`を、再び生徒ごとに行を持ち、各科目が列となる横長の形式に変換し、変数`ans`に代入してください。\n",
    "\n",
    "**解答欄**"
   ]
  },
  {
   "cell_type": "code",
   "execution_count": null,
   "id": "cc87afd5-8053-42c9-8035-5e3137cff88b",
   "metadata": {
    "deletable": true,
    "editable": true,
    "frozen": false
   },
   "outputs": [],
   "source": [
    "df_long = pl.DataFrame({\n",
    "    \"Student\": [\"Alice\", \"Bob\", \"Carol\", \"Alice\", \"Bob\", \"Carol\"],\n",
    "    \"Subject\": [\"Math\", \"Math\", \"Math\", \"Science\", \"Science\", \"Science\"],\n",
    "    \"Score\": [90, 88, 92, 85, 91, 89],\n",
    "})\n",
    "# ここから解答を作成してください\n"
   ]
  },
  {
   "cell_type": "markdown",
   "id": "efe766b0-25cf-4e98-9356-d5269c1636fa",
   "metadata": {
    "deletable": false,
    "editable": false,
    "frozen": true
   },
   "source": [
    "<details><summary>解答例</summary>\n",
    "<br>\n",
    "\n",
    "```python\n",
    "ans = df_long.pivot(\n",
    "    on=\"Subject\",\n",
    "    index=\"Student\",\n",
    "    values=\"Score\",\n",
    ")\n",
    "ans\n",
    "```\n",
    "</details>\n",
    "<br>\n",
    "\n",
    "**確認**"
   ]
  },
  {
   "cell_type": "code",
   "execution_count": null,
   "id": "794db225-df26-4e78-a8b2-7e6a222782cf",
   "metadata": {
    "deletable": false,
    "editable": false,
    "frozen": false,
    "jupyter": {
     "source_hidden": true
    }
   },
   "outputs": [],
   "source": [
    "# このセルを実行してください\n",
    "try:\n",
    "    _ans = df_long.pivot(\n",
    "        on=\"Subject\",\n",
    "        index=\"Student\",\n",
    "        values=\"Score\",\n",
    "    )\n",
    "    assert _ans.equals(ans)\n",
    "except (AssertionError, NameError):\n",
    "    print(\"\\x1b[31mNG\\x1b[39m\")\n",
    "    print(\"解答例を確認してください\")\n",
    "else:\n",
    "    print(\"\\x1b[32mOK\\x1b[39m\")\n",
    "    print(dedent(\"\"\"\\\n",
    "        解説: .pivot()は.unpivot()の逆の操作で、ロングフォーマットからワイドフォーマットに変換します。\n",
    "        - on: この列のユニークな値が、新しい列名になります。\n",
    "        - index: 結果のDataFrameで各行を一意に識別する列を指定します。\n",
    "        - values: 新しく作られる列に入る値を持つ列を指定します。\n",
    "        on, indexの組み合わせが複数存在する場合は、エラーになります。\n",
    "    \"\"\"))"
   ]
  },
  {
   "cell_type": "markdown",
   "id": "12edbab6-990b-4287-9d42-ae0c5903bf12",
   "metadata": {
    "deletable": true,
    "editable": true,
    "frozen": false
   },
   "source": [
    "---"
   ]
  },
  {
   "cell_type": "markdown",
   "id": "76beed56-9f7b-4711-ba90-7db460e2d97c",
   "metadata": {
    "deletable": false,
    "editable": false,
    "frozen": true
   },
   "source": [
    "# Part 4: 高度なテクニックとパフォーマンス (Knocks 74-97)\n",
    "\n",
    "このパートでは、Polarsを他のライブラリと一線を画す、分析能力とパフォーマンスに関する高度な機能を探求します。\n",
    "\n",
    "## Section 4.1: ウィンドウ関数 (over) (Knocks 74-81)\n",
    "\n",
    "ウィンドウ関数は、group_byのようにデータをグループ化しますが、行を集約して減らすのではなく、各行の元のコンテキストを維持したまま、グループ内での計算結果を新しい列として追加します。SQLのウィンドウ関数と同様の機能を提供します。\n"
   ]
  },
  {
   "cell_type": "markdown",
   "id": "b0db93fc-cd54-44f2-a4f7-4a4aab02d985",
   "metadata": {
    "deletable": false,
    "editable": false,
    "frozen": true
   },
   "source": [
    "### `問題 4.1.1` グループ内でのランキング\n",
    "\n",
    "`df_titanic`を次の条件で修正し、変数`ans`に代入してください。\n",
    "\n",
    "* 各客室クラス (Pclass) 内での運賃 (Fare) の降順ランキングを計算する\n",
    "  * 列名を`FareRankInClass`とする\n",
    "  * `method=\"dense\"`をつけること\n",
    "* FareRankInClass、Pclass、PassengerIdでソートする\n",
    "\n",
    "**解答欄**"
   ]
  },
  {
   "cell_type": "code",
   "execution_count": null,
   "id": "a5aac440-c80c-49f7-bb0c-aea1c1f8b3d5",
   "metadata": {
    "deletable": true,
    "editable": true,
    "frozen": false
   },
   "outputs": [],
   "source": [
    "_file = \"../data/titanic_train.csv\"\n",
    "df_titanic = pl.read_csv(_file)\n",
    "# ここから解答を作成してください\n"
   ]
  },
  {
   "cell_type": "markdown",
   "id": "f3a5cfd7-26a7-4ada-8b67-316d10cc545e",
   "metadata": {
    "deletable": false,
    "editable": false,
    "frozen": true
   },
   "source": [
    "<details><summary>解答例</summary>\n",
    "<br>\n",
    "\n",
    "```python\n",
    "ans = df_titanic.with_columns(\n",
    "    FareRankInClass=col.Fare.rank(\n",
    "        method=\"dense\", descending=True\n",
    "    ).over(\"Pclass\")\n",
    ").sort(\"FareRankInClass\", \"Pclass\", \"PassengerId\")\n",
    "ans[:10]\n",
    "```\n",
    "</details>\n",
    "<br>\n",
    "\n",
    "**確認**"
   ]
  },
  {
   "cell_type": "code",
   "execution_count": null,
   "id": "41f7c500-caf3-4cca-a144-a532d71dbc66",
   "metadata": {
    "deletable": false,
    "editable": false,
    "frozen": false,
    "jupyter": {
     "source_hidden": true
    }
   },
   "outputs": [],
   "source": [
    "# このセルを実行してください\n",
    "try:\n",
    "    _ans = df_titanic.with_columns(\n",
    "        FareRankInClass=col.Fare.rank(\n",
    "            method=\"dense\", descending=True\n",
    "        ).over(\"Pclass\")\n",
    "    ).sort(\"FareRankInClass\", \"Pclass\", \"PassengerId\")\n",
    "    assert _ans.equals(ans)\n",
    "except (AssertionError, NameError):\n",
    "    print(\"\\x1b[31mNG\\x1b[39m\")\n",
    "    print(\"解答例を確認してください\")\n",
    "else:\n",
    "    print(\"\\x1b[32mOK\\x1b[39m\")\n",
    "    print(dedent(\"\"\"\\\n",
    "        解説: .over()は、式をウィンドウ関数として実行するためのメソッドです。引数にグループ化する列を指定します。\n",
    "        pl.col(\"Fare\").rank().over(\"Pclass\")は、「Pclassごとにグループ化し、その中でFareをランク付けする」という意味になります。\n",
    "    \"\"\"))"
   ]
  },
  {
   "cell_type": "markdown",
   "id": "9da8e216-76ea-4f9e-bb48-0b3f0f11089e",
   "metadata": {
    "deletable": true,
    "editable": true,
    "frozen": false
   },
   "source": [
    "---"
   ]
  },
  {
   "cell_type": "markdown",
   "id": "2350140e-0fb8-42f3-a493-b5b685afce9a",
   "metadata": {
    "deletable": false,
    "editable": false,
    "frozen": true
   },
   "source": [
    "### `問題 4.1.2` グループ内累積和\n",
    "\n",
    "`df_weather`を次の条件で修正し、変数`ans`に代入してください。\n",
    "\n",
    "* 年ごとに日々の降水量(PRCP)の累積和を計算する\n",
    "  * 列名を`CumulativePRCP`とする\n",
    "\n",
    "**解答欄**"
   ]
  },
  {
   "cell_type": "code",
   "execution_count": null,
   "id": "8015987a-8399-4731-9190-9406af8824a9",
   "metadata": {
    "deletable": true,
    "editable": true,
    "frozen": false
   },
   "outputs": [],
   "source": [
    "_file = \"../data/NYC_Central_Park_weather_1869-2022.csv\"\n",
    "df_weather = pl.read_csv(_file).with_columns(\n",
    "    col.DATE.str.to_date()\n",
    ")\n",
    "# ここから解答を作成してください\n"
   ]
  },
  {
   "cell_type": "markdown",
   "id": "699964a0-8b2d-4ac6-a9f8-fef4747dc3fd",
   "metadata": {
    "deletable": false,
    "editable": false,
    "frozen": true
   },
   "source": [
    "<details><summary>解答例</summary>\n",
    "<br>\n",
    "\n",
    "```python\n",
    "ans = df_weather.with_columns(\n",
    "    CumulativePRCP=col.PRCP.cum_sum().over(col.DATE.dt.year()),\n",
    ")\n",
    "ans[:3]\n",
    "```\n",
    "</details>\n",
    "<br>\n",
    "\n",
    "**確認**"
   ]
  },
  {
   "cell_type": "code",
   "execution_count": null,
   "id": "9add88a6-f544-4c33-8674-f3e286b7c88c",
   "metadata": {
    "deletable": false,
    "editable": false,
    "frozen": false,
    "jupyter": {
     "source_hidden": true
    }
   },
   "outputs": [],
   "source": [
    "# このセルを実行してください\n",
    "try:\n",
    "    _ans = df_weather.with_columns(\n",
    "        CumulativePRCP=col.PRCP.cum_sum().over(col.DATE.dt.year()),\n",
    "    )\n",
    "    assert _ans.equals(ans)\n",
    "except (AssertionError, NameError):\n",
    "    print(\"\\x1b[31mNG\\x1b[39m\")\n",
    "    print(\"解答例を確認してください\")\n",
    "else:\n",
    "    print(\"\\x1b[32mOK\\x1b[39m\")"
   ]
  },
  {
   "cell_type": "markdown",
   "id": "839bed80-58b7-4ce0-901f-24175553bc71",
   "metadata": {
    "deletable": true,
    "editable": true,
    "frozen": false
   },
   "source": [
    "---"
   ]
  },
  {
   "cell_type": "markdown",
   "id": "42be42d6-c823-476b-9365-e294007ec4bc",
   "metadata": {
    "deletable": false,
    "editable": false,
    "frozen": true
   },
   "source": [
    "### `問題 4.1.3` グループ合計に対する割合\n",
    "\n",
    "4.1.1の`df_titanic`を次の条件で修正し、変数`ans`に代入してください。\n",
    "\n",
    "* 運賃 (Fare) が、その乗客が属する客室クラス (Pclass) 内での運賃合計の何パーセントを占めるかを計算する\n",
    "  * 列名を`FarePercentageOfClass`とする\n",
    "\n",
    "**解答欄**"
   ]
  },
  {
   "cell_type": "code",
   "execution_count": null,
   "id": "f5f1421b-3f4c-43a7-aecc-968b83057fa0",
   "metadata": {
    "deletable": true,
    "editable": true,
    "frozen": false
   },
   "outputs": [],
   "source": [
    "# ここから解答を作成してください\n"
   ]
  },
  {
   "cell_type": "markdown",
   "id": "2be145c7-e830-46b7-a696-e9c575fe33b2",
   "metadata": {
    "deletable": false,
    "editable": false,
    "frozen": true
   },
   "source": [
    "<details><summary>解答例</summary>\n",
    "<br>\n",
    "\n",
    "```python\n",
    "ans = df_titanic.with_columns(\n",
    "    FarePercentageOfClass=(\n",
    "        col.Fare / col.Fare.sum().over(\"Pclass\") * 100\n",
    "    )\n",
    ")\n",
    "ans[:3]\n",
    "```\n",
    "</details>\n",
    "<br>\n",
    "\n",
    "**確認**"
   ]
  },
  {
   "cell_type": "code",
   "execution_count": null,
   "id": "86434cca-b41f-4c2e-88d5-7a328e2486d4",
   "metadata": {
    "deletable": false,
    "editable": false,
    "frozen": false,
    "jupyter": {
     "source_hidden": true
    }
   },
   "outputs": [],
   "source": [
    "# このセルを実行してください\n",
    "try:\n",
    "    _ans = df_titanic.with_columns(\n",
    "        FarePercentageOfClass=(\n",
    "            col.Fare / col.Fare.sum().over(\"Pclass\") * 100\n",
    "        )\n",
    "    )\n",
    "    assert _ans.equals(ans)\n",
    "except (AssertionError, NameError):\n",
    "    print(\"\\x1b[31mNG\\x1b[39m\")\n",
    "    print(\"解答例を確認してください\")\n",
    "else:\n",
    "    print(\"\\x1b[32mOK\\x1b[39m\")\n",
    "    print(dedent(\"\"\"\\\n",
    "        解説: ウィンドウ関数内では、pl.col(\"Fare\").sum()のような集計も可能です。\n",
    "        .over(\"Pclass\")が適用されることで、このsum()は各Pclassグループの合計値を計算し、その値がグループ内のすべての行にブロードキャストされます。\n",
    "    \"\"\"))"
   ]
  },
  {
   "cell_type": "markdown",
   "id": "9828e6fc-b05e-43cd-bf7f-49db1db28556",
   "metadata": {
    "deletable": true,
    "editable": true,
    "frozen": false
   },
   "source": [
    "---"
   ]
  },
  {
   "cell_type": "markdown",
   "id": "3ea65336-7f0a-4326-8036-aa4325428193",
   "metadata": {
    "deletable": false,
    "editable": false,
    "frozen": true
   },
   "source": [
    "### `問題 4.1.4` グループ内差分\n",
    "\n",
    "4.1.2の`df_weather`を次の条件で修正し、変数`ans`に代入してください。\n",
    "\n",
    "* 年ごとに、各日の最高気温 (TMAX) と前日の最高気温との差を計算する\n",
    "  * 列名を`DiffTMAX`とする\n",
    "\n",
    "**解答欄**"
   ]
  },
  {
   "cell_type": "code",
   "execution_count": null,
   "id": "5eb5dbbf-c0db-454a-bc50-3e6f2a41f3ea",
   "metadata": {
    "deletable": true,
    "editable": true,
    "frozen": false
   },
   "outputs": [],
   "source": [
    "# ここから解答を作成してください\n"
   ]
  },
  {
   "cell_type": "markdown",
   "id": "210b9890-8206-43fe-951f-739e70a64eec",
   "metadata": {
    "deletable": false,
    "editable": false,
    "frozen": true
   },
   "source": [
    "<details><summary>解答例</summary>\n",
    "<br>\n",
    "\n",
    "```python\n",
    "ans = df_weather.with_columns(\n",
    "    DiffTMAX=(col.TMAX - col.TMAX.shift(1)).over(col.DATE.dt.year())\n",
    ")\n",
    "ans[:3]\n",
    "```\n",
    "</details>\n",
    "<br>\n",
    "\n",
    "**確認**"
   ]
  },
  {
   "cell_type": "code",
   "execution_count": null,
   "id": "27a25066-e71c-4e9b-a8fe-88e676dc5462",
   "metadata": {
    "deletable": false,
    "editable": false,
    "frozen": false,
    "jupyter": {
     "source_hidden": true
    }
   },
   "outputs": [],
   "source": [
    "# このセルを実行してください\n",
    "try:\n",
    "    _ans = df_weather.with_columns(\n",
    "        DiffTMAX=(col.TMAX - col.TMAX.shift(1)).over(col.DATE.dt.year())\n",
    "    )\n",
    "    assert _ans.equals(ans)\n",
    "except (AssertionError, NameError):\n",
    "    print(\"\\x1b[31mNG\\x1b[39m\")\n",
    "    print(\"解答例を確認してください\")\n",
    "else:\n",
    "    print(\"\\x1b[32mOK\\x1b[39m\")\n",
    "    print(dedent(\"\"\"\\\n",
    "        解説: .shift()は、ウィンドウ関数ではありませんが、.over()と組み合わせることでグループごとのラグ特徴量を計算できます。\n",
    "    \"\"\"))"
   ]
  },
  {
   "cell_type": "markdown",
   "id": "2ee901f7-ac6a-4dc2-a5a4-cbe3061955d8",
   "metadata": {
    "deletable": true,
    "editable": true,
    "frozen": false
   },
   "source": [
    "---"
   ]
  },
  {
   "cell_type": "markdown",
   "id": "b5d3fbda-7ac8-4311-a619-b90b5c1b90b8",
   "metadata": {
    "deletable": false,
    "editable": false,
    "frozen": true
   },
   "source": [
    "### `問題 4.1.5` グループ内移動平均\n",
    "\n",
    "4.1.2の`df_weather`を次の条件で修正し、変数`ans`に代入してください。\n",
    "\n",
    "* 年ごとに、最高気温 (TMAX) の7日間移動平均を計算する\n",
    "  * 列名を`AvgTMAX/7d`とする\n",
    "\n",
    "**解答欄**"
   ]
  },
  {
   "cell_type": "code",
   "execution_count": null,
   "id": "e718a66a-99ed-4376-ad42-bd1d4a1ead45",
   "metadata": {
    "deletable": true,
    "editable": true,
    "frozen": false
   },
   "outputs": [],
   "source": [
    "# ここから解答を作成してください\n"
   ]
  },
  {
   "cell_type": "markdown",
   "id": "2fa76197-c03b-41d7-a97a-3d2c3e5a6ad3",
   "metadata": {
    "deletable": false,
    "editable": false,
    "frozen": true
   },
   "source": [
    "<details><summary>解答例</summary>\n",
    "<br>\n",
    "\n",
    "```python\n",
    "ans = df_weather.with_columns(\n",
    "    col.TMAX.rolling_mean(window_size=7)\n",
    "    .over(col.DATE.dt.year())\n",
    "    .alias(\"AvgTMAX/7d\")\n",
    ")\n",
    "ans[5:8]\n",
    "```\n",
    "</details>\n",
    "<br>\n",
    "\n",
    "**確認**"
   ]
  },
  {
   "cell_type": "code",
   "execution_count": null,
   "id": "2aa2525c-8f4e-4ad8-a06d-f3957a9252ca",
   "metadata": {
    "deletable": false,
    "editable": false,
    "frozen": false,
    "jupyter": {
     "source_hidden": true
    }
   },
   "outputs": [],
   "source": [
    "# このセルを実行してください\n",
    "try:\n",
    "    _ans = df_weather.with_columns(\n",
    "        col.TMAX.rolling_mean(window_size=7)\n",
    "        .over(col.DATE.dt.year())\n",
    "        .alias(\"AvgTMAX/7d\")\n",
    "    )\n",
    "    assert _ans.equals(ans)\n",
    "except (AssertionError, NameError):\n",
    "    print(\"\\x1b[31mNG\\x1b[39m\")\n",
    "    print(\"解答例を確認してください\")\n",
    "else:\n",
    "    print(\"\\x1b[32mOK\\x1b[39m\")\n",
    "    print(dedent(\"\"\"\\\n",
    "        解説: .rolling_mean()のようなローリング計算を.over()と組み合わせることで、グループが切り替わる境界でウィンドウ計算がリセットされるようになります。\n",
    "        これにより、年をまたいで移動平均が計算されるのを防ぐことができます。\n",
    "    \"\"\"))"
   ]
  },
  {
   "cell_type": "markdown",
   "id": "ae8609c7-b02f-46ca-8a1f-0792c86aa2a7",
   "metadata": {
    "deletable": true,
    "editable": true,
    "frozen": false
   },
   "source": [
    "---"
   ]
  },
  {
   "cell_type": "markdown",
   "id": "257c9c7c-cc99-46e9-be84-9a517808f719",
   "metadata": {
    "deletable": false,
    "editable": false,
    "frozen": true
   },
   "source": [
    "### `問題 4.1.6` 複数列のウィンドウ\n",
    "\n",
    "4.1.1の`df_titanic`を次の条件で修正し、変数`ans`に代入してください。\n",
    "\n",
    "* 客室クラス (Pclass) と性別 (Sex) の両方でグループ化し、その中での年齢 (Age) のランキングを計算する\n",
    "  * 列名を`AgeRankInClassSex`とする\n",
    "\n",
    "**解答欄**"
   ]
  },
  {
   "cell_type": "code",
   "execution_count": null,
   "id": "e0367fba-4c8d-45a8-8d01-cd2689db9326",
   "metadata": {
    "deletable": true,
    "editable": true,
    "frozen": false
   },
   "outputs": [],
   "source": [
    "# ここから解答を作成してください\n"
   ]
  },
  {
   "cell_type": "markdown",
   "id": "64153a67-cf2d-4e25-8910-fe9914d957d4",
   "metadata": {
    "deletable": false,
    "editable": false,
    "frozen": true
   },
   "source": [
    "<details><summary>解答例</summary>\n",
    "<br>\n",
    "\n",
    "```python\n",
    "ans = df_titanic.with_columns(\n",
    "    AgeRankInClassSex=col.Age\n",
    "    .rank()\n",
    "    .over(\"Pclass\", \"Sex\")\n",
    ")\n",
    "ans[:3]\n",
    "```\n",
    "</details>\n",
    "<br>\n",
    "\n",
    "**確認**"
   ]
  },
  {
   "cell_type": "code",
   "execution_count": null,
   "id": "f2ae6cb1-6247-47d9-9d77-63af939146e4",
   "metadata": {
    "deletable": false,
    "editable": false,
    "frozen": false,
    "jupyter": {
     "source_hidden": true
    }
   },
   "outputs": [],
   "source": [
    "# このセルを実行してください\n",
    "try:\n",
    "    _ans = df_titanic.with_columns(\n",
    "        AgeRankInClassSex=col.Age\n",
    "        .rank()\n",
    "        .over(\"Pclass\", \"Sex\")\n",
    "    )\n",
    "    assert _ans.equals(ans)\n",
    "except (AssertionError, NameError):\n",
    "    print(\"\\x1b[31mNG\\x1b[39m\")\n",
    "    print(\"解答例を確認してください\")\n",
    "else:\n",
    "    print(\"\\x1b[32mOK\\x1b[39m\")"
   ]
  },
  {
   "cell_type": "markdown",
   "id": "68d8b640-ca1b-487c-9090-7b5ac5bcb7cc",
   "metadata": {
    "deletable": true,
    "editable": true,
    "frozen": false
   },
   "source": [
    "---"
   ]
  },
  {
   "cell_type": "markdown",
   "id": "bd24eb81-67d6-41c0-a073-408ec8474adb",
   "metadata": {
    "deletable": false,
    "editable": false,
    "frozen": true
   },
   "source": [
    "### `問題 4.1.7` 自身を除くグループ内計算\n",
    "\n",
    "4.1.1の`df_titanic`を次の条件で修正し、変数`ans`に代入してください。\n",
    "\n",
    "* 各乗客について、その乗客を除く同じ客室クラスの他の乗客の平均運賃を計算する\n",
    "  * 列名を`AvgFareOfOthersInClass`とする\n",
    "\n",
    "**解答欄**"
   ]
  },
  {
   "cell_type": "code",
   "execution_count": null,
   "id": "274c492a-b091-47d1-93e9-79307fe8685f",
   "metadata": {
    "deletable": true,
    "editable": true,
    "frozen": false
   },
   "outputs": [],
   "source": [
    "# ここから解答を作成してください\n"
   ]
  },
  {
   "cell_type": "markdown",
   "id": "10dfd8a7-ec6e-4dbd-9cd0-169a8f4f5d0b",
   "metadata": {
    "deletable": false,
    "editable": false,
    "frozen": true
   },
   "source": [
    "<details><summary>解答例</summary>\n",
    "<br>\n",
    "\n",
    "```python\n",
    "ans = df_titanic.with_columns(\n",
    "    AvgFareOfOthersInClass=(\n",
    "        (col.Fare.sum().over(\"Pclass\") - col.Fare)\n",
    "        / (pl.len().over(\"Pclass\") - 1)\n",
    "    )\n",
    ")\n",
    "ans[:3]\n",
    "```\n",
    "</details>\n",
    "<br>\n",
    "\n",
    "**確認**"
   ]
  },
  {
   "cell_type": "code",
   "execution_count": null,
   "id": "5cedf5ae-05fd-4dcc-9781-f7e98165d9ce",
   "metadata": {
    "deletable": false,
    "editable": false,
    "frozen": false,
    "jupyter": {
     "source_hidden": true
    }
   },
   "outputs": [],
   "source": [
    "# このセルを実行してください\n",
    "try:\n",
    "    _ans = df_titanic.with_columns(\n",
    "        AvgFareOfOthersInClass=(\n",
    "            (col.Fare.sum().over(\"Pclass\") - col.Fare)\n",
    "            / (pl.len().over(\"Pclass\") - 1)\n",
    "        )\n",
    "    )\n",
    "    assert _ans.equals(ans)\n",
    "except (AssertionError, NameError):\n",
    "    print(\"\\x1b[31mNG\\x1b[39m\")\n",
    "    print(\"解答例を確認してください\")\n",
    "else:\n",
    "    print(\"\\x1b[32mOK\\x1b[39m\")"
   ]
  },
  {
   "cell_type": "markdown",
   "id": "139de741-4920-47c6-bbbb-62b09cd7bc08",
   "metadata": {
    "deletable": true,
    "editable": true,
    "frozen": false
   },
   "source": [
    "---"
   ]
  },
  {
   "cell_type": "markdown",
   "id": "99db40db-6d62-4ac1-93a0-3bc33272a01c",
   "metadata": {
    "deletable": false,
    "editable": false,
    "frozen": true
   },
   "source": [
    "### `問題 4.1.8` 条件付きウィンドウ\n",
    "\n",
    "4.1.1の`df_titanic`を次の条件で修正し、変数`ans`に代入してください。\n",
    "\n",
    "* 各客室クラス (Pclass) 内で、運賃が50以上の乗客のみを対象に、運賃の累積和を計算する\n",
    "  * 列名を`ConditionalCumulativeFare`とする\n",
    "\n",
    "**解答欄**"
   ]
  },
  {
   "cell_type": "code",
   "execution_count": null,
   "id": "b20a68f4-5df8-41a6-944c-99d3810797d2",
   "metadata": {
    "deletable": true,
    "editable": true,
    "frozen": false
   },
   "outputs": [],
   "source": [
    "# ここから解答を作成してください\n"
   ]
  },
  {
   "cell_type": "markdown",
   "id": "d6cc2b4c-a467-4e3b-a41f-84a44e8770d9",
   "metadata": {
    "deletable": false,
    "editable": false,
    "frozen": true
   },
   "source": [
    "<details><summary>解答例</summary>\n",
    "<br>\n",
    "\n",
    "```python\n",
    "ans = df_titanic.with_columns(\n",
    "    ConditionalCumulativeFare=pl.when(col.Fare >= 50)\n",
    "    .then(col.Fare)\n",
    "    .otherwise(0)\n",
    "    .cum_sum()\n",
    "    .over(\"Pclass\")\n",
    ")\n",
    "ans[:3]\n",
    "```\n",
    "</details>\n",
    "<br>\n",
    "\n",
    "**確認**"
   ]
  },
  {
   "cell_type": "code",
   "execution_count": null,
   "id": "f49983c6-5504-46ed-9c95-78732540b4f5",
   "metadata": {
    "deletable": false,
    "editable": false,
    "frozen": false,
    "jupyter": {
     "source_hidden": true
    }
   },
   "outputs": [],
   "source": [
    "# このセルを実行してください\n",
    "try:\n",
    "    _ans = df_titanic.with_columns(\n",
    "        ConditionalCumulativeFare=pl.when(col.Fare >= 50)\n",
    "        .then(col.Fare)\n",
    "        .otherwise(0)\n",
    "        .cum_sum()\n",
    "        .over(\"Pclass\")\n",
    "    )\n",
    "    assert _ans.equals(ans)\n",
    "except (AssertionError, NameError):\n",
    "    print(\"\\x1b[31mNG\\x1b[39m\")\n",
    "    print(\"解答例を確認してください\")\n",
    "else:\n",
    "    print(\"\\x1b[32mOK\\x1b[39m\")"
   ]
  },
  {
   "cell_type": "markdown",
   "id": "dd0be5c6-7b0e-4706-abbb-f0a83911c080",
   "metadata": {
    "deletable": true,
    "editable": true,
    "frozen": false
   },
   "source": [
    "---"
   ]
  },
  {
   "cell_type": "markdown",
   "id": "bd8ff521-81b6-4661-843d-6b46c8b84f15",
   "metadata": {
    "deletable": false,
    "editable": false,
    "frozen": true
   },
   "source": [
    "## Section 4.2: 遅延APIとクエリ最適化 (Knocks 82-86)\n",
    "\n",
    "遅延APIは、Polarsのパフォーマンスを最大限に引き出すための鍵です。一連の操作をすぐに実行せず、最終的な`collect()`呼び出しまで遅延させることで、クエリオプティマイザが介入し、無駄な処理を削減します。\n"
   ]
  },
  {
   "cell_type": "markdown",
   "id": "b1da1de1-963e-4171-bb4b-1ce4bb217925",
   "metadata": {
    "deletable": false,
    "editable": false,
    "frozen": true
   },
   "source": [
    "### `問題 4.2.1` EagerクエリからLazyクエリに変換\n",
    "\n",
    "Parquetファイルを次の条件で読み込み、変数`df_retail`に代入してください。\n",
    "\n",
    "* `scan_parquet`を使って、LazyFrameとして読み込むこと\n",
    "\n",
    "**解答欄**"
   ]
  },
  {
   "cell_type": "code",
   "execution_count": null,
   "id": "b89dc72f-0b53-4d89-8790-01d5bf0e9d09",
   "metadata": {
    "deletable": true,
    "editable": true,
    "frozen": false
   },
   "outputs": [],
   "source": [
    "_file = \"../data/online_retail.parquet\"\n",
    "# ここから解答を作成してください\n"
   ]
  },
  {
   "cell_type": "markdown",
   "id": "92f573ae-7065-4d00-9932-3cda2d75225b",
   "metadata": {
    "deletable": false,
    "editable": false,
    "frozen": true
   },
   "source": [
    "<details><summary>解答例</summary>\n",
    "<br>\n",
    "\n",
    "```python\n",
    "df_retail = pl.scan_parquet(_file)\n",
    "df_retail\n",
    "```\n",
    "</details>\n",
    "<br>\n",
    "\n",
    "**確認**"
   ]
  },
  {
   "cell_type": "code",
   "execution_count": null,
   "id": "da12947f-f623-49ff-9469-30b79bb6f75f",
   "metadata": {
    "deletable": false,
    "editable": false,
    "frozen": false,
    "jupyter": {
     "source_hidden": true
    }
   },
   "outputs": [],
   "source": [
    "# このセルを実行してください\n",
    "try:\n",
    "    assert df_retail.explain() == \"Parquet SCAN [../data/online_retail.parquet]\\nPROJECT */8 COLUMNS\"\n",
    "except (AssertionError, NameError):\n",
    "    print(\"\\x1b[31mNG\\x1b[39m\")\n",
    "    print(\"解答例を確認してください\")\n",
    "else:\n",
    "    print(\"\\x1b[32mOK\\x1b[39m\")\n",
    "    print(dedent(\"\"\"\\\n",
    "        解説: pl.read_csvの代わりにpl.scan_csvを使うと、LazyFrameが返されます。この時点ではファイルはまだメモリに読み込まれていません。\n",
    "        同様に、既存のDataFrameに.lazy()を呼び出すことでもLazyFrameに変換できます。\n",
    "    \"\"\"))"
   ]
  },
  {
   "cell_type": "markdown",
   "id": "65bb4cd4-3bf3-4f39-9f85-3f4dc942f213",
   "metadata": {
    "deletable": true,
    "editable": true,
    "frozen": false
   },
   "source": [
    "---"
   ]
  },
  {
   "cell_type": "markdown",
   "id": "0cc91fea-2972-47c2-b6b9-232746c2115a",
   "metadata": {
    "deletable": false,
    "editable": false,
    "frozen": true
   },
   "source": [
    "### `問題 4.2.2` クエリ\n",
    "\n",
    "4.2.1の`df_retail`で下記のクエリを作成し、変数`query`に代入してください。\n",
    "\n",
    "* 数量 (Quantity) が10より大きいイギリス (`\"United Kingdom\"`) の取引をフィルタリングする\n",
    "\n",
    "**解答欄**"
   ]
  },
  {
   "cell_type": "code",
   "execution_count": null,
   "id": "06a055f4-deb5-4337-8862-1d7201b2e3bc",
   "metadata": {
    "deletable": true,
    "editable": true,
    "frozen": false
   },
   "outputs": [],
   "source": [
    "# ここから解答を作成してください\n"
   ]
  },
  {
   "cell_type": "markdown",
   "id": "dac14498-014f-4a73-9761-40c0223a01ed",
   "metadata": {
    "deletable": false,
    "editable": false,
    "frozen": true
   },
   "source": [
    "<details><summary>解答例</summary>\n",
    "<br>\n",
    "\n",
    "```python\n",
    "query = df_retail.filter(\n",
    "    (col.Quantity > 10) & (col.Country == \"United Kingdom\")\n",
    ")\n",
    "print(query)\n",
    "```\n",
    "</details>\n",
    "<br>\n",
    "\n",
    "**確認**"
   ]
  },
  {
   "cell_type": "code",
   "execution_count": null,
   "id": "a7864dc4-bb03-413b-9e8d-37c9e8ef3646",
   "metadata": {
    "deletable": false,
    "editable": false,
    "frozen": false,
    "jupyter": {
     "source_hidden": true
    }
   },
   "outputs": [],
   "source": [
    "# このセルを実行してください\n",
    "try:\n",
    "    assert \"FILTER\" in str(query)\n",
    "except (AssertionError, NameError):\n",
    "    print(\"\\x1b[31mNG\\x1b[39m\")\n",
    "    print(\"解答例を確認してください\")\n",
    "else:\n",
    "    print(\"\\x1b[32mOK\\x1b[39m\")\n",
    "    print(dedent(\"\"\"\\\n",
    "        解説: クエリ.explain()を実行計画といいます。実行計画は、Polarsがどのようにクエリを実行するかを示す最適化された論理計画です。\n",
    "        これは、クエリのパフォーマンスをデバッグしたり、最適化が正しく機能しているかを確認したりするのに非常に強力なツールです。\n",
    "    \"\"\"))"
   ]
  },
  {
   "cell_type": "markdown",
   "id": "e9dbc473-ec7b-4fb2-a561-33b005836d5b",
   "metadata": {
    "deletable": true,
    "editable": true,
    "frozen": false
   },
   "source": [
    "---"
   ]
  },
  {
   "cell_type": "markdown",
   "id": "5525a5f6-f382-470f-8d1e-bcd14df53af3",
   "metadata": {
    "deletable": false,
    "editable": false,
    "frozen": true
   },
   "source": [
    "### `問題 4.2.3` 述語プッシュダウン\n",
    "\n",
    "最初に`df_retail.explain()`を表示し、df_retailでは述語プッシュダウンが起きていないことを確認してください。\n",
    "\n",
    "次に、4.2.2の`query`の実行計画を作成し、変数`ans`に代入してください。\n",
    "`ans`を表示し述語プッシュダウンが起きていることを確認してください。\n",
    "\n",
    "**解答欄**"
   ]
  },
  {
   "cell_type": "code",
   "execution_count": null,
   "id": "3215f90b-1bae-4101-aa6d-6c7152f5f41e",
   "metadata": {
    "deletable": true,
    "editable": true,
    "frozen": false
   },
   "outputs": [],
   "source": [
    "# ここから解答を作成してください\n"
   ]
  },
  {
   "cell_type": "markdown",
   "id": "2187009e-9555-41c2-a05d-11332eda58e3",
   "metadata": {
    "deletable": false,
    "editable": false,
    "frozen": true
   },
   "source": [
    "<details><summary>解答例</summary>\n",
    "<br>\n",
    "\n",
    "```python\n",
    "print(df_retail.explain())\n",
    "print()\n",
    "\n",
    "ans = query.explain()\n",
    "print(ans)\n",
    "```\n",
    "</details>\n",
    "<br>\n",
    "\n",
    "**確認**"
   ]
  },
  {
   "cell_type": "code",
   "execution_count": null,
   "id": "5f043274-8fdb-402c-8ddb-c4e1dc685cd1",
   "metadata": {
    "deletable": false,
    "editable": false,
    "frozen": false,
    "jupyter": {
     "source_hidden": true
    }
   },
   "outputs": [],
   "source": [
    "# このセルを実行してください\n",
    "try:\n",
    "    assert \"SELECTION\" in ans\n",
    "except (AssertionError, NameError):\n",
    "    print(\"\\x1b[31mNG\\x1b[39m\")\n",
    "    print(\"解答例を確認してください\")\n",
    "else:\n",
    "    print(\"\\x1b[32mOK\\x1b[39m\")\n",
    "    print(dedent(\"\"\"\\\n",
    "        解説: 実行計画のCsv SCAN部分にSELECTION: ...という表示があれば、述語プッシュダウンが機能していることを示します。\n",
    "        これは、フィルタリング条件がファイル読み込みの段階で適用され、不要な行がメモリにロードされるのを防ぎます。\n",
    "    \"\"\"))"
   ]
  },
  {
   "cell_type": "markdown",
   "id": "4feac581-06bc-4f12-9b77-17a6bb74bfc4",
   "metadata": {
    "deletable": true,
    "editable": true,
    "frozen": false
   },
   "source": [
    "---"
   ]
  },
  {
   "cell_type": "markdown",
   "id": "fbda3e53-2999-4d9d-aaa5-ec28fe724c5b",
   "metadata": {
    "deletable": false,
    "editable": false,
    "frozen": true
   },
   "source": [
    "### `問題 4.2.4` 射影プッシュダウン\n",
    "\n",
    "4.2.2の`query`に次の条件を追加し、変数`selected_query`に代入してください。\n",
    "`selected_query`の実行計画を表示し、射影プッシュダウンが起きていることを確認してください。\n",
    "\n",
    "* QuantityとCountryの2列を選択する\n",
    "\n",
    "**解答欄**"
   ]
  },
  {
   "cell_type": "code",
   "execution_count": null,
   "id": "f7fef4b3-624a-4bf2-b208-a1a5d28b0404",
   "metadata": {
    "deletable": true,
    "editable": true,
    "frozen": false
   },
   "outputs": [],
   "source": [
    "# ここから解答を作成してください\n"
   ]
  },
  {
   "cell_type": "markdown",
   "id": "5babe2e2-65cb-4268-a132-c29021352ec0",
   "metadata": {
    "deletable": false,
    "editable": false,
    "frozen": true
   },
   "source": [
    "<details><summary>解答例</summary>\n",
    "<br>\n",
    "\n",
    "```python\n",
    "selected_query = query.select(\"Quantity\", \"Country\")\n",
    "print(selected_query.explain())\n",
    "```\n",
    "</details>\n",
    "<br>\n",
    "\n",
    "**確認**"
   ]
  },
  {
   "cell_type": "code",
   "execution_count": null,
   "id": "1b45fb31-069d-4f2b-a1d9-3e397b6fff30",
   "metadata": {
    "deletable": false,
    "editable": false,
    "frozen": false,
    "jupyter": {
     "source_hidden": true
    }
   },
   "outputs": [],
   "source": [
    "# このセルを実行してください\n",
    "try:\n",
    "    assert \"PROJECT 2/8 COLUMNS\" in selected_query.explain()\n",
    "except (AssertionError, NameError):\n",
    "    print(\"\\x1b[31mNG\\x1b[39m\")\n",
    "    print(\"解答例を確認してください\")\n",
    "else:\n",
    "    print(\"\\x1b[32mOK\\x1b[39m\")\n",
    "    print(dedent(\"\"\"\\\n",
    "        解説: 実行計画のCsv SCAN部分にPROJECT 2/8 COLUMNSのような表示があれば、射影プッシュダウンが機能している証拠です。\n",
    "        これは、Polarsがファイルから必要な2列だけを読み込むことを意味し、メモリ使用量とI/Oを大幅に削減します。\n",
    "    \"\"\"))"
   ]
  },
  {
   "cell_type": "markdown",
   "id": "b2a46dd5-5121-40fb-8712-5825547aaa6e",
   "metadata": {
    "deletable": true,
    "editable": true,
    "frozen": false
   },
   "source": [
    "---"
   ]
  },
  {
   "cell_type": "markdown",
   "id": "31d01102-88fd-4b7f-8948-121b74730914",
   "metadata": {
    "deletable": false,
    "editable": false,
    "frozen": true
   },
   "source": [
    "### `問題 4.2.5` 遅延クエリの実行\n",
    "\n",
    "4.2.4の遅延クエリ`selected_query`を実行し、変数`ans`に代入してください。\n",
    "\n",
    "**解答欄**"
   ]
  },
  {
   "cell_type": "code",
   "execution_count": null,
   "id": "da186fb4-88fe-4693-85ff-38ed2215693b",
   "metadata": {
    "deletable": true,
    "editable": true,
    "frozen": false
   },
   "outputs": [],
   "source": [
    "# ここから解答を作成してください\n"
   ]
  },
  {
   "cell_type": "markdown",
   "id": "becfee1e-584b-4039-957c-49e30c634cbb",
   "metadata": {
    "deletable": false,
    "editable": false,
    "frozen": true
   },
   "source": [
    "<details><summary>解答例</summary>\n",
    "<br>\n",
    "\n",
    "```python\n",
    "ans = selected_query.collect()\n",
    "ans[:3]\n",
    "```\n",
    "</details>\n",
    "<br>\n",
    "\n",
    "**確認**"
   ]
  },
  {
   "cell_type": "code",
   "execution_count": null,
   "id": "644d5f1f-55d4-4c40-a38f-4f5eef61f238",
   "metadata": {
    "deletable": false,
    "editable": false,
    "frozen": false,
    "jupyter": {
     "source_hidden": true
    }
   },
   "outputs": [],
   "source": [
    "# このセルを実行してください\n",
    "try:\n",
    "    _ans = selected_query.collect()\n",
    "    assert _ans.equals(ans)\n",
    "except (AssertionError, NameError):\n",
    "    print(\"\\x1b[31mNG\\x1b[39m\")\n",
    "    print(\"解答例を確認してください\")\n",
    "else:\n",
    "    print(\"\\x1b[32mOK\\x1b[39m\")\n",
    "    print(dedent(\"\"\"\\\n",
    "        解説: .collect()は、LazyFrameに定義された一連の操作を実行し、結果をDataFrameとしてメモリ上に具体化するメソッドです。\n",
    "    \"\"\"))"
   ]
  },
  {
   "cell_type": "markdown",
   "id": "03de3fd5-92cf-465e-b1a4-56a28294de83",
   "metadata": {
    "deletable": true,
    "editable": true,
    "frozen": false
   },
   "source": [
    "---"
   ]
  },
  {
   "attachments": {},
   "cell_type": "markdown",
   "id": "5f06734c-eff3-45aa-9004-09013eb49264",
   "metadata": {
    "deletable": false,
    "editable": false,
    "frozen": true
   },
   "source": [
    "## Section 4.3: 構造化データ（リスト、Struct、JSON）の操作 (Knocks 87-93)\n",
    "\n",
    "このセクションでは、データフレームの列内に含まれる文字列を使って、リストや構造体を作成します。あるいは、JSONから構造体に変換します。これらのリストや構造体型データを効率的に扱う方法を学びます。これらの操作は、APIレスポンスやログデータを扱う際に非常に役立ちます。\n"
   ]
  },
  {
   "cell_type": "markdown",
   "id": "74051357-4064-4d43-93c5-41df7f9f7872",
   "metadata": {
    "deletable": false,
    "editable": false,
    "frozen": true
   },
   "source": [
    "### `問題 4.3.1` リスト列\n",
    "\n",
    "4.1.1の`df_titanic`を次の条件で修正し、変数`df_word`に代入してください。\n",
    "\n",
    "* 列`Name`を単語に分割してリスト化する\n",
    "  * 列名を`NameWords`とする\n",
    "* 列`NameWords`をリストの要素数を求める\n",
    "  * 列名を`WordCount`とする\n",
    "\n",
    "**解答欄**"
   ]
  },
  {
   "cell_type": "code",
   "execution_count": null,
   "id": "1e60592e-82f2-4d8c-b7dc-8938cde2a695",
   "metadata": {
    "deletable": true,
    "editable": true,
    "frozen": false
   },
   "outputs": [],
   "source": [
    "# ここから解答を作成してください\n"
   ]
  },
  {
   "cell_type": "markdown",
   "id": "1a33e49a-25b1-4baf-a5c9-1818ddbe2a7e",
   "metadata": {
    "deletable": false,
    "editable": false,
    "frozen": true
   },
   "source": [
    "<details><summary>解答例</summary>\n",
    "<br>\n",
    "\n",
    "```python\n",
    "df_word = df_titanic.with_columns(\n",
    "    NameWords=col.Name.str.split(\" \"),\n",
    ").with_columns(\n",
    "    WordCount=col.NameWords.list.len(),\n",
    ")\n",
    "df_word[:3]\n",
    "```\n",
    "</details>\n",
    "<br>\n",
    "\n",
    "**確認**"
   ]
  },
  {
   "cell_type": "code",
   "execution_count": null,
   "id": "bab4ad03-8394-428c-b9d6-61fc402f39d8",
   "metadata": {
    "deletable": false,
    "editable": false,
    "frozen": false,
    "jupyter": {
     "source_hidden": true
    }
   },
   "outputs": [],
   "source": [
    "# このセルを実行してください\n",
    "try:\n",
    "    _ans = df_titanic.with_columns(\n",
    "        NameWords=col.Name.str.split(\" \"),\n",
    "    ).with_columns(\n",
    "        WordCount=col.NameWords.list.len(),\n",
    "    )\n",
    "    assert _ans.equals(df_word)\n",
    "except (AssertionError, NameError):\n",
    "    print(\"\\x1b[31mNG\\x1b[39m\")\n",
    "    print(\"解答例を確認してください\")\n",
    "else:\n",
    "    print(\"\\x1b[32mOK\\x1b[39m\")\n",
    "    print(dedent(\"\"\"\\\n",
    "        解説: .list名前空間には、リスト型の列を操作するためのメソッドが含まれています。\n",
    "        .list.len()はリストの長さを、.list.sum()はリスト内の数値の合計を計算します。\n",
    "    \"\"\"))"
   ]
  },
  {
   "cell_type": "markdown",
   "id": "14b0f90d-9003-4818-b9b8-2d97398d8c9a",
   "metadata": {
    "deletable": true,
    "editable": true,
    "frozen": false
   },
   "source": [
    "---"
   ]
  },
  {
   "cell_type": "markdown",
   "id": "7f7a541e-5e9f-4bca-a095-7fae82b0663c",
   "metadata": {
    "deletable": false,
    "editable": false,
    "frozen": true
   },
   "source": [
    "### `問題 4.3.2` リスト列の展開\n",
    "\n",
    "4.3.1の`df_word`を次の条件で修正し、変数`ans`に代入してください。\n",
    "\n",
    "* 列`NameWords`を展開し、各単語が個別の行になるようにする\n",
    "\n",
    "**解答欄**"
   ]
  },
  {
   "cell_type": "code",
   "execution_count": null,
   "id": "dadcd3b8-bcc7-4580-b142-fb4fc043e286",
   "metadata": {
    "deletable": true,
    "editable": true,
    "frozen": false
   },
   "outputs": [],
   "source": [
    "# ここから解答を作成してください\n"
   ]
  },
  {
   "cell_type": "markdown",
   "id": "67d4e542-d667-4287-aee4-bd44ab437581",
   "metadata": {
    "deletable": false,
    "editable": false,
    "frozen": true
   },
   "source": [
    "<details><summary>解答例</summary>\n",
    "<br>\n",
    "\n",
    "```python\n",
    "ans = df_word.explode(\"NameWords\")\n",
    "ans[:3]\n",
    "```\n",
    "</details>\n",
    "<br>\n",
    "\n",
    "**確認**"
   ]
  },
  {
   "cell_type": "code",
   "execution_count": null,
   "id": "9e93df86-ab67-4a3f-9689-ca16dc1d9985",
   "metadata": {
    "deletable": false,
    "editable": false,
    "frozen": false,
    "jupyter": {
     "source_hidden": true
    }
   },
   "outputs": [],
   "source": [
    "# このセルを実行してください\n",
    "try:\n",
    "    _ans = df_word.explode(\"NameWords\")\n",
    "    assert _ans.equals(ans)\n",
    "except (AssertionError, NameError):\n",
    "    print(\"\\x1b[31mNG\\x1b[39m\")\n",
    "    print(\"解答例を確認してください\")\n",
    "else:\n",
    "    print(\"\\x1b[32mOK\\x1b[39m\")\n",
    "    print(dedent(\"\"\"\\\n",
    "        解説: .explode()は、リスト列の各要素を別々の行に展開し、DataFrameを縦長の形式に変換します。\n",
    "    \"\"\"))"
   ]
  },
  {
   "cell_type": "markdown",
   "id": "aa3ab713-8cb5-4909-8d1f-420e3c8428f6",
   "metadata": {
    "deletable": true,
    "editable": true,
    "frozen": false
   },
   "source": [
    "---"
   ]
  },
  {
   "cell_type": "markdown",
   "id": "c024b5b7-7f33-4c2f-844f-9455fe3ff0f3",
   "metadata": {
    "deletable": false,
    "editable": false,
    "frozen": true
   },
   "source": [
    "### `問題 4.3.3` リスト内要素の変換\n",
    "\n",
    "4.3.1の`df_word`を次の条件で修正し、変数`ans`に代入してください。\n",
    "\n",
    "* 列`NameWords`の各単語をすべて大文字に変換する\n",
    "* 列`NameWords`だけにする\n",
    "\n",
    "**解答欄**"
   ]
  },
  {
   "cell_type": "code",
   "execution_count": null,
   "id": "d6f350de-521e-4417-b531-8aed4b7c776c",
   "metadata": {
    "deletable": true,
    "editable": true,
    "frozen": false
   },
   "outputs": [],
   "source": [
    "# ここから解答を作成してください\n"
   ]
  },
  {
   "cell_type": "markdown",
   "id": "6a900a54-c321-4d5b-8f0f-aeb13d915314",
   "metadata": {
    "deletable": false,
    "editable": false,
    "frozen": true
   },
   "source": [
    "<details><summary>解答例</summary>\n",
    "<br>\n",
    "\n",
    "```python\n",
    "ans = df_word.select(\n",
    "    col.NameWords.list.eval(pl.element().str.to_uppercase())\n",
    ")\n",
    "ans[:3]\n",
    "```\n",
    "</details>\n",
    "<br>\n",
    "\n",
    "**確認**"
   ]
  },
  {
   "cell_type": "code",
   "execution_count": null,
   "id": "a88dee97-adf4-4685-becc-6642e0e16f55",
   "metadata": {
    "deletable": false,
    "editable": false,
    "frozen": false,
    "jupyter": {
     "source_hidden": true
    }
   },
   "outputs": [],
   "source": [
    "# このセルを実行してください\n",
    "try:\n",
    "    _ans = df_word.select(\n",
    "        col.NameWords.list.eval(pl.element().str.to_uppercase())\n",
    "    )\n",
    "    assert _ans.equals(ans)\n",
    "except (AssertionError, NameError):\n",
    "    print(\"\\x1b[31mNG\\x1b[39m\")\n",
    "    print(\"解答例を確認してください\")\n",
    "else:\n",
    "    print(\"\\x1b[32mOK\\x1b[39m\")\n",
    "    print(dedent(\"\"\"\\\n",
    "        解説: .list.eval()は、リスト内の各要素に対して式を適用するための強力なメソッドです。\n",
    "        pl.element()はリスト内の個々の要素を参照します。\n",
    "    \"\"\"))"
   ]
  },
  {
   "cell_type": "markdown",
   "id": "1de53068-ed0e-4781-9575-6c1fe58ada21",
   "metadata": {
    "deletable": true,
    "editable": true,
    "frozen": false
   },
   "source": [
    "---"
   ]
  },
  {
   "cell_type": "markdown",
   "id": "b81ba643-ace6-4f71-a609-c1ef3e1f267e",
   "metadata": {
    "deletable": false,
    "editable": false,
    "frozen": true
   },
   "source": [
    "### `問題 4.3.4` 構造体列\n",
    "\n",
    "4.1.1の`df_titanic`を次の条件で修正し、変数`df_titanic_struct`に代入してください。\n",
    "\n",
    "* 列`Age`と列`Fare`からなる構造体列を作成する\n",
    "  * 列名を`PassengerInfo`とする\n",
    "* 列`PassengerInfo`だけにする\n",
    "\n",
    "**解答欄**"
   ]
  },
  {
   "cell_type": "code",
   "execution_count": null,
   "id": "8d5ca164-090a-4cfa-9f32-86e16869e5f7",
   "metadata": {
    "deletable": true,
    "editable": true,
    "frozen": false
   },
   "outputs": [],
   "source": [
    "# ここから解答を作成してください\n"
   ]
  },
  {
   "cell_type": "markdown",
   "id": "2103cb43-b875-4e39-a0fe-86f7dcecc1af",
   "metadata": {
    "deletable": false,
    "editable": false,
    "frozen": true
   },
   "source": [
    "<details><summary>解答例</summary>\n",
    "<br>\n",
    "\n",
    "```python\n",
    "df_titanic_struct = df_titanic.select(\n",
    "    PassengerInfo=pl.struct(col.Age, col.Fare),\n",
    ")\n",
    "df_titanic_struct[:3]\n",
    "```\n",
    "</details>\n",
    "<br>\n",
    "\n",
    "**確認**"
   ]
  },
  {
   "cell_type": "code",
   "execution_count": null,
   "id": "d674b3f6-abec-4f45-9d8e-a0ab613d7b83",
   "metadata": {
    "deletable": false,
    "editable": false,
    "frozen": false,
    "jupyter": {
     "source_hidden": true
    }
   },
   "outputs": [],
   "source": [
    "# このセルを実行してください\n",
    "try:\n",
    "    _ans = df_titanic.select(\n",
    "        PassengerInfo=pl.struct(col.Age, col.Fare),\n",
    "    )\n",
    "    assert _ans.equals(df_titanic_struct)\n",
    "except (AssertionError, NameError):\n",
    "    print(\"\\x1b[31mNG\\x1b[39m\")\n",
    "    print(\"解答例を確認してください\")\n",
    "else:\n",
    "    print(\"\\x1b[32mOK\\x1b[39m\")\n",
    "    print(dedent(\"\"\"\\\n",
    "        解説: pl.struct()は、複数の列をまとめて一つの構造体列を作成します。\n",
    "        これは、関連するデータをグループ化して扱うのに便利です。\n",
    "    \"\"\"))"
   ]
  },
  {
   "cell_type": "markdown",
   "id": "f8d8d4af-322a-4608-be2b-7f4aad8f4f23",
   "metadata": {
    "deletable": true,
    "editable": true,
    "frozen": false
   },
   "source": [
    "---"
   ]
  },
  {
   "cell_type": "markdown",
   "id": "bd292b40-11fc-439e-9016-2f254673b59c",
   "metadata": {
    "deletable": false,
    "editable": false,
    "frozen": true
   },
   "source": [
    "### `問題 4.3.5` 構造体列の展開\n",
    "\n",
    "4.3.4の`df_titanic_struct`を次の条件で修正し、変数`ans`に代入してください。\n",
    "\n",
    "* 列`PassengerInfo`を元の列`Age`と列`Fare`に展開する\n",
    "\n",
    "**解答欄**"
   ]
  },
  {
   "cell_type": "code",
   "execution_count": null,
   "id": "be255869-a2ab-4b8f-b7f4-6cee29c130d0",
   "metadata": {
    "deletable": true,
    "editable": true,
    "frozen": false
   },
   "outputs": [],
   "source": [
    "# ここから解答を作成してください\n"
   ]
  },
  {
   "cell_type": "markdown",
   "id": "d5a810cc-6c1e-4def-a9b0-2f8e30b6aa6f",
   "metadata": {
    "deletable": false,
    "editable": false,
    "frozen": true
   },
   "source": [
    "<details><summary>解答例</summary>\n",
    "<br>\n",
    "\n",
    "```python\n",
    "ans = df_titanic_struct.unnest(\"PassengerInfo\")\n",
    "ans[:3]\n",
    "```\n",
    "</details>\n",
    "<br>\n",
    "\n",
    "**確認**"
   ]
  },
  {
   "cell_type": "code",
   "execution_count": null,
   "id": "85163010-81d6-436f-8aa1-d017c7922d9d",
   "metadata": {
    "deletable": false,
    "editable": false,
    "frozen": false,
    "jupyter": {
     "source_hidden": true
    }
   },
   "outputs": [],
   "source": [
    "# このセルを実行してください\n",
    "try:\n",
    "    _ans = df_titanic_struct.unnest(\"PassengerInfo\")\n",
    "    assert _ans.equals(ans)\n",
    "except (AssertionError, NameError):\n",
    "    print(\"\\x1b[31mNG\\x1b[39m\")\n",
    "    print(\"解答例を確認してください\")\n",
    "else:\n",
    "    print(\"\\x1b[32mOK\\x1b[39m\")\n",
    "    print(dedent(\"\"\"\\\n",
    "        解説: .unnest()は、構造体列の各フィールドをトップレベルの列として展開します。\n",
    "        これは、ネストされたデータをフラットな形式に戻す際に使用します。\n",
    "    \"\"\"))"
   ]
  },
  {
   "cell_type": "markdown",
   "id": "7a8531ea-3c84-4200-854b-e933f541667c",
   "metadata": {
    "deletable": true,
    "editable": true,
    "frozen": false
   },
   "source": [
    "---"
   ]
  },
  {
   "cell_type": "markdown",
   "id": "fe13df67-e86d-43b3-aa87-c72a73287edd",
   "metadata": {
    "deletable": false,
    "editable": false,
    "frozen": true
   },
   "source": [
    "### `問題 4.3.6` JSONから構造体\n",
    "\n",
    "`df_json`を次の条件で修正し、変数`df_struct`に代入してください。\n",
    "\n",
    "* JSON文字列の列`ItemJson`を、構造体に変換する\n",
    "  * 列名を`ItemStruct`とする\n",
    "  * 構造体の型として、変数`dtype`の値を用いる\n",
    "\n",
    "**解答欄**"
   ]
  },
  {
   "cell_type": "code",
   "execution_count": null,
   "id": "d16ccb19-7221-47d9-862a-885c0f056409",
   "metadata": {
    "deletable": true,
    "editable": true,
    "frozen": false
   },
   "outputs": [],
   "source": [
    "df_json = pl.DataFrame(\n",
    "    {\n",
    "        \"OrderID\": [101, 102, 103],\n",
    "        \"ItemJson\": [\n",
    "            '{\"name\": \"Laptop\", \"price\": 1200}',\n",
    "            '{\"name\": \"Mouse\", \"price\": 25}',\n",
    "            '{\"name\": \"Keyboard\", \"price\": 75}',\n",
    "        ],\n",
    "    }\n",
    ")\n",
    "dtype = pl.Struct([\n",
    "    pl.Field(\"name\", pl.Utf8),\n",
    "    pl.Field(\"price\", pl.Int64),\n",
    "])\n",
    "\n",
    "# ここから解答を作成してください\n"
   ]
  },
  {
   "cell_type": "markdown",
   "id": "a2e3beb6-10aa-42d5-ab51-7e8f4a812a8e",
   "metadata": {
    "deletable": false,
    "editable": false,
    "frozen": true
   },
   "source": [
    "<details><summary>解答例</summary>\n",
    "<br>\n",
    "\n",
    "```python\n",
    "df_struct = df_json.with_columns(\n",
    "    ItemStruct=col.ItemJson.str.json_decode(dtype),\n",
    ")\n",
    "df_struct\n",
    "```\n",
    "</details>\n",
    "<br>\n",
    "\n",
    "**確認**"
   ]
  },
  {
   "cell_type": "code",
   "execution_count": null,
   "id": "4ee685a8-0245-4648-90a7-951ca2121070",
   "metadata": {
    "deletable": false,
    "editable": false,
    "frozen": false,
    "jupyter": {
     "source_hidden": true
    }
   },
   "outputs": [],
   "source": [
    "# このセルを実行してください\n",
    "try:\n",
    "    _ans = df_json.with_columns(\n",
    "        ItemStruct=col.ItemJson.str.json_decode(dtype),\n",
    "    )\n",
    "    assert _ans.equals(df_struct)\n",
    "except (AssertionError, NameError):\n",
    "    print(\"\\x1b[31mNG\\x1b[39m\")\n",
    "    print(\"解答例を確認してください\")\n",
    "else:\n",
    "    print(\"\\x1b[32mOK\\x1b[39m\")\n",
    "    print(dedent(\"\"\"\\\n",
    "        解説: polars.Expr.str.json_decodeは、文字列型の列を効率的にパースし、pl.Struct 型の列に変換します。\n",
    "        Structは、1つの列の中に複数のフィールド（この例では name と price）を持つことができる複合的なデータ型です。\n",
    "        ans.schemaでスキーマを見ると、ItemStruct列がStruct型になっていることが確認できます。\n",
    "    \"\"\"))"
   ]
  },
  {
   "cell_type": "markdown",
   "id": "35f3cdea-db67-4692-9bd5-3f615ac58b2a",
   "metadata": {
    "deletable": true,
    "editable": true,
    "frozen": false
   },
   "source": [
    "---"
   ]
  },
  {
   "cell_type": "markdown",
   "id": "76817a89-4a58-44bc-9ad3-d43a2a0d4b4a",
   "metadata": {
    "deletable": false,
    "editable": false,
    "frozen": true
   },
   "source": [
    "### `問題 4.3.7` フィールド抽出\n",
    "\n",
    "4.3.6の`df_struct`を次の条件で修正し、変数`ans`に代入してください。\n",
    "\n",
    "* 列`ItemStruct`からnameを独立した列にする\n",
    "\n",
    "**解答欄**"
   ]
  },
  {
   "cell_type": "code",
   "execution_count": null,
   "id": "4a7cdf0c-f56c-4a01-91df-09c383836564",
   "metadata": {
    "deletable": true,
    "editable": true,
    "frozen": false
   },
   "outputs": [],
   "source": [
    "# ここから解答を作成してください\n"
   ]
  },
  {
   "cell_type": "markdown",
   "id": "234bc2fe-1126-4151-b83e-caaf68027209",
   "metadata": {
    "deletable": false,
    "editable": false,
    "frozen": true
   },
   "source": [
    "<details><summary>解答例</summary>\n",
    "<br>\n",
    "\n",
    "```python\n",
    "ans = df_struct.with_columns(\n",
    "    col.ItemStruct.struct.field(\"name\"),\n",
    ")\n",
    "ans[:3]\n",
    "```\n",
    "</details>\n",
    "<br>\n",
    "\n",
    "**確認**"
   ]
  },
  {
   "cell_type": "code",
   "execution_count": null,
   "id": "5515bdd7-5431-4ffe-bb32-43c768dc86c5",
   "metadata": {
    "deletable": false,
    "editable": false,
    "frozen": false,
    "jupyter": {
     "source_hidden": true
    }
   },
   "outputs": [],
   "source": [
    "# このセルを実行してください\n",
    "try:\n",
    "    _ans = df_struct.with_columns(\n",
    "        col.ItemStruct.struct.field(\"name\"),\n",
    "    )\n",
    "    assert _ans.equals(ans)\n",
    "except (AssertionError, NameError):\n",
    "    print(\"\\x1b[31mNG\\x1b[39m\")\n",
    "    print(\"解答例を確認してください\")\n",
    "else:\n",
    "    print(\"\\x1b[32mOK\\x1b[39m\")\n",
    "    print(dedent(\"\"\"\\\n",
    "        解説: .struct.field(\"フィールド名\")は、Struct型の中から指定したフィールドを抽出するための式（Expression）を返します。\n",
    "        この方法は、.unnest()で一度すべてのフィールドを展開してから不要な列を削除するよりも、必要なデータだけを直接取り出すため効率的です。\n",
    "    \"\"\"))"
   ]
  },
  {
   "cell_type": "markdown",
   "id": "967dcc87-7b39-4000-9d63-d1e16182f184",
   "metadata": {
    "deletable": true,
    "editable": true,
    "frozen": false
   },
   "source": [
    "---"
   ]
  },
  {
   "cell_type": "markdown",
   "id": "a1b2c3d4-e5f6-7890-1234-abcdef123456",
   "metadata": {
    "deletable": false,
    "editable": false,
    "frozen": true
   },
   "source": [
    "## Section 4.4: 任意のPython関数の適用 (map_elements/map_rows/map_batches/map_groups) (Knocks 94-97)\n",
    "\n",
    "Polarsは非常に豊富な式APIを提供していますが、時にはPolarsの組み込み関数だけでは表現できないことがあります。その場合は下記のメソッドが使えます。\n",
    "\n",
    "* `map_rows()`: DataFrameの行を単位として変換\n",
    "* `map_batches()`: LazyFrameやExprで、データのかたまり（バッチ）を単位として変換\n",
    "* `map_elements()`: SeriesやExprで、要素を単位として変換（⚠️ 低速なため注意）\n",
    "* `map_groups()`: GroupByオブジェクトのグループを単位として変換\n",
    "\n",
    "参考：https://qiita.com/SaitoTsutomu/items/1507f038f17679e86af8"
   ]
  },
  {
   "cell_type": "markdown",
   "id": "b1c2d3e4-f5g6-7890-1234-bcdef1234567",
   "metadata": {
    "deletable": false,
    "editable": false,
    "frozen": true
   },
   "source": [
    "### `問題 4.4.1` 要素ごとに関数を適用 (map_elements)\n",
    "\n",
    "`_df`に下記の条件で列`Desc`を追加し、変数`ans`に代入してください。\n",
    "\n",
    "* 列`Val`の各要素に対して、`f\"value: {要素}\"`とする\n",
    "\n",
    "**解答欄**"
   ]
  },
  {
   "cell_type": "code",
   "execution_count": null,
   "id": "c1d2e3f4-g5h6-7890-1234-cdef12345678",
   "metadata": {
    "deletable": true,
    "editable": true,
    "frozen": false
   },
   "outputs": [],
   "source": [
    "_df = pl.DataFrame({\"Val\": [10, 21, 35]})\n",
    "\n",
    "# ここから解答を作成してください\n"
   ]
  },
  {
   "cell_type": "markdown",
   "id": "d1e2f3g4-h5i6-7890-1234-def123456789",
   "metadata": {
    "deletable": false,
    "editable": false,
    "frozen": true
   },
   "source": [
    "<details><summary>解答例</summary>\n",
    "<br>\n",
    "\n",
    "```python\n",
    "ans = _df.with_columns(\n",
    "    Desc=col.Val.map_elements(lambda x: f\"value: {x}\", return_dtype=pl.Utf8),\n",
    ")\n",
    "ans\n",
    "```\n",
    "</details>\n",
    "<br>\n",
    "\n",
    "**確認**"
   ]
  },
  {
   "cell_type": "code",
   "execution_count": null,
   "id": "e1f2g3h4-i5j6-7890-1234-ef1234567890",
   "metadata": {
    "deletable": false,
    "editable": false,
    "frozen": false,
    "jupyter": {
     "source_hidden": true
    }
   },
   "outputs": [],
   "source": [
    "# このセルを実行してください\n",
    "try:\n",
    "    _ans = _df.with_columns(\n",
    "        Desc=col.Val.map_elements(lambda x: f\"value: {x}\", return_dtype=pl.Utf8),\n",
    "    )\n",
    "    assert _ans.equals(ans)\n",
    "except (AssertionError, NameError):\n",
    "    print(\"\\x1b[31mNG\\x1b[39m\")\n",
    "    print(\"解答例を確認してください\")\n",
    "else:\n",
    "    print(\"\\x1b[32mOK\\x1b[39m\")\n",
    "    print(dedent(\"\"\"\\\n",
    "        解説: .map_elements()は、Seriesの各要素に対してPython関数を適用します。\n",
    "        Pythonのオーバーヘッドが要素ごとに発生するため、大規模なデータに対しては非常に遅くなる可能性があります。\n",
    "    \"\"\"))"
   ]
  },
  {
   "cell_type": "markdown",
   "id": "f1g2h3i4-j5k6-7890-1234-f12345678901",
   "metadata": {
    "deletable": true,
    "editable": true,
    "frozen": false
   },
   "source": [
    "---"
   ]
  },
  {
   "cell_type": "markdown",
   "id": "g1h2i3j4-k5l6-7890-1234-123456789012",
   "metadata": {
    "deletable": false,
    "editable": false,
    "frozen": true
   },
   "source": [
    "### `問題 4.4.2` 行ごとに関数を適用 (map_rows)\n",
    "\n",
    "`_df`を次の条件で修正し、変数`ans`に代入してください。\n",
    "\n",
    "* 各行に関数`value`を適用した列だけにする\n",
    " * 列名をValとする\n",
    "\n",
    "**解答欄**"
   ]
  },
  {
   "cell_type": "code",
   "execution_count": null,
   "id": "h1i2j3k4-l5m6-7890-1234-234567890123",
   "metadata": {
    "deletable": true,
    "editable": true,
    "frozen": false
   },
   "outputs": [],
   "source": [
    "_df = pl.DataFrame({\"A\": [1, 2, 3], \"B\": [4, 5, 6]})\n",
    "\n",
    "def value(row: tuple[int, int]) -> int:\n",
    "    return row[0] + 2 * row[1]\n",
    "\n",
    "# ここから解答を作成してください\n"
   ]
  },
  {
   "cell_type": "markdown",
   "id": "i1j2k3l4-m5n6-7890-1234-345678901234",
   "metadata": {
    "deletable": false,
    "editable": false,
    "frozen": true
   },
   "source": [
    "<details><summary>解答例</summary>\n",
    "<br>\n",
    "\n",
    "```python\n",
    "ans = _df.map_rows(value).rename({\"map\": \"Val\"})\n",
    "ans\n",
    "```\n",
    "</details>\n",
    "<br>\n",
    "\n",
    "**確認**"
   ]
  },
  {
   "cell_type": "code",
   "execution_count": null,
   "id": "j1k2l3m4-n5o6-7890-1234-456789012345",
   "metadata": {
    "deletable": false,
    "editable": false,
    "frozen": false,
    "jupyter": {
     "source_hidden": true
    }
   },
   "outputs": [],
   "source": [
    "# このセルを実行してください\n",
    "try:\n",
    "    _ans = _df.map_rows(value).rename({\"map\": \"Val\"})\n",
    "    assert _ans.equals(ans)\n",
    "except (AssertionError, NameError):\n",
    "    print(\"\\x1b[31mNG\\x1b[39m\")\n",
    "    print(\"解答例を確認してください\")\n",
    "else:\n",
    "    print(\"\\x1b[32mOK\\x1b[39m\")\n",
    "    print(dedent(\"\"\"\\\n",
    "        解説: .map_rows()は、DataFrameの各行をタプルとして受け取る関数を適用します。\n",
    "        関数valueを使わずに_df.select(Val=col.A + 2 * col.B)と書く方が効率的です。\n",
    "    \"\"\"))"
   ]
  },
  {
   "cell_type": "markdown",
   "id": "k1l2m3n4-o5p6-7890-1234-567890123456",
   "metadata": {
    "deletable": true,
    "editable": true,
    "frozen": false
   },
   "source": [
    "---"
   ]
  },
  {
   "cell_type": "markdown",
   "id": "l1m2n3o4-p5q6-7890-1234-678901234567",
   "metadata": {
    "deletable": false,
    "editable": false,
    "frozen": true
   },
   "source": [
    "### `問題 4.4.3` バッチごとに関数を適用 (map_batches)\n",
    "\n",
    "LazyFrame`_lf`に関数double_dfを適用し、列`Score`のみのDataFrameにして、変数`ans`に代入してください。\n",
    "\n",
    "**解答欄**"
   ]
  },
  {
   "cell_type": "code",
   "execution_count": null,
   "id": "m1n2o3p4-q5r6-7890-1234-789012345678",
   "metadata": {
    "deletable": true,
    "editable": true,
    "frozen": false
   },
   "outputs": [],
   "source": [
    "import numpy as np\n",
    "_lf = pl.LazyFrame({\"Name\": [\"Alice\", \"Bob\", \"Carol\"], \"Score\": [40, 32, 48]})\n",
    "\n",
    "def double_df(df: pl.DataFrame)->pl.DataFrame:\n",
    "    return 2 * df\n",
    "\n",
    "# ここから解答を作成してください\n"
   ]
  },
  {
   "cell_type": "markdown",
   "id": "n1o2p3q4-r5s6-7890-1234-890123456789",
   "metadata": {
    "deletable": false,
    "editable": false,
    "frozen": true
   },
   "source": [
    "<details><summary>解答例</summary>\n",
    "<br>\n",
    "\n",
    "```python\n",
    "ans = _lf.map_batches(double_df).select(col.Score).collect()\n",
    "ans\n",
    "```\n",
    "</details>\n",
    "<br>\n",
    "\n",
    "**確認**"
   ]
  },
  {
   "cell_type": "code",
   "execution_count": null,
   "id": "o1p2q3r4-s5t6-7890-1234-901234567890",
   "metadata": {
    "deletable": false,
    "editable": false,
    "frozen": false,
    "jupyter": {
     "source_hidden": true
    }
   },
   "outputs": [],
   "source": [
    "# このセルを実行してください\n",
    "try:\n",
    "    _ans = _lf.map_batches(double_df).select(col.Score).collect()\n",
    "    assert _ans.equals(ans)\n",
    "except (AssertionError, NameError):\n",
    "    print(\"\\x1b[31mNG\\x1b[39m\")\n",
    "    print(\"解答例を確認してください\")\n",
    "else:\n",
    "    print(\"\\x1b[32mOK\\x1b[39m\")\n",
    "    print(dedent(\"\"\"\\\n",
    "        解説: LazyFrame.map_batches()は、バッチに分割されたDataFrameを関数に適用します。\n",
    "    \"\"\"))"
   ]
  },
  {
   "cell_type": "markdown",
   "id": "p1q2r3s4-t5u6-7890-1234-012345678901",
   "metadata": {
    "deletable": true,
    "editable": true,
    "frozen": false
   },
   "source": [
    "---"
   ]
  },
  {
   "cell_type": "markdown",
   "id": "q1r2s3t4-u5v6-7890-1234-123456789012",
   "metadata": {
    "deletable": false,
    "editable": false,
    "frozen": true
   },
   "source": [
    "### `問題 4.4.4` グループごとに関数を適用 (map_groups)\n",
    "\n",
    "`_df`を列`Group`でグループ化し、グループごとに関数max_rowを適用し、変数ansに代入してください。\n",
    "\n",
    "**解答欄**"
   ]
  },
  {
   "cell_type": "code",
   "execution_count": null,
   "id": "r1s2t3u4-v5w6-7890-1234-234567890123",
   "metadata": {
    "deletable": true,
    "editable": true,
    "frozen": false
   },
   "outputs": [],
   "source": [
    "_df = pl.DataFrame({\n",
    "    \"Group\": [\"a\", \"a\", \"b\", \"b\", \"a\"],\n",
    "    \"Val\": [1, 3, 2, 5, 4],\n",
    "})\n",
    "def max_row(df: pl.DataFrame)->pl.DataFrame:\n",
    "    return df.max()\n",
    "\n",
    "# ここから解答を作成してください\n"
   ]
  },
  {
   "cell_type": "markdown",
   "id": "s1t2u3v4-w5x6-7890-1234-345678901234",
   "metadata": {
    "deletable": false,
    "editable": false,
    "frozen": true
   },
   "source": [
    "<details><summary>解答例</summary>\n",
    "<br>\n",
    "\n",
    "```python\n",
    "ans = _df.group_by(\"Group\", maintain_order=True).map_groups(max_row)\n",
    "ans\n",
    "```\n",
    "</details>\n",
    "<br>\n",
    "\n",
    "**確認**"
   ]
  },
  {
   "cell_type": "code",
   "execution_count": null,
   "id": "t1u2v3w4-x5y6-7890-1234-456789012345",
   "metadata": {
    "deletable": false,
    "editable": false,
    "frozen": false,
    "jupyter": {
     "source_hidden": true
    }
   },
   "outputs": [],
   "source": [
    "# このセルを実行してください\n",
    "try:\n",
    "    _ans = _df.group_by(\"Group\", maintain_order=True).map_groups(max_row)\n",
    "    assert _ans.equals(ans)\n",
    "except (AssertionError, NameError):\n",
    "    print(\"\\x1b[31mNG\\x1b[39m\")\n",
    "    print(\"解答例を確認してください\")\n",
    "else:\n",
    "    print(\"\\x1b[32mOK\\x1b[39m\")\n",
    "    print(dedent(\"\"\"\\\n",
    "        解説: .map_groups()は、group_byの後に使い、各グループを一つのDataFrameとして受け取る関数を適用します。\n",
    "    \"\"\"))"
   ]
  },
  {
   "cell_type": "markdown",
   "id": "u1v2w3x4-y5z6-7890-1234-567890123456",
   "metadata": {
    "deletable": true,
    "editable": true,
    "frozen": false
   },
   "source": [
    "---"
   ]
  },
  {
   "cell_type": "markdown",
   "id": "73b6bc66-7487-4f7e-9a3f-33aa69e85996",
   "metadata": {
    "deletable": false,
    "editable": false,
    "frozen": true
   },
   "source": [
    "# Part 5: Polarsエコシステムと総合演習 (Knocks 98-109)\n",
    "\n",
    "最終パートでは、Polarsを他のデータサイエンスツールと連携させる方法を学び、これまでに習得したスキルを組み合わせる総合的な課題に挑戦します。\n",
    "\n",
    "## Section 5.1: PandasとArrowとの相互運用性 (Knocks 98-101)\n"
   ]
  },
  {
   "cell_type": "markdown",
   "id": "4f5d069a-077a-4ad4-97c2-773ad6223822",
   "metadata": {
    "deletable": false,
    "editable": false,
    "frozen": true
   },
   "source": [
    "### `問題 5.1.1` Pandasに変換\n",
    "\n",
    "4.1.1の`df_titanic`をPandasのDataFrameに変換し、変数`df_pandas`に代入してください。\n",
    "\n",
    "**解答欄**"
   ]
  },
  {
   "cell_type": "code",
   "execution_count": null,
   "id": "4dfbdfbd-ca2a-41a3-baba-be917583ed8c",
   "metadata": {
    "deletable": true,
    "editable": true,
    "frozen": false
   },
   "outputs": [],
   "source": [
    "# ここから解答を作成してください\n"
   ]
  },
  {
   "cell_type": "markdown",
   "id": "4f838881-184a-4b37-98d5-87b66e6d5a95",
   "metadata": {
    "deletable": false,
    "editable": false,
    "frozen": true
   },
   "source": [
    "<details><summary>解答例</summary>\n",
    "<br>\n",
    "\n",
    "```python\n",
    "df_pandas = df_titanic.to_pandas()\n",
    "df_pandas[:3]\n",
    "```\n",
    "</details>\n",
    "<br>\n",
    "\n",
    "**確認**"
   ]
  },
  {
   "cell_type": "code",
   "execution_count": null,
   "id": "f4062cd5-9413-43df-8c9f-fc50df3b885c",
   "metadata": {
    "deletable": false,
    "editable": false,
    "frozen": false,
    "jupyter": {
     "source_hidden": true
    }
   },
   "outputs": [],
   "source": [
    "# このセルを実行してください\n",
    "try:\n",
    "    _ans = df_titanic.to_pandas()\n",
    "    assert _ans.equals(df_pandas)\n",
    "except (AssertionError, NameError):\n",
    "    print(\"\\x1b[31mNG\\x1b[39m\")\n",
    "    print(\"解答例を確認してください\")\n",
    "else:\n",
    "    print(\"\\x1b[32mOK\\x1b[39m\")\n",
    "    print(dedent(\"\"\"\\\n",
    "        解説: .to_pandas()メソッドは、PolarsのDataFrameをPandasのDataFrameに変換します。この際、データのコピーが発生します。\n",
    "        Polarsのnull値は、数値列ではNaNに、オブジェクト列ではNoneに変換される点に注意が必要です。\n",
    "    \"\"\"))"
   ]
  },
  {
   "cell_type": "markdown",
   "id": "8f18f8f4-d3d3-434f-8ee1-e805142d67fe",
   "metadata": {
    "deletable": true,
    "editable": true,
    "frozen": false
   },
   "source": [
    "---"
   ]
  },
  {
   "cell_type": "markdown",
   "id": "b96aafe1-ea28-4b58-83ac-fb1461503df3",
   "metadata": {
    "deletable": false,
    "editable": false,
    "frozen": true
   },
   "source": [
    "### `問題 5.1.2` PandasからPolars\n",
    "\n",
    "5.1.1の`df_pandas`をPolarsのDataFrameに変換し、変数`ans`に代入してください。\n",
    "\n",
    "**解答欄**"
   ]
  },
  {
   "cell_type": "code",
   "execution_count": null,
   "id": "90b50c6e-7b27-479b-853e-1b59cf87cc96",
   "metadata": {
    "deletable": true,
    "editable": true,
    "frozen": false
   },
   "outputs": [],
   "source": [
    "# ここから解答を作成してください\n"
   ]
  },
  {
   "cell_type": "markdown",
   "id": "b61a1091-9504-4439-b8c0-f017a4b679b2",
   "metadata": {
    "deletable": false,
    "editable": false,
    "frozen": true
   },
   "source": [
    "<details><summary>解答例</summary>\n",
    "<br>\n",
    "\n",
    "```python\n",
    "ans = pl.from_pandas(df_pandas)\n",
    "ans[:3]\n",
    "```\n",
    "</details>\n",
    "<br>\n",
    "\n",
    "**確認**"
   ]
  },
  {
   "cell_type": "code",
   "execution_count": null,
   "id": "22016fe4-fa30-47d4-a401-af634309841c",
   "metadata": {
    "deletable": false,
    "editable": false,
    "frozen": false,
    "jupyter": {
     "source_hidden": true
    }
   },
   "outputs": [],
   "source": [
    "# このセルを実行してください\n",
    "try:\n",
    "    _ans = pl.from_pandas(df_pandas)\n",
    "    assert _ans.equals(ans)\n",
    "except (AssertionError, NameError):\n",
    "    print(\"\\x1b[31mNG\\x1b[39m\")\n",
    "    print(\"解答例を確認してください\")\n",
    "else:\n",
    "    print(\"\\x1b[32mOK\\x1b[39m\")\n",
    "    print(dedent(\"\"\"\\\n",
    "        解説: pl.from_pandas()は、PandasのDataFrameからPolarsのDataFrameを作成します。\n",
    "        Pandasのインデックスはデフォルトでは無視されます。\n",
    "        インデックスを列として保持したい場合は、事前にpandas_df.reset_index()を実行するか、include_index=True引数を使用します。\n",
    "    \"\"\"))"
   ]
  },
  {
   "cell_type": "markdown",
   "id": "621f4bc2-ff29-4c4e-a810-c5480c451823",
   "metadata": {
    "deletable": true,
    "editable": true,
    "frozen": false
   },
   "source": [
    "---"
   ]
  },
  {
   "cell_type": "markdown",
   "id": "9b4b31d1-1c2a-43f6-ae51-0c1ba20c02ad",
   "metadata": {
    "deletable": false,
    "editable": false,
    "frozen": true
   },
   "source": [
    "### `問題 5.1.3` Apache Arrow Tableに変換\n",
    "\n",
    "5.1.1の`df_titanic`をApache Arrow Tableに変換し、変数`df_arrow`に代入してください。\n",
    "\n",
    "**解答欄**"
   ]
  },
  {
   "cell_type": "code",
   "execution_count": null,
   "id": "99f70410-a245-4b09-8092-4fcde7401a1e",
   "metadata": {
    "deletable": true,
    "editable": true,
    "frozen": false
   },
   "outputs": [],
   "source": [
    "# ここから解答を作成してください\n"
   ]
  },
  {
   "cell_type": "markdown",
   "id": "478c4827-16f7-4c3a-a965-8173c0ef0e4e",
   "metadata": {
    "deletable": false,
    "editable": false,
    "frozen": true
   },
   "source": [
    "<details><summary>解答例</summary>\n",
    "<br>\n",
    "\n",
    "```python\n",
    "df_arrow = df_titanic.to_arrow()\n",
    "df_arrow\n",
    "```\n",
    "</details>\n",
    "<br>\n",
    "\n",
    "**確認**"
   ]
  },
  {
   "cell_type": "code",
   "execution_count": null,
   "id": "57c24732-df30-4315-9ea0-a5b6bcc93248",
   "metadata": {
    "deletable": false,
    "editable": false,
    "frozen": false,
    "jupyter": {
     "source_hidden": true
    }
   },
   "outputs": [],
   "source": [
    "# このセルを実行してください\n",
    "try:\n",
    "    _ans = df_titanic.to_arrow()\n",
    "    assert _ans.equals(df_arrow)\n",
    "except (AssertionError, NameError):\n",
    "    print(\"\\x1b[31mNG\\x1b[39m\")\n",
    "    print(\"解答例を確認してください\")\n",
    "else:\n",
    "    print(\"\\x1b[32mOK\\x1b[39m\")\n",
    "    print(dedent(\"\"\"\\\n",
    "        解説: .to_arrow()は、PolarsのDataFrameをApache ArrowのTableに変換します。\n",
    "        Polarsは内部でArrowのメモリフォーマットを使用しているため、この変換は多くの場合ゼロコピー（データのコピーを伴わない）で行われ、非常に高速です。\n",
    "        ただし、Categorical型など一部のデータ型ではコピーが発生します。\n",
    "    \"\"\"))"
   ]
  },
  {
   "cell_type": "markdown",
   "id": "8038c1c0-deb2-443b-b62e-b95269dd9a2f",
   "metadata": {
    "deletable": true,
    "editable": true,
    "frozen": false
   },
   "source": [
    "---"
   ]
  },
  {
   "cell_type": "markdown",
   "id": "9d1891cd-b2c9-41e6-82f4-1f1ca20ea7ff",
   "metadata": {
    "deletable": false,
    "editable": false,
    "frozen": true
   },
   "source": [
    "### `問題 5.1.4` Apache Arrow TableからPolars\n",
    "\n",
    "5.1.3の`df_arrow`をPolarsのDataFrameに変換し、変数`ans`に代入してください。\n",
    "\n",
    "**解答欄**"
   ]
  },
  {
   "cell_type": "code",
   "execution_count": null,
   "id": "eb2fbba3-7311-49d0-a036-a347d71bde62",
   "metadata": {
    "deletable": true,
    "editable": true,
    "frozen": false
   },
   "outputs": [],
   "source": [
    "# ここから解答を作成してください\n"
   ]
  },
  {
   "cell_type": "markdown",
   "id": "02b55af6-1462-4df5-b208-deec52a2b0f5",
   "metadata": {
    "deletable": false,
    "editable": false,
    "frozen": true
   },
   "source": [
    "<details><summary>解答例</summary>\n",
    "<br>\n",
    "\n",
    "```python\n",
    "ans = pl.from_arrow(df_arrow)\n",
    "ans[:3]\n",
    "```\n",
    "</details>\n",
    "<br>\n",
    "\n",
    "**確認**"
   ]
  },
  {
   "cell_type": "code",
   "execution_count": null,
   "id": "6fcb0822-7a47-4407-a8ad-5eccd9fe6a40",
   "metadata": {
    "deletable": false,
    "editable": false,
    "frozen": false,
    "jupyter": {
     "source_hidden": true
    }
   },
   "outputs": [],
   "source": [
    "# このセルを実行してください\n",
    "try:\n",
    "    assert df_titanic.equals(ans)\n",
    "except (AssertionError, NameError):\n",
    "    print(\"\\x1b[31mNG\\x1b[39m\")\n",
    "    print(\"解答例を確認してください\")\n",
    "else:\n",
    "    print(\"\\x1b[32mOK\\x1b[39m\")\n",
    "    print(dedent(\"\"\"\\\n",
    "        解説: pl.from_arrow()も同様に、多くの場合ゼロコピーで変換を実行できます。\n",
    "        Arrowは多くのデータサイエンスツールで標準的なインメモリフォーマットとして採用されており、これを利用することでエコシステム内のツール間で効率的にデータを交換できます。\n",
    "    \"\"\"))"
   ]
  },
  {
   "cell_type": "markdown",
   "id": "0018acc2-0bcf-4a3b-ac3e-2b093c964f21",
   "metadata": {
    "deletable": true,
    "editable": true,
    "frozen": false
   },
   "source": [
    "---"
   ]
  },
  {
   "cell_type": "markdown",
   "id": "cb81342a-98aa-4f4e-a007-6e5cedbbef1f",
   "metadata": {
    "deletable": false,
    "editable": false,
    "frozen": true
   },
   "source": [
    "## Section 5.2: SQLインターフェース (SQLContext) (Knocks 102-105)\n",
    "\n",
    "Polarsは、SQLを使ってDataFrameを操作するための強力なインターフェースを提供します。\n"
   ]
  },
  {
   "cell_type": "markdown",
   "id": "74f1b702-01f6-4d61-8e0b-311381cdd94e",
   "metadata": {
    "deletable": false,
    "editable": false,
    "frozen": true
   },
   "source": [
    "### `問題 5.2.1` SQLContextにテーブル登録\n",
    "\n",
    "5.1.1の`df_titanic`のLazyDataFrameをSQLContext(`ctx`)にtitanicという名前で登録してください。\n",
    "\n",
    "**解答欄**"
   ]
  },
  {
   "cell_type": "code",
   "execution_count": null,
   "id": "d28003cd-4dd7-4ed5-8cb6-e33392193fff",
   "metadata": {
    "deletable": true,
    "editable": true,
    "frozen": false
   },
   "outputs": [],
   "source": [
    "ctx = pl.SQLContext()\n",
    "# ここから解答を作成してください\n"
   ]
  },
  {
   "cell_type": "markdown",
   "id": "b10187cc-c278-4ee6-b0b7-bf4c8e84c958",
   "metadata": {
    "deletable": false,
    "editable": false,
    "frozen": true
   },
   "source": [
    "<details><summary>解答例</summary>\n",
    "<br>\n",
    "\n",
    "```python\n",
    "ctx.register(\"titanic\", df_titanic.lazy())\n",
    "ctx.tables()\n",
    "```\n",
    "</details>\n",
    "<br>\n",
    "\n",
    "**確認**"
   ]
  },
  {
   "cell_type": "code",
   "execution_count": null,
   "id": "942393ea-a618-408f-91a6-b5c3395b5183",
   "metadata": {
    "deletable": false,
    "editable": false,
    "frozen": false,
    "jupyter": {
     "source_hidden": true
    }
   },
   "outputs": [],
   "source": [
    "# このセルを実行してください\n",
    "try:\n",
    "    assert ctx.tables() == [\"titanic\"]\n",
    "except (AssertionError, NameError):\n",
    "    print(\"\\x1b[31mNG\\x1b[39m\")\n",
    "    print(\"解答例を確認してください\")\n",
    "else:\n",
    "    print(\"\\x1b[32mOK\\x1b[39m\")\n",
    "    print(dedent(\"\"\"\\\n",
    "        解説: pl.SQLContext()でSQL実行コンテキストを作成し、.register()メソッドでDataFrameやLazyFrameをテーブルとして登録します。\n",
    "        テーブル名をキー、フレームを値とする辞書をコンテキストの初期化時に渡すこともできます。\n",
    "    \"\"\"))"
   ]
  },
  {
   "cell_type": "markdown",
   "id": "5afc1e4d-f9ad-439d-80c3-f644c6bda172",
   "metadata": {
    "deletable": true,
    "editable": true,
    "frozen": false
   },
   "source": [
    "---"
   ]
  },
  {
   "cell_type": "markdown",
   "id": "6c16d983-9a31-4a19-b4fd-bc7ca3b123a2",
   "metadata": {
    "deletable": false,
    "editable": false,
    "frozen": true
   },
   "source": [
    "### `問題 5.2.2` SQLクエリの実行\n",
    "\n",
    "`ctx`から次の要件でDataFrameを作成し、変数`ans`に代入してください。\n",
    "\n",
    "* 登録した'titanic'テーブルから、30歳以上の男性乗客をPclassの昇順で選択するSQLクエリを実行する\n",
    "\n",
    "**解答欄**"
   ]
  },
  {
   "cell_type": "code",
   "execution_count": null,
   "id": "70715ec2-0601-4539-a6b6-a32fc9e6a5d6",
   "metadata": {
    "deletable": true,
    "editable": true,
    "frozen": false
   },
   "outputs": [],
   "source": [
    "ctx = pl.SQLContext()\n",
    "ctx.register(\"titanic\", df_titanic)\n",
    "\n",
    "_query = \"\"\"\n",
    "SELECT Name, Age, Pclass\n",
    "FROM titanic\n",
    "WHERE Age >= 30 AND Sex = 'male'\n",
    "ORDER BY Pclass\n",
    "\"\"\"\n",
    "# ここから解答を作成してください\n"
   ]
  },
  {
   "cell_type": "markdown",
   "id": "5772eb90-ea21-46fe-8b0f-fd305c7fefc1",
   "metadata": {
    "deletable": false,
    "editable": false,
    "frozen": true
   },
   "source": [
    "<details><summary>解答例</summary>\n",
    "<br>\n",
    "\n",
    "```python\n",
    "ans = ctx.execute(_query).collect()\n",
    "ans[:3]\n",
    "```\n",
    "</details>\n",
    "<br>\n",
    "\n",
    "**確認**"
   ]
  },
  {
   "cell_type": "code",
   "execution_count": null,
   "id": "f702ec6b-04db-46ee-a244-e37d4e2f2472",
   "metadata": {
    "deletable": false,
    "editable": false,
    "frozen": false,
    "jupyter": {
     "source_hidden": true
    }
   },
   "outputs": [],
   "source": [
    "# このセルを実行してください\n",
    "try:\n",
    "    _ans = ctx.execute(_query).collect()\n",
    "    assert _ans.equals(ans)\n",
    "except (AssertionError, NameError):\n",
    "    print(\"\\x1b[31mNG\\x1b[39m\")\n",
    "    print(\"解答例を確認してください\")\n",
    "else:\n",
    "    print(\"\\x1b[32mOK\\x1b[39m\")\n",
    "    print(dedent(\"\"\"\\\n",
    "        解説: ctx.execute()はSQLクエリ文字列を受け取り、LazyFrameを返します。\n",
    "        結果をDataFrameとして得るには.collect()を呼び出します。eager=Trueを指定すると直接DataFrameが返されます。\n",
    "    \"\"\"))"
   ]
  },
  {
   "cell_type": "markdown",
   "id": "e2cd5e2f-83fe-4102-a6d8-931dabe61cc6",
   "metadata": {
    "deletable": true,
    "editable": true,
    "frozen": false
   },
   "source": [
    "---"
   ]
  },
  {
   "cell_type": "markdown",
   "id": "fbc232f2-f7a2-402a-bf58-e51c2194dd60",
   "metadata": {
    "deletable": false,
    "editable": false,
    "frozen": true
   },
   "source": [
    "### `問題 5.2.3` DataFrameに直接SQL実行\n",
    "\n",
    "次の要件でDataFrameを作成し、変数`ans`に代入してください。\n",
    "\n",
    "* グローバルスコープにあるDataFrameに対して pl.sql()を使って直接クエリを実行する\n",
    "\n",
    "**解答欄**"
   ]
  },
  {
   "cell_type": "code",
   "execution_count": null,
   "id": "3ae39e94-6e76-4177-9403-f5c9ce7bc392",
   "metadata": {
    "deletable": true,
    "editable": true,
    "frozen": false
   },
   "outputs": [],
   "source": [
    "_query = \"SELECT COUNT(*) as num_passengers FROM df_titanic\"\n",
    "\n",
    "# ここから解答を作成してください\n"
   ]
  },
  {
   "cell_type": "markdown",
   "id": "3b6f216b-03bb-43ee-94de-75c203112fb3",
   "metadata": {
    "deletable": false,
    "editable": false,
    "frozen": true
   },
   "source": [
    "<details><summary>解答例</summary>\n",
    "<br>\n",
    "\n",
    "```python\n",
    "ans = pl.sql(_query).collect()\n",
    "ans[:3]\n",
    "```\n",
    "</details>\n",
    "<br>\n",
    "\n",
    "**確認**"
   ]
  },
  {
   "cell_type": "code",
   "execution_count": null,
   "id": "2e318695-430f-4f76-ae6a-9fc3edf0da0c",
   "metadata": {
    "deletable": false,
    "editable": false,
    "frozen": false,
    "jupyter": {
     "source_hidden": true
    }
   },
   "outputs": [],
   "source": [
    "# このセルを実行してください\n",
    "try:\n",
    "    _ans = pl.sql(_query).collect()\n",
    "    assert _ans.equals(ans)\n",
    "except (AssertionError, NameError):\n",
    "    print(\"\\x1b[31mNG\\x1b[39m\")\n",
    "    print(\"解答例を確認してください\")\n",
    "else:\n",
    "    print(\"\\x1b[32mOK\\x1b[39m\")\n",
    "    print(dedent(\"\"\"\\\n",
    "        解説: pl.sql()は、現在のグローバルスコープ（Jupyter Notebookのセルなど）にあるDataFrameやLazyFrameを自動的にテーブルとして認識し、クエリを実行する便利な関数です。\n",
    "        PandasやArrowのオブジェクトもクエリ対象にできます。\n",
    "    \"\"\"))"
   ]
  },
  {
   "cell_type": "markdown",
   "id": "cd047554-7546-4c71-a755-d7e88a460262",
   "metadata": {
    "deletable": true,
    "editable": true,
    "frozen": false
   },
   "source": [
    "---"
   ]
  },
  {
   "cell_type": "markdown",
   "id": "793d676e-a639-43d0-bc0f-737c5ab982ca",
   "metadata": {
    "deletable": false,
    "editable": false,
    "frozen": true
   },
   "source": [
    "### `問題 5.2.4` SQLでテーブル作成\n",
    "\n",
    "5.2.1の`ctx`から次の要件でDataFrameを作成し、変数`ans`に代入してください。\n",
    "\n",
    "* 登録した'titanic'テーブルから、30歳以上の男性乗客をPclassの昇順で選択するSQLクエリを実行する\n",
    "\n",
    "**解答欄**"
   ]
  },
  {
   "cell_type": "code",
   "execution_count": null,
   "id": "fffdab20-6238-4730-983c-6da4a2f9edb0",
   "metadata": {
    "deletable": true,
    "editable": true,
    "frozen": false
   },
   "outputs": [],
   "source": [
    "_query = \"CREATE TABLE survivors AS SELECT * FROM titanic WHERE Survived = 1\"\n",
    "\n",
    "# ここから解答を作成してください\n"
   ]
  },
  {
   "cell_type": "markdown",
   "id": "4d1172be-6394-4d4f-8244-40e8274de594",
   "metadata": {
    "deletable": false,
    "editable": false,
    "frozen": true
   },
   "source": [
    "<details><summary>解答例</summary>\n",
    "<br>\n",
    "\n",
    "```python\n",
    "ans = ctx.execute(_query).collect()\n",
    "print(ans)\n",
    "ctx.tables()\n",
    "```\n",
    "</details>\n",
    "<br>\n",
    "\n",
    "**確認**"
   ]
  },
  {
   "cell_type": "code",
   "execution_count": null,
   "id": "9d93b69d-f121-42e6-966d-e3b8e6884466",
   "metadata": {
    "deletable": false,
    "editable": false,
    "frozen": false,
    "jupyter": {
     "source_hidden": true
    }
   },
   "outputs": [],
   "source": [
    "# このセルを実行してください\n",
    "try:\n",
    "    _ans = ctx.execute(_query).collect()\n",
    "    assert _ans.equals(ans)\n",
    "except (AssertionError, NameError):\n",
    "    print(\"\\x1b[31mNG\\x1b[39m\")\n",
    "    print(\"解答例を確認してください\")\n",
    "else:\n",
    "    print(\"\\x1b[32mOK\\x1b[39m\")\n",
    "    print(dedent(\"\"\"\\\n",
    "        解説: CREATE TABLE AS SELECT...構文をサポートしており、SQLクエリの結果を新しいテーブルとしてコンテキストに登録できます。\n",
    "        これにより、複雑なデータ準備パイプラインをSQLで記述することが可能になります。\n",
    "    \"\"\"))"
   ]
  },
  {
   "cell_type": "markdown",
   "id": "f46718aa-73d5-420a-aea1-33c195abb3ff",
   "metadata": {
    "deletable": true,
    "editable": true,
    "frozen": false
   },
   "source": [
    "---"
   ]
  },
  {
   "cell_type": "markdown",
   "id": "be67b67b-9686-4db5-80c4-658fce62c9a7",
   "metadata": {
    "deletable": false,
    "editable": false,
    "frozen": true
   },
   "source": [
    "## Section 5.3: グラフ (Knocks 106-107)\n",
    "\n",
    "Polarsでは、DataFrame.plotを通して、`bar`、`line`、`scatter`でグラフを描画できます。\n",
    "\n",
    "https://docs.pola.rs/user-guide/misc/visualization/\n"
   ]
  },
  {
   "cell_type": "markdown",
   "id": "dd492631-8870-410e-bfb0-023184ecbaba",
   "metadata": {
    "deletable": false,
    "editable": false,
    "frozen": true
   },
   "source": [
    "### `問題 5.3.1` 折れ線グラフ\n",
    "\n",
    "`_df`を使って次の要件で折れ線グラフを作成し、変数`ans`に代入してください。\n",
    "\n",
    "* X軸は列`Name`\n",
    "* Y軸は列`Score`\n",
    "* Y軸のラベルは`得点`\n",
    "* 列`Subject`ごとに線を引くこと\n",
    "\n",
    "**解答欄**"
   ]
  },
  {
   "cell_type": "code",
   "execution_count": null,
   "id": "78ff4107-65e1-4013-9e9a-86dda6a922ad",
   "metadata": {
    "deletable": true,
    "editable": true,
    "frozen": false
   },
   "outputs": [],
   "source": [
    "import altair as alt\n",
    "\n",
    "_df = pl.DataFrame({\n",
    "    \"Name\": [\"A\", \"A\", \"B\", \"B\", \"C\", \"C\"],\n",
    "    \"Subject\": [\"Math\", \"Music\", \"Math\", \"Music\", \"Math\", \"Music\"],\n",
    "    \"Score\": [85, 90, 94, 88, 80, 93],\n",
    "})\n",
    "# ここから解答を作成してください\n"
   ]
  },
  {
   "cell_type": "markdown",
   "id": "8943a7a7-a799-4a11-a33b-3b39e1b180b9",
   "metadata": {
    "deletable": false,
    "editable": false,
    "frozen": true
   },
   "source": [
    "<details><summary>解答例</summary>\n",
    "<br>\n",
    "\n",
    "```python\n",
    "ans = _df.plot.line(\n",
    "    x=\"Name\",\n",
    "    y=alt.Y(\"Score\", title=\"得点\"),\n",
    "    color=\"Subject\",\n",
    ")\n",
    "ans\n",
    "```\n",
    "</details>\n",
    "<br>\n",
    "\n",
    "**確認**"
   ]
  },
  {
   "cell_type": "code",
   "execution_count": null,
   "id": "4f952a87-d886-4155-9913-30e28fde6cf1",
   "metadata": {
    "deletable": false,
    "editable": false,
    "frozen": false,
    "jupyter": {
     "source_hidden": true
    }
   },
   "outputs": [],
   "source": [
    "# このセルを実行してください\n",
    "try:\n",
    "    _ans = _df.plot.line(\n",
    "        x=\"Name\",\n",
    "        y=alt.Y(\"Score\", title=\"得点\"),\n",
    "        color=\"Subject\",\n",
    "    )\n",
    "    assert _ans._kwds[\"encoding\"] == ans._kwds[\"encoding\"]\n",
    "except (AssertionError, NameError):\n",
    "    print(\"\\x1b[31mNG\\x1b[39m\")\n",
    "    print(\"解答例を確認してください\")\n",
    "else:\n",
    "    print(\"\\x1b[32mOK\\x1b[39m\")\n",
    "    print(dedent(\"\"\"\\\n",
    "        解説: 折れ線グラフは、plot.lineで、棒グラフはplot.barで描画できます。\n",
    "    \"\"\"))"
   ]
  },
  {
   "cell_type": "markdown",
   "id": "0c291b6a-47de-4ab3-a56e-8116ef6b550f",
   "metadata": {
    "deletable": true,
    "editable": true,
    "frozen": false
   },
   "source": [
    "---"
   ]
  },
  {
   "cell_type": "markdown",
   "id": "e77189e1-753a-4577-86b0-c16e1abda223",
   "metadata": {
    "deletable": false,
    "editable": false,
    "frozen": true
   },
   "source": [
    "### `問題 5.3.2` 散布図\n",
    "\n",
    "`_df`を使って次の要件で散布図を作成し、変数`ans`に代入してください。\n",
    "\n",
    "* X軸は列`Math`\n",
    "* Y軸は列`Music`\n",
    "* タイトルは`2教科の関係`\n",
    "\n",
    "**解答欄**"
   ]
  },
  {
   "cell_type": "code",
   "execution_count": null,
   "id": "42c724e8-6f4d-451a-b04c-904ad7e86360",
   "metadata": {
    "deletable": true,
    "editable": true,
    "frozen": false
   },
   "outputs": [],
   "source": [
    "import altair as alt\n",
    "\n",
    "_df = pl.DataFrame({\n",
    "    \"Math\": [33, 21, 42],\n",
    "    \"Music\": [23, 34, 26],\n",
    "})\n",
    "# ここから解答を作成してください\n"
   ]
  },
  {
   "cell_type": "markdown",
   "id": "c1feee26-95e0-4bdf-acef-d36a48803409",
   "metadata": {
    "deletable": false,
    "editable": false,
    "frozen": true
   },
   "source": [
    "<details><summary>解答例</summary>\n",
    "<br>\n",
    "\n",
    "```python\n",
    "ans = _df.plot.scatter(\n",
    "    x=\"Math\",\n",
    "    y=\"Music\",\n",
    ").properties(\n",
    "    title=\"2教科の関係\",\n",
    ")\n",
    "ans\n",
    "```\n",
    "</details>\n",
    "<br>\n",
    "\n",
    "**確認**"
   ]
  },
  {
   "cell_type": "code",
   "execution_count": null,
   "id": "555d60e7-151b-4c80-97d9-c9a4e49276bc",
   "metadata": {
    "deletable": false,
    "editable": false,
    "frozen": false,
    "jupyter": {
     "source_hidden": true
    }
   },
   "outputs": [],
   "source": [
    "# このセルを実行してください\n",
    "try:\n",
    "    _ans = _df.plot.scatter(\n",
    "        x=\"Math\",\n",
    "        y=\"Music\",\n",
    "    ).properties(\n",
    "        title=\"2教科の関係\",\n",
    "    )\n",
    "    assert _ans._kwds[\"encoding\"] == ans._kwds[\"encoding\"]\n",
    "    assert _ans._kwds[\"title\"] == ans._kwds[\"title\"]\n",
    "except (AssertionError, NameError):\n",
    "    print(\"\\x1b[31mNG\\x1b[39m\")\n",
    "    print(\"解答例を確認してください\")\n",
    "else:\n",
    "    print(\"\\x1b[32mOK\\x1b[39m\")\n",
    "    print(dedent(\"\"\"\\\n",
    "        解説: 散布図は、plot.scatterで描画できます。\n",
    "        これはaltair.Chartオブジェクトなので、propertiesで属性を設定できます。\n",
    "    \"\"\"))"
   ]
  },
  {
   "cell_type": "markdown",
   "id": "599a5f79-1c35-4d2b-916e-eb6d151d710a",
   "metadata": {
    "deletable": true,
    "editable": true,
    "frozen": false
   },
   "source": [
    "---"
   ]
  },
  {
   "cell_type": "markdown",
   "id": "361ea2ed-629c-457d-9c99-94b964e90b46",
   "metadata": {
    "deletable": false,
    "editable": false,
    "frozen": true
   },
   "source": [
    "## Section 5.4: 総合演習 (Knocks 108-109)\n"
   ]
  },
  {
   "cell_type": "markdown",
   "id": "337ee362-f6ae-48f6-8678-fb446c7b9730",
   "metadata": {
    "deletable": false,
    "editable": false,
    "frozen": true
   },
   "source": [
    "### `問題 5.4.1` 時系列異常検知\n",
    "\n",
    "この演習では、NYC Weatherデータセットを使い、これまでに学んだ複数のスキルを組み合わせて、気温の異常値を検出します。\n",
    "\n",
    "`_df`を元に、下記の処理の最終結果を、変数`ans`に代入してください。\n",
    "\n",
    "1. 列`DATE`をdate型に変更する\n",
    "2. 月ごとに、日次の最高気温(TMAX)の平均(MonthlyAvgTMAX)と標準偏差(MonthlyStdTMAX)を計算する\n",
    "3. 最高気温が、その月の平均から標準偏差の2倍以上離れている日を「異常日(IsAnomaly)」とする\n",
    "4. 異常日だけ抽出し日付順にソートする\n",
    "\n",
    "最初の3行が下記のようになること。\n",
    "\n",
    "| DATE       | PRCP | SNOW | SNWD | TMIN | TMAX | MonthlyAvgTMAX | MonthlyStdTMAX | IsAnomaly |\n",
    "|:-----------|-----:|-----:|:-----|-----:|-----:|---------------:|---------------:|:----------|\n",
    "| 1869-02-13 |    0 |    0 | null |   40 |   61 |      39.674638 |      10.025825 |      true |\n",
    "| 1869-12-01 | 0.07 |    0 | null |   33 |   62 |      41.974644 |        9.87885 |      true |\n",
    "| 1871-04-08 |    0 |    0 | null |   46 |   85 |       59.43658 |      10.327611 |      true |\n",
    "\n",
    "**解答欄**"
   ]
  },
  {
   "cell_type": "code",
   "execution_count": null,
   "id": "1cb9612a-bd4d-4c5e-ac0d-0b13c0928143",
   "metadata": {
    "deletable": true,
    "editable": true,
    "frozen": false
   },
   "outputs": [],
   "source": [
    "_file = \"../data/NYC_Central_Park_weather_1869-2022.csv\"\n",
    "_df = pl.scan_csv(_file)\n",
    "\n",
    "# ここから解答を作成してください\n"
   ]
  },
  {
   "cell_type": "markdown",
   "id": "8597b5ba-e4d7-452b-9569-1fa45a4447d6",
   "metadata": {
    "deletable": false,
    "editable": false,
    "frozen": true
   },
   "source": [
    "<details><summary>解答例</summary>\n",
    "<br>\n",
    "\n",
    "```python\n",
    "# 1. 列`DATE`をdate型に変更\n",
    "_tmp = _df.with_columns(col.DATE.str.to_date())\n",
    "\n",
    "# 2. 月ごとの最高気温(TMAX)の平均と標準偏差の計算\n",
    "_tmp = _tmp.with_columns(\n",
    "    MonthlyAvgTMAX=col.TMAX.mean().over(col.DATE.dt.month()),\n",
    "    MonthlyStdTMAX=col.TMAX.std().over(col.DATE.dt.month()),\n",
    ")\n",
    "\n",
    "# 3. 最高気温が月平均から標準偏差の2倍以上を異常日\n",
    "_tmp = _tmp.with_columns(\n",
    "    IsAnomaly=col.TMAX > col.MonthlyAvgTMAX + 2 * col.MonthlyStdTMAX,\n",
    ")\n",
    "\n",
    "# 4. 異常日のを抽出してソート\n",
    "ans = _tmp.filter(col.IsAnomaly).sort(\"DATE\").collect()\n",
    "\n",
    "ans[:3]\n",
    "```\n",
    "</details>\n",
    "<br>\n",
    "\n",
    "**確認**"
   ]
  },
  {
   "cell_type": "code",
   "execution_count": null,
   "id": "08e38852-d18a-49fc-bfad-d4bbe15a3c00",
   "metadata": {
    "deletable": false,
    "editable": false,
    "frozen": false,
    "jupyter": {
     "source_hidden": true
    }
   },
   "outputs": [],
   "source": [
    "# このセルを実行してください\n",
    "try:\n",
    "    _ans = (\n",
    "        _df.with_columns(col.DATE.str.to_date())\n",
    "        .with_columns(\n",
    "            MonthlyAvgTMAX=col.TMAX.mean().over(col.DATE.dt.month()),\n",
    "            MonthlyStdTMAX=col.TMAX.std().over(col.DATE.dt.month()),\n",
    "        )\n",
    "        .with_columns(\n",
    "            IsAnomaly=col.MonthlyAvgTMAX + 2 * col.MonthlyStdTMAX < col.TMAX,\n",
    "        )\n",
    "        .filter(col.IsAnomaly).sort(\"DATE\").collect()\n",
    "    )\n",
    "    assert _ans.equals(ans)\n",
    "except (AssertionError, NameError):\n",
    "    print(\"\\x1b[31mNG\\x1b[39m\")\n",
    "    print(\"解答例を確認してください\")\n",
    "else:\n",
    "    print(\"\\x1b[32mOK\\x1b[39m\")"
   ]
  },
  {
   "cell_type": "markdown",
   "id": "d0840ff5-ee33-4fc4-a53e-0bc360cd49d7",
   "metadata": {
    "deletable": true,
    "editable": true,
    "frozen": false
   },
   "source": [
    "---"
   ]
  },
  {
   "cell_type": "markdown",
   "id": "eae12170-71c4-4343-98ba-0de6054768bc",
   "metadata": {
    "deletable": false,
    "editable": false,
    "frozen": true
   },
   "source": [
    "### `問題 5.4.2` 顧客のRFM分析\n",
    "\n",
    "この最終演習では、Online Retailデータセットを用いて、顧客セグメンテーションの一般的な手法であるRFM（Recency, Frequency, Monetary）分析を行います。これは、データクリーニング、時系列処理、複雑な集計など、多くのスキルを統合する実践的な課題です。\n",
    "\n",
    "`_df`を元に、各顧客についてRFM指標を計算し、最終結果を変数`ans`に代入してください。\n",
    "\n",
    "**手順**\n",
    "\n",
    "1. データクリーニング\n",
    "  * InvoiceDateをdatetime型に変換(`format=\"%m/%d/%y %H:%M\"`)\n",
    "  * Quantity > 0、UnitPrice > 0、CustomerIDが欠損以外でフィルタリング\n",
    "\n",
    "2. RFM指標を計算\n",
    "  * CustomerIDでグループ化し以下を修正\n",
    "    * 列`Recency`として、「グループ化前のInvoiceDateの最大値」からInvoiceDateの最大値を引いた日数+1\n",
    "    * 列`Frequency`として、InvoiceNoのユニーク数\n",
    "    * 列`Monetary`として、(Quantity * UnitPrice)の合計\n",
    "\n",
    "3. 列`Monetary`で降順に、列`CustomerID`で昇順にソート\n",
    "\n",
    "最初の3行が下記のようになること。\n",
    "\n",
    "| CustomerID | Recency | Frequency |  Monetary |\n",
    "|-----------:|--------:|----------:|----------:|\n",
    "|      14646 |       7 |        29 | 121973.65 |\n",
    "|      18102 |      12 |        20 | 106601.55 |\n",
    "|      12346 |     160 |         1 |   77183.6 |\n",
    "\n",
    "**解答欄**"
   ]
  },
  {
   "cell_type": "code",
   "execution_count": null,
   "id": "866a1273-91d1-43d5-9ef0-e229c04a9e99",
   "metadata": {
    "deletable": true,
    "editable": true,
    "frozen": false
   },
   "outputs": [],
   "source": [
    "_file = \"../data/online_retail.parquet\"\n",
    "_df = pl.scan_parquet(_file)\n",
    "\n",
    "# ここから解答を作成してください\n"
   ]
  },
  {
   "cell_type": "markdown",
   "id": "a7d7fad3-c29e-471e-800a-918c04179e51",
   "metadata": {
    "deletable": false,
    "editable": false,
    "frozen": true
   },
   "source": [
    "<details><summary>解答例</summary>\n",
    "<br>\n",
    "\n",
    "```python\n",
    "# 1. データクリーニング\n",
    "_tmp = _df.with_columns(\n",
    "    col.InvoiceDate.str.to_datetime(format=\"%m/%d/%y %H:%M\"),\n",
    ").filter(\n",
    "    col.Quantity > 0,\n",
    "    col.UnitPrice > 0,\n",
    "    col.CustomerID.is_not_null(),\n",
    ")\n",
    "\n",
    "# 2. RFM指標を計算\n",
    "_tmp = (\n",
    "    _tmp.with_columns(\n",
    "        Recency=(\n",
    "            col.InvoiceDate.max() - col.InvoiceDate.max().over(\"CustomerID\")\n",
    "        ).dt.total_days() + 1,\n",
    "    )\n",
    "    .group_by(\"CustomerID\")\n",
    "    .agg(\n",
    "        col.Recency.first(),\n",
    "        Frequency=col.InvoiceNo.n_unique(),\n",
    "        Monetary=(col.Quantity * col.UnitPrice).sum(),\n",
    "    )\n",
    ")\n",
    "\n",
    "# 3. 列`Monetary`で降順に、列`CustomerID`で昇順にソート\n",
    "ans = _tmp.sort([\"Monetary\", \"CustomerID\"], descending=[True, False]).collect()\n",
    "\n",
    "ans[:3]\n",
    "```\n",
    "</details>\n",
    "<br>\n",
    "\n",
    "**確認**"
   ]
  },
  {
   "cell_type": "code",
   "execution_count": null,
   "id": "6b3a1704-2818-4a55-94a2-fc8b9472e94e",
   "metadata": {
    "deletable": false,
    "editable": false,
    "frozen": false,
    "jupyter": {
     "source_hidden": true
    }
   },
   "outputs": [],
   "source": [
    "# このセルを実行してください\n",
    "try:\n",
    "    _ans = (\n",
    "        pl.scan_parquet(_file).with_columns(\n",
    "            col.InvoiceDate.str.to_datetime(format=\"%m/%d/%y %H:%M\")\n",
    "        ).filter(\n",
    "            col.Quantity > 0, col.UnitPrice > 0, col.CustomerID.is_not_null()\n",
    "        ).with_columns(\n",
    "            Recency=(\n",
    "                col.InvoiceDate.max() - col.InvoiceDate.max().over(\"CustomerID\")\n",
    "            ).dt.total_days() + 1,\n",
    "        ).group_by(\"CustomerID\").agg(\n",
    "            col.Recency.first(),\n",
    "            Frequency=col.InvoiceNo.n_unique(),\n",
    "            Monetary=(col.Quantity * col.UnitPrice).sum(),\n",
    "        ).sort([\"Monetary\", \"CustomerID\"], descending=[True, False]).collect()\n",
    "    )\n",
    "    assert _ans.equals(ans)\n",
    "except (AssertionError, NameError):\n",
    "    print(\"\\x1b[31mNG\\x1b[39m\")\n",
    "    print(\"解答例を確認してください\")\n",
    "else:\n",
    "    print(\"\\x1b[32mOK\\x1b[39m\")"
   ]
  },
  {
   "cell_type": "markdown",
   "id": "739d7250-0409-43ec-b9c4-66f27522f331",
   "metadata": {
    "deletable": true,
    "editable": true,
    "frozen": false
   },
   "source": [
    "---"
   ]
  },
  {
   "cell_type": "markdown",
   "id": "e2bd7545-512f-4de6-b481-e8f94320ad95",
   "metadata": {
    "deletable": false,
    "editable": false,
    "frozen": true
   },
   "source": [
    "# おわりに\n",
    "\n",
    "この「Polars 100+ノック」を通じて、Polarsの基本的なデータ構造から、その真価を発揮する強力な式API、そしてパフォーマンスを極限まで高める遅延実行とクエリ最適化まで、幅広い機能を体系的に学習しました。  \n",
    "基本的なデータ操作から始まり、時系列分析、複雑な結合、ネストされたデータの処理、さらにはSQLや他のライブラリとの連携に至るまで、実践的な演習を通してPolarsの思想と使い方を深く理解できたはずです。\n",
    "\n",
    "Polarsは単に「速いPandas」ではありません。それは、現代のハードウェアとデータ形式を前提に、ゼロから設計された次世代のデータ操作ツールです。一貫性のあるAPI、表現力豊かな式、そして自動的なクエリ最適化は、よりクリーンで、より高速で、よりスケーラブルなデータ分析パイプラインの構築を可能にします。\n",
    "\n",
    "この100+ノックは、あなたのPolars学習の旅の始まりに過ぎません。ここで得た知識とスキルを土台として、日々の業務でPolarsを積極的に活用し、その驚異的なパフォーマンスと生産性をぜひ体感してください。  \n",
    "Polarsのコミュニティは活発であり、ライブラリは日々進化しています。公式ドキュメントやコミュニティのリソースを活用し、常に最新の情報を追い続けることで、データ処理のエキスパートとしての能力をさらに高めていくことができるでしょう。\n"
   ]
  }
 ],
 "metadata": {
  "kernelspec": {
   "display_name": "Python 3 (ipykernel)",
   "language": "python",
   "name": "python3"
  },
  "language_info": {
   "codemirror_mode": {
    "name": "ipython",
    "version": 3
   },
   "file_extension": ".py",
   "mimetype": "text/x-python",
   "name": "python",
   "nbconvert_exporter": "python",
   "pygments_lexer": "ipython3",
   "version": "3.13.2"
  }
 },
 "nbformat": 4,
 "nbformat_minor": 5
}
